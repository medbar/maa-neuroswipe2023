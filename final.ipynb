{
 "cells": [
  {
   "cell_type": "code",
   "execution_count": 1,
   "id": "940a9afe",
   "metadata": {},
   "outputs": [
    {
     "data": {
      "text/plain": [
       "True"
      ]
     },
     "execution_count": 1,
     "metadata": {},
     "output_type": "execute_result"
    }
   ],
   "source": [
    "%load_ext autoreload\n",
    "%autoreload 2\n",
    "import torch\n",
    "import numpy as np\n",
    "import random\n",
    "import pandas as pd\n",
    "from torch import nn\n",
    "from glob import glob\n",
    "from tqdm.auto import tqdm\n",
    "from torchaudio import transforms as T\n",
    "import pytorch_lightning as pl \n",
    "from maatool.data.feats_itdataset_v2 import FeatsIterableDatasetV2\n",
    "from maatool.models.transformer import TransformerWithSinPos\n",
    "from maatool.models.conformer import ConformerWithSinPos\n",
    "from copy import deepcopy\n",
    "torch.cuda.is_available()"
   ]
  },
  {
   "cell_type": "code",
   "execution_count": 2,
   "id": "55a47f36",
   "metadata": {},
   "outputs": [],
   "source": [
    "import logging\n",
    "import logging.config\n",
    "\n",
    "def configure_logging(log_level):\n",
    "    handlers =  {\n",
    "            \"maa\": {\n",
    "                \"class\": \"logging.StreamHandler\",\n",
    "                \"formatter\": \"maa_basic\",\n",
    "                \"stream\": \"ext://sys.stdout\",\n",
    "            }\n",
    "    }\n",
    "    CONFIG = {\n",
    "        \"version\": 1,\n",
    "        \"disable_existing_loggers\": False,\n",
    "        \"formatters\": {\"maa_basic\": {\"format\": '%(asctime)s %(name)s %(pathname)s:%(lineno)d - %(levelname)s - %(message)s'}},\n",
    "        \"handlers\": handlers,\n",
    "        \"loggers\": {\"maa\": {\"handlers\": handlers.keys(), \"level\": log_level}},\n",
    "        \"root\": {\"handlers\": handlers.keys(), \"level\": log_level}\n",
    "    }\n",
    "    logging.config.dictConfig(CONFIG)\n",
    "configure_logging(\"INFO\")"
   ]
  },
  {
   "cell_type": "code",
   "execution_count": 3,
   "id": "adeb5859",
   "metadata": {},
   "outputs": [],
   "source": [
    "from collections import defaultdict"
   ]
  },
  {
   "cell_type": "code",
   "execution_count": 4,
   "id": "0c09ffd6",
   "metadata": {},
   "outputs": [],
   "source": [
    "from maatool.lightning.swipe_recognizer import SwipeTransformerRecognizer"
   ]
  },
  {
   "cell_type": "code",
   "execution_count": 8,
   "id": "b4460d59",
   "metadata": {},
   "outputs": [
    {
     "name": "stdout",
     "output_type": "stream",
     "text": [
      "PositionalEncoding shape is torch.Size([400, 1, 512])\n"
     ]
    }
   ],
   "source": [
    "model = TransformerWithSinPos(feats_dim=37, num_tokens=500)\n",
    "\n",
    "v5_ckpt = 'exp/models/transformer_sc/lightning_logs/version_50424998/checkpoints/last.ckpt'\n",
    "pl_module = SwipeTransformerRecognizer.load_from_checkpoint(v5_ckpt,\n",
    "                                                            backbone=model, \n",
    "                                                            map_location='cpu')\n"
   ]
  },
  {
   "cell_type": "code",
   "execution_count": 5,
   "id": "6bc6122d",
   "metadata": {},
   "outputs": [
    {
     "name": "stdout",
     "output_type": "stream",
     "text": [
      "2023-11-12 22:20:01,313 root /mnt/asr_hot/mitrofanov-aa/projects/chime7/chime7_stc_recipe/egs/it9/ya/maatool/data/feats_itdataset_v2.py:44 - INFO - Loading targets from ark:exp/bpe500/valid-text.int\n"
     ]
    },
    {
     "data": {
      "application/vnd.jupyter.widget-view+json": {
       "model_id": "6a76ca253100422cb27dbcf7996d44a0",
       "version_major": 2,
       "version_minor": 0
      },
      "text/plain": [
       "Loading targets...: 0it [00:00, ?it/s]"
      ]
     },
     "metadata": {},
     "output_type": "display_data"
    }
   ],
   "source": [
    "val_ds = FeatsIterableDatasetV2([f\"ark:data_feats/valid/feats.ark\"], \n",
    "                             targets_rspecifier='ark:exp/bpe500/valid-text.int', \n",
    "                                shuffle=False,\n",
    "                               bos_id=1, \n",
    "                               eos_id=2,\n",
    "                               batch_first=False)\n",
    "val_dataloader = torch.utils.data.DataLoader(val_ds, batch_size=1, collate_fn=val_ds.collate_pad)\n"
   ]
  },
  {
   "cell_type": "code",
   "execution_count": 6,
   "id": "b01c0a50",
   "metadata": {},
   "outputs": [
    {
     "name": "stderr",
     "output_type": "stream",
     "text": [
      "GPU available: True (cuda), used: True\n",
      "TPU available: False, using: 0 TPU cores\n",
      "IPU available: False, using: 0 IPUs\n",
      "HPU available: False, using: 0 HPUs\n"
     ]
    }
   ],
   "source": [
    "trainer = pl.Trainer(callbacks=[pl.callbacks.TQDMProgressBar(refresh_rate=100)])"
   ]
  },
  {
   "cell_type": "code",
   "execution_count": 11,
   "id": "dcba2630",
   "metadata": {},
   "outputs": [
    {
     "name": "stderr",
     "output_type": "stream",
     "text": [
      "LOCAL_RANK: 0 - CUDA_VISIBLE_DEVICES: [0]\n",
      "SLURM auto-requeueing enabled. Setting signal handlers.\n",
      "/mnt/asr_hot/mitrofanov-aa/projects/chime7/chime7_stc_recipe/anaconda/lib/python3.9/site-packages/pytorch_lightning/trainer/connectors/data_connector.py:430: PossibleUserWarning: The dataloader, test_dataloader, does not have many workers which may be a bottleneck. Consider increasing the value of the `num_workers` argument` (try 96 which is the number of cpus on this machine) in the `DataLoader` init to improve performance.\n",
      "  rank_zero_warn(\n",
      "/mnt/asr_hot/mitrofanov-aa/projects/chime7/chime7_stc_recipe/anaconda/lib/python3.9/site-packages/pytorch_lightning/utilities/data.py:120: UserWarning: Your `IterableDataset` has `__len__` defined. In combination with multi-process data loading (when num_workers > 1), `__len__` could be inaccurate if each worker is not configured independently to avoid having duplicate data.\n",
      "  rank_zero_warn(\n"
     ]
    },
    {
     "data": {
      "application/vnd.jupyter.widget-view+json": {
       "model_id": "e322f6d4036d47349dce9b2ca4d9e946",
       "version_major": 2,
       "version_minor": 0
      },
      "text/plain": [
       "Testing: 0it [00:00, ?it/s]"
      ]
     },
     "metadata": {},
     "output_type": "display_data"
    },
    {
     "name": "stdout",
     "output_type": "stream",
     "text": [
      "2023-11-12 10:53:30,865 root /mnt/asr_hot/mitrofanov-aa/projects/chime7/chime7_stc_recipe/egs/it9/ya/maatool/data/feats_itdataset_v2.py:68 - INFO - Processing ark:data_feats/valid/feats.ark\n"
     ]
    },
    {
     "name": "stderr",
     "output_type": "stream",
     "text": [
      "/mnt/asr_hot/mitrofanov-aa/projects/chime7/chime7_stc_recipe/egs/it9/ya/maatool/data/feats_itdataset_v2.py:81: UserWarning: The given NumPy array is not writable, and PyTorch does not support non-writable tensors. This means writing to this tensor will result in undefined behavior. You may want to copy the array to protect its data or make it writable before converting it to a tensor. This type of warning will be suppressed for the rest of this program. (Triggered internally at ../torch/csrc/utils/tensor_numpy.cpp:206.)\n",
      "  'feats': torch.as_tensor(feats, dtype=torch.float32),\n"
     ]
    },
    {
     "data": {
      "text/html": [
       "<pre style=\"white-space:pre;overflow-x:auto;line-height:normal;font-family:Menlo,'DejaVu Sans Mono',consolas,'Courier New',monospace\">┏━━━━━━━━━━━━━━━━━━━━━━━━━━━┳━━━━━━━━━━━━━━━━━━━━━━━━━━━┓\n",
       "┃<span style=\"font-weight: bold\">        Test metric        </span>┃<span style=\"font-weight: bold\">       DataLoader 0        </span>┃\n",
       "┡━━━━━━━━━━━━━━━━━━━━━━━━━━━╇━━━━━━━━━━━━━━━━━━━━━━━━━━━┩\n",
       "│<span style=\"color: #008080; text-decoration-color: #008080\">         test_loss         </span>│<span style=\"color: #800080; text-decoration-color: #800080\">    0.20462335646152496    </span>│\n",
       "└───────────────────────────┴───────────────────────────┘\n",
       "</pre>\n"
      ],
      "text/plain": [
       "┏━━━━━━━━━━━━━━━━━━━━━━━━━━━┳━━━━━━━━━━━━━━━━━━━━━━━━━━━┓\n",
       "┃\u001b[1m \u001b[0m\u001b[1m       Test metric       \u001b[0m\u001b[1m \u001b[0m┃\u001b[1m \u001b[0m\u001b[1m      DataLoader 0       \u001b[0m\u001b[1m \u001b[0m┃\n",
       "┡━━━━━━━━━━━━━━━━━━━━━━━━━━━╇━━━━━━━━━━━━━━━━━━━━━━━━━━━┩\n",
       "│\u001b[36m \u001b[0m\u001b[36m        test_loss        \u001b[0m\u001b[36m \u001b[0m│\u001b[35m \u001b[0m\u001b[35m   0.20462335646152496   \u001b[0m\u001b[35m \u001b[0m│\n",
       "└───────────────────────────┴───────────────────────────┘\n"
      ]
     },
     "metadata": {},
     "output_type": "display_data"
    },
    {
     "name": "stdout",
     "output_type": "stream",
     "text": [
      "[{'test_loss': 0.20462335646152496}]\n"
     ]
    }
   ],
   "source": [
    "result = trainer.test(pl_module, val_dataloader)\n",
    "print(result)"
   ]
  },
  {
   "cell_type": "code",
   "execution_count": 51,
   "id": "297d4ec7",
   "metadata": {},
   "outputs": [
    {
     "name": "stdout",
     "output_type": "stream",
     "text": [
      "PositionalEncoding shape is torch.Size([400, 1, 512])\n"
     ]
    }
   ],
   "source": [
    "model = TransformerWithSinPos(feats_dim=37, num_tokens=500)\n",
    "\n",
    "v12_ckpt = 'exp/models/t_finetune_with_sa/lightning_logs/version_50454224/checkpoints/epoch=2-step=70000.ckpt'\n",
    "pl_module = SwipeTransformerRecognizer.load_from_checkpoint(v12_ckpt,\n",
    "                                                            backbone=model, \n",
    "                                                            map_location='cpu')"
   ]
  },
  {
   "cell_type": "code",
   "execution_count": 52,
   "id": "e1721a4c",
   "metadata": {},
   "outputs": [
    {
     "name": "stderr",
     "output_type": "stream",
     "text": [
      "LOCAL_RANK: 0 - CUDA_VISIBLE_DEVICES: [0]\n",
      "SLURM auto-requeueing enabled. Setting signal handlers.\n",
      "/mnt/asr_hot/mitrofanov-aa/projects/chime7/chime7_stc_recipe/anaconda/lib/python3.9/site-packages/pytorch_lightning/trainer/connectors/data_connector.py:430: PossibleUserWarning: The dataloader, test_dataloader, does not have many workers which may be a bottleneck. Consider increasing the value of the `num_workers` argument` (try 96 which is the number of cpus on this machine) in the `DataLoader` init to improve performance.\n",
      "  rank_zero_warn(\n",
      "/mnt/asr_hot/mitrofanov-aa/projects/chime7/chime7_stc_recipe/anaconda/lib/python3.9/site-packages/pytorch_lightning/utilities/data.py:120: UserWarning: Your `IterableDataset` has `__len__` defined. In combination with multi-process data loading (when num_workers > 1), `__len__` could be inaccurate if each worker is not configured independently to avoid having duplicate data.\n",
      "  rank_zero_warn(\n"
     ]
    },
    {
     "data": {
      "application/vnd.jupyter.widget-view+json": {
       "model_id": "efa4ba60283e4f059ed7728b7e460062",
       "version_major": 2,
       "version_minor": 0
      },
      "text/plain": [
       "Testing: 0it [00:00, ?it/s]"
      ]
     },
     "metadata": {},
     "output_type": "display_data"
    },
    {
     "name": "stdout",
     "output_type": "stream",
     "text": [
      "2023-11-12 11:52:48,790 root /mnt/asr_hot/mitrofanov-aa/projects/chime7/chime7_stc_recipe/egs/it9/ya/maatool/data/feats_itdataset_v2.py:68 - INFO - Processing ark:data_feats/valid/feats.ark\n"
     ]
    },
    {
     "data": {
      "text/html": [
       "<pre style=\"white-space:pre;overflow-x:auto;line-height:normal;font-family:Menlo,'DejaVu Sans Mono',consolas,'Courier New',monospace\">┏━━━━━━━━━━━━━━━━━━━━━━━━━━━┳━━━━━━━━━━━━━━━━━━━━━━━━━━━┓\n",
       "┃<span style=\"font-weight: bold\">        Test metric        </span>┃<span style=\"font-weight: bold\">       DataLoader 0        </span>┃\n",
       "┡━━━━━━━━━━━━━━━━━━━━━━━━━━━╇━━━━━━━━━━━━━━━━━━━━━━━━━━━┩\n",
       "│<span style=\"color: #008080; text-decoration-color: #008080\">         test_loss         </span>│<span style=\"color: #800080; text-decoration-color: #800080\">    0.4720878303050995     </span>│\n",
       "└───────────────────────────┴───────────────────────────┘\n",
       "</pre>\n"
      ],
      "text/plain": [
       "┏━━━━━━━━━━━━━━━━━━━━━━━━━━━┳━━━━━━━━━━━━━━━━━━━━━━━━━━━┓\n",
       "┃\u001b[1m \u001b[0m\u001b[1m       Test metric       \u001b[0m\u001b[1m \u001b[0m┃\u001b[1m \u001b[0m\u001b[1m      DataLoader 0       \u001b[0m\u001b[1m \u001b[0m┃\n",
       "┡━━━━━━━━━━━━━━━━━━━━━━━━━━━╇━━━━━━━━━━━━━━━━━━━━━━━━━━━┩\n",
       "│\u001b[36m \u001b[0m\u001b[36m        test_loss        \u001b[0m\u001b[36m \u001b[0m│\u001b[35m \u001b[0m\u001b[35m   0.4720878303050995    \u001b[0m\u001b[35m \u001b[0m│\n",
       "└───────────────────────────┴───────────────────────────┘\n"
      ]
     },
     "metadata": {},
     "output_type": "display_data"
    },
    {
     "name": "stdout",
     "output_type": "stream",
     "text": [
      "[{'test_loss': 0.4720878303050995}]\n"
     ]
    }
   ],
   "source": [
    "result = trainer.test(pl_module, val_dataloader)\n",
    "print(result)"
   ]
  },
  {
   "cell_type": "code",
   "execution_count": 42,
   "id": "33bfbe21",
   "metadata": {},
   "outputs": [
    {
     "name": "stdout",
     "output_type": "stream",
     "text": [
      "PositionalEncoding shape is torch.Size([400, 1, 512])\n"
     ]
    }
   ],
   "source": [
    "model = ConformerWithSinPos(feats_dim=37, num_tokens=500, num_decoder_layers=8, num_encoder_layers=8)\n",
    "#v_13_ckpt = 'exp/models/conformer_v1/lightning_logs/version_50454211/checkpoints/epoch=0-step=60000.ckpt'\n",
    "v_15_ckpt = 'exp/models/conformer_v1/lightning_logs/version_50454211/checkpoints/last.ckpt'\n",
    "v_16_ckpt = 'exp/models/conformer_v1/lightning_logs/version_50454211/checkpoints/epoch=1-step=80000.ckpt'"
   ]
  },
  {
   "cell_type": "code",
   "execution_count": 43,
   "id": "e59dede4",
   "metadata": {},
   "outputs": [],
   "source": [
    "pl_module = SwipeTransformerRecognizer.load_from_checkpoint(v_16_ckpt,\n",
    "                                                            backbone=model, \n",
    "                                                            map_location='cpu')"
   ]
  },
  {
   "cell_type": "code",
   "execution_count": 44,
   "id": "192462e7",
   "metadata": {},
   "outputs": [
    {
     "name": "stderr",
     "output_type": "stream",
     "text": [
      "LOCAL_RANK: 0 - CUDA_VISIBLE_DEVICES: [0]\n",
      "SLURM auto-requeueing enabled. Setting signal handlers.\n",
      "/mnt/asr_hot/mitrofanov-aa/projects/chime7/chime7_stc_recipe/anaconda/lib/python3.9/site-packages/pytorch_lightning/trainer/connectors/data_connector.py:430: PossibleUserWarning: The dataloader, test_dataloader, does not have many workers which may be a bottleneck. Consider increasing the value of the `num_workers` argument` (try 96 which is the number of cpus on this machine) in the `DataLoader` init to improve performance.\n",
      "  rank_zero_warn(\n",
      "/mnt/asr_hot/mitrofanov-aa/projects/chime7/chime7_stc_recipe/anaconda/lib/python3.9/site-packages/pytorch_lightning/utilities/data.py:120: UserWarning: Your `IterableDataset` has `__len__` defined. In combination with multi-process data loading (when num_workers > 1), `__len__` could be inaccurate if each worker is not configured independently to avoid having duplicate data.\n",
      "  rank_zero_warn(\n"
     ]
    },
    {
     "data": {
      "application/vnd.jupyter.widget-view+json": {
       "model_id": "f2ea77535fdf4ae8ba46b1f2a07445e5",
       "version_major": 2,
       "version_minor": 0
      },
      "text/plain": [
       "Testing: 0it [00:00, ?it/s]"
      ]
     },
     "metadata": {},
     "output_type": "display_data"
    },
    {
     "name": "stdout",
     "output_type": "stream",
     "text": [
      "2023-11-12 23:18:16,480 root /mnt/asr_hot/mitrofanov-aa/projects/chime7/chime7_stc_recipe/egs/it9/ya/maatool/data/feats_itdataset_v2.py:68 - INFO - Processing ark:data_feats/valid/feats.ark\n"
     ]
    },
    {
     "data": {
      "text/html": [
       "<pre style=\"white-space:pre;overflow-x:auto;line-height:normal;font-family:Menlo,'DejaVu Sans Mono',consolas,'Courier New',monospace\">┏━━━━━━━━━━━━━━━━━━━━━━━━━━━┳━━━━━━━━━━━━━━━━━━━━━━━━━━━┓\n",
       "┃<span style=\"font-weight: bold\">        Test metric        </span>┃<span style=\"font-weight: bold\">       DataLoader 0        </span>┃\n",
       "┡━━━━━━━━━━━━━━━━━━━━━━━━━━━╇━━━━━━━━━━━━━━━━━━━━━━━━━━━┩\n",
       "│<span style=\"color: #008080; text-decoration-color: #008080\">         test_loss         </span>│<span style=\"color: #800080; text-decoration-color: #800080\">    0.14765197038650513    </span>│\n",
       "└───────────────────────────┴───────────────────────────┘\n",
       "</pre>\n"
      ],
      "text/plain": [
       "┏━━━━━━━━━━━━━━━━━━━━━━━━━━━┳━━━━━━━━━━━━━━━━━━━━━━━━━━━┓\n",
       "┃\u001b[1m \u001b[0m\u001b[1m       Test metric       \u001b[0m\u001b[1m \u001b[0m┃\u001b[1m \u001b[0m\u001b[1m      DataLoader 0       \u001b[0m\u001b[1m \u001b[0m┃\n",
       "┡━━━━━━━━━━━━━━━━━━━━━━━━━━━╇━━━━━━━━━━━━━━━━━━━━━━━━━━━┩\n",
       "│\u001b[36m \u001b[0m\u001b[36m        test_loss        \u001b[0m\u001b[36m \u001b[0m│\u001b[35m \u001b[0m\u001b[35m   0.14765197038650513   \u001b[0m\u001b[35m \u001b[0m│\n",
       "└───────────────────────────┴───────────────────────────┘\n"
      ]
     },
     "metadata": {},
     "output_type": "display_data"
    },
    {
     "name": "stdout",
     "output_type": "stream",
     "text": [
      "[{'test_loss': 0.14765197038650513}]\n"
     ]
    }
   ],
   "source": [
    "result = trainer.test(pl_module, val_dataloader)\n",
    "print(result)"
   ]
  },
  {
   "cell_type": "code",
   "execution_count": 45,
   "id": "68728e0f",
   "metadata": {},
   "outputs": [],
   "source": [
    "model_v15 = SwipeTransformerRecognizer.load_from_checkpoint(v_15_ckpt,\n",
    "                                                            backbone=model, \n",
    "                                                            map_location='cpu').backbone"
   ]
  },
  {
   "cell_type": "code",
   "execution_count": 48,
   "id": "128540d2",
   "metadata": {},
   "outputs": [],
   "source": [
    "model_v16 = SwipeTransformerRecognizer.load_from_checkpoint(v_16_ckpt,\n",
    "                                                            backbone=model, \n",
    "                                                            map_location='cpu').backbone"
   ]
  },
  {
   "cell_type": "code",
   "execution_count": null,
   "id": "46d53bcc",
   "metadata": {},
   "outputs": [],
   "source": []
  },
  {
   "cell_type": "code",
   "execution_count": null,
   "id": "928972d8",
   "metadata": {},
   "outputs": [],
   "source": []
  },
  {
   "cell_type": "code",
   "execution_count": null,
   "id": "297c3e24",
   "metadata": {},
   "outputs": [],
   "source": []
  },
  {
   "cell_type": "code",
   "execution_count": 89,
   "id": "a139e701",
   "metadata": {},
   "outputs": [],
   "source": [
    "model_2 = SwipeTransformerRecognizer.load_from_checkpoint(\n",
    "    \"exp/models/conformer_v1.3/lightning_logs/version_50464755/checkpoints/epoch=0-step=1000.ckpt.b\",\n",
    "                                                            backbone=model, \n",
    "                                                            map_location='cpu').backbone"
   ]
  },
  {
   "cell_type": "code",
   "execution_count": 98,
   "id": "915b83e0",
   "metadata": {},
   "outputs": [],
   "source": [
    "pl_module = SwipeTransformerRecognizer.load_from_checkpoint(\n",
    "    \"exp/models/conformer_v1.3/lightning_logs/version_50464755/checkpoints/epoch=0-step=1000.ckpt.b\",\n",
    "                                                            backbone=model, \n",
    "                                                            map_location='cpu')"
   ]
  },
  {
   "cell_type": "code",
   "execution_count": 10,
   "id": "d264424e",
   "metadata": {},
   "outputs": [],
   "source": [
    "#epoch=0-step=2000.ckpt\n",
    "#!cp \"exp/models/conformer_v1.7/lightning_logs/version_50464775/checkpoints/last.ckpt\" exp/models/conformer_v1.7/lightning_logs/version_50464775/checkpoints/last.ckpt.b\n",
    "pl_module = SwipeTransformerRecognizer.load_from_checkpoint(\n",
    "    \"exp/models/conformer_v1.7/lightning_logs/version_50464775/checkpoints/last.ckpt.b\",\n",
    "                                                            backbone=model, \n",
    "                                                            map_location='cpu')"
   ]
  },
  {
   "cell_type": "code",
   "execution_count": 49,
   "id": "a59286b3",
   "metadata": {},
   "outputs": [],
   "source": [
    "module_v7 = SwipeTransformerRecognizer.load_from_checkpoint(\n",
    "    \"exp/models/conformer_v1.7/lightning_logs/version_50464775/checkpoints/last.ckpt.b\",\n",
    "                                                            backbone=model, \n",
    "                                                            map_location='cpu').backbone"
   ]
  },
  {
   "cell_type": "code",
   "execution_count": 47,
   "id": "4f8bd140",
   "metadata": {},
   "outputs": [
    {
     "ename": "NameError",
     "evalue": "name 'model_v16' is not defined",
     "output_type": "error",
     "traceback": [
      "\u001b[0;31m---------------------------------------------------------------------------\u001b[0m",
      "\u001b[0;31mNameError\u001b[0m                                 Traceback (most recent call last)",
      "Cell \u001b[0;32mIn[47], line 7\u001b[0m\n\u001b[1;32m      5\u001b[0m         param\u001b[38;5;241m.\u001b[39mdata \u001b[38;5;241m=\u001b[39m param\u001b[38;5;241m.\u001b[39mdata\u001b[38;5;241m*\u001b[39mw[\u001b[38;5;241m0\u001b[39m] \u001b[38;5;241m+\u001b[39m state_dict2[full_param_name] \u001b[38;5;241m*\u001b[39m w[\u001b[38;5;241m1\u001b[39m]\n\u001b[1;32m      6\u001b[0m     \u001b[38;5;28;01mreturn\u001b[39;00m model_aver\n\u001b[0;32m----> 7\u001b[0m model_aver \u001b[38;5;241m=\u001b[39m average(\u001b[43mmodel_v16\u001b[49m, pl_module\u001b[38;5;241m.\u001b[39mbackbone)\n",
      "\u001b[0;31mNameError\u001b[0m: name 'model_v16' is not defined"
     ]
    }
   ],
   "source": [
    "def average(model1, model2, w=[0.5, 0.5]):\n",
    "    model_aver = deepcopy(model1)\n",
    "    state_dict2 = model2.state_dict()\n",
    "    for full_param_name, param in model_aver.named_parameters():\n",
    "        param.data = param.data*w[0] + state_dict2[full_param_name] * w[1]\n",
    "    return model_aver\n",
    "model_aver = average(model_v16, pl_module.backbone)"
   ]
  },
  {
   "cell_type": "code",
   "execution_count": 50,
   "id": "f0a108aa",
   "metadata": {},
   "outputs": [],
   "source": [
    "model_aver = average(model_v16, module_v7)"
   ]
  },
  {
   "cell_type": "code",
   "execution_count": 51,
   "id": "a4941933",
   "metadata": {},
   "outputs": [],
   "source": [
    "pl_module.backbone = model_aver"
   ]
  },
  {
   "cell_type": "code",
   "execution_count": 52,
   "id": "7d3ee903",
   "metadata": {},
   "outputs": [
    {
     "name": "stderr",
     "output_type": "stream",
     "text": [
      "LOCAL_RANK: 0 - CUDA_VISIBLE_DEVICES: [0]\n",
      "SLURM auto-requeueing enabled. Setting signal handlers.\n",
      "/mnt/asr_hot/mitrofanov-aa/projects/chime7/chime7_stc_recipe/anaconda/lib/python3.9/site-packages/pytorch_lightning/trainer/connectors/data_connector.py:430: PossibleUserWarning: The dataloader, test_dataloader, does not have many workers which may be a bottleneck. Consider increasing the value of the `num_workers` argument` (try 96 which is the number of cpus on this machine) in the `DataLoader` init to improve performance.\n",
      "  rank_zero_warn(\n",
      "/mnt/asr_hot/mitrofanov-aa/projects/chime7/chime7_stc_recipe/anaconda/lib/python3.9/site-packages/pytorch_lightning/utilities/data.py:120: UserWarning: Your `IterableDataset` has `__len__` defined. In combination with multi-process data loading (when num_workers > 1), `__len__` could be inaccurate if each worker is not configured independently to avoid having duplicate data.\n",
      "  rank_zero_warn(\n"
     ]
    },
    {
     "data": {
      "application/vnd.jupyter.widget-view+json": {
       "model_id": "42e4731e363a466daf9eb157952ef4ca",
       "version_major": 2,
       "version_minor": 0
      },
      "text/plain": [
       "Testing: 0it [00:00, ?it/s]"
      ]
     },
     "metadata": {},
     "output_type": "display_data"
    },
    {
     "name": "stdout",
     "output_type": "stream",
     "text": [
      "2023-11-12 23:27:26,078 root /mnt/asr_hot/mitrofanov-aa/projects/chime7/chime7_stc_recipe/egs/it9/ya/maatool/data/feats_itdataset_v2.py:68 - INFO - Processing ark:data_feats/valid/feats.ark\n"
     ]
    },
    {
     "data": {
      "text/html": [
       "<pre style=\"white-space:pre;overflow-x:auto;line-height:normal;font-family:Menlo,'DejaVu Sans Mono',consolas,'Courier New',monospace\">┏━━━━━━━━━━━━━━━━━━━━━━━━━━━┳━━━━━━━━━━━━━━━━━━━━━━━━━━━┓\n",
       "┃<span style=\"font-weight: bold\">        Test metric        </span>┃<span style=\"font-weight: bold\">       DataLoader 0        </span>┃\n",
       "┡━━━━━━━━━━━━━━━━━━━━━━━━━━━╇━━━━━━━━━━━━━━━━━━━━━━━━━━━┩\n",
       "│<span style=\"color: #008080; text-decoration-color: #008080\">         test_loss         </span>│<span style=\"color: #800080; text-decoration-color: #800080\">    0.14889037609100342    </span>│\n",
       "└───────────────────────────┴───────────────────────────┘\n",
       "</pre>\n"
      ],
      "text/plain": [
       "┏━━━━━━━━━━━━━━━━━━━━━━━━━━━┳━━━━━━━━━━━━━━━━━━━━━━━━━━━┓\n",
       "┃\u001b[1m \u001b[0m\u001b[1m       Test metric       \u001b[0m\u001b[1m \u001b[0m┃\u001b[1m \u001b[0m\u001b[1m      DataLoader 0       \u001b[0m\u001b[1m \u001b[0m┃\n",
       "┡━━━━━━━━━━━━━━━━━━━━━━━━━━━╇━━━━━━━━━━━━━━━━━━━━━━━━━━━┩\n",
       "│\u001b[36m \u001b[0m\u001b[36m        test_loss        \u001b[0m\u001b[36m \u001b[0m│\u001b[35m \u001b[0m\u001b[35m   0.14889037609100342   \u001b[0m\u001b[35m \u001b[0m│\n",
       "└───────────────────────────┴───────────────────────────┘\n"
      ]
     },
     "metadata": {},
     "output_type": "display_data"
    },
    {
     "name": "stdout",
     "output_type": "stream",
     "text": [
      "[{'test_loss': 0.14889037609100342}]\n"
     ]
    }
   ],
   "source": [
    "#pl_module = SwipeTransformerRecognizer(backbone=model_aver)\n",
    "result = trainer.test(pl_module, val_dataloader)\n",
    "print(result)"
   ]
  },
  {
   "cell_type": "code",
   "execution_count": 53,
   "id": "6bed97a2",
   "metadata": {},
   "outputs": [
    {
     "name": "stderr",
     "output_type": "stream",
     "text": [
      "LOCAL_RANK: 0 - CUDA_VISIBLE_DEVICES: [0]\n",
      "SLURM auto-requeueing enabled. Setting signal handlers.\n"
     ]
    },
    {
     "data": {
      "application/vnd.jupyter.widget-view+json": {
       "model_id": "de12ff07ad7c4bf18206a298a83ca003",
       "version_major": 2,
       "version_minor": 0
      },
      "text/plain": [
       "Testing: 0it [00:00, ?it/s]"
      ]
     },
     "metadata": {},
     "output_type": "display_data"
    },
    {
     "name": "stdout",
     "output_type": "stream",
     "text": [
      "2023-11-12 23:31:16,256 root /mnt/asr_hot/mitrofanov-aa/projects/chime7/chime7_stc_recipe/egs/it9/ya/maatool/data/feats_itdataset_v2.py:68 - INFO - Processing ark:data_feats/valid/feats.ark\n"
     ]
    },
    {
     "data": {
      "text/html": [
       "<pre style=\"white-space:pre;overflow-x:auto;line-height:normal;font-family:Menlo,'DejaVu Sans Mono',consolas,'Courier New',monospace\">┏━━━━━━━━━━━━━━━━━━━━━━━━━━━┳━━━━━━━━━━━━━━━━━━━━━━━━━━━┓\n",
       "┃<span style=\"font-weight: bold\">        Test metric        </span>┃<span style=\"font-weight: bold\">       DataLoader 0        </span>┃\n",
       "┡━━━━━━━━━━━━━━━━━━━━━━━━━━━╇━━━━━━━━━━━━━━━━━━━━━━━━━━━┩\n",
       "│<span style=\"color: #008080; text-decoration-color: #008080\">         test_loss         </span>│<span style=\"color: #800080; text-decoration-color: #800080\">    0.14025358855724335    </span>│\n",
       "└───────────────────────────┴───────────────────────────┘\n",
       "</pre>\n"
      ],
      "text/plain": [
       "┏━━━━━━━━━━━━━━━━━━━━━━━━━━━┳━━━━━━━━━━━━━━━━━━━━━━━━━━━┓\n",
       "┃\u001b[1m \u001b[0m\u001b[1m       Test metric       \u001b[0m\u001b[1m \u001b[0m┃\u001b[1m \u001b[0m\u001b[1m      DataLoader 0       \u001b[0m\u001b[1m \u001b[0m┃\n",
       "┡━━━━━━━━━━━━━━━━━━━━━━━━━━━╇━━━━━━━━━━━━━━━━━━━━━━━━━━━┩\n",
       "│\u001b[36m \u001b[0m\u001b[36m        test_loss        \u001b[0m\u001b[36m \u001b[0m│\u001b[35m \u001b[0m\u001b[35m   0.14025358855724335   \u001b[0m\u001b[35m \u001b[0m│\n",
       "└───────────────────────────┴───────────────────────────┘\n"
      ]
     },
     "metadata": {},
     "output_type": "display_data"
    },
    {
     "name": "stdout",
     "output_type": "stream",
     "text": [
      "[{'test_loss': 0.14025358855724335}]\n"
     ]
    }
   ],
   "source": [
    "pl_module = SwipeTransformerRecognizer.load_from_checkpoint(\n",
    "    \"exp/models/conformer_v1.2/lightning_logs/version_50463954/checkpoints/epoch=0-step=20000.ckpt\",\n",
    "                                                            backbone=model, \n",
    "                                                            map_location='cpu')\n",
    "result = trainer.test(pl_module, val_dataloader)\n",
    "print(result)                  "
   ]
  },
  {
   "cell_type": "code",
   "execution_count": 58,
   "id": "93b9b182",
   "metadata": {},
   "outputs": [
    {
     "name": "stderr",
     "output_type": "stream",
     "text": [
      "LOCAL_RANK: 0 - CUDA_VISIBLE_DEVICES: [0]\n",
      "SLURM auto-requeueing enabled. Setting signal handlers.\n"
     ]
    },
    {
     "data": {
      "application/vnd.jupyter.widget-view+json": {
       "model_id": "6589f969dd794b299f99e0e3ed1ad159",
       "version_major": 2,
       "version_minor": 0
      },
      "text/plain": [
       "Testing: 0it [00:00, ?it/s]"
      ]
     },
     "metadata": {},
     "output_type": "display_data"
    },
    {
     "name": "stdout",
     "output_type": "stream",
     "text": [
      "2023-11-12 23:39:34,977 root /mnt/asr_hot/mitrofanov-aa/projects/chime7/chime7_stc_recipe/egs/it9/ya/maatool/data/feats_itdataset_v2.py:68 - INFO - Processing ark:data_feats/valid/feats.ark\n"
     ]
    },
    {
     "data": {
      "text/html": [
       "<pre style=\"white-space:pre;overflow-x:auto;line-height:normal;font-family:Menlo,'DejaVu Sans Mono',consolas,'Courier New',monospace\">┏━━━━━━━━━━━━━━━━━━━━━━━━━━━┳━━━━━━━━━━━━━━━━━━━━━━━━━━━┓\n",
       "┃<span style=\"font-weight: bold\">        Test metric        </span>┃<span style=\"font-weight: bold\">       DataLoader 0        </span>┃\n",
       "┡━━━━━━━━━━━━━━━━━━━━━━━━━━━╇━━━━━━━━━━━━━━━━━━━━━━━━━━━┩\n",
       "│<span style=\"color: #008080; text-decoration-color: #008080\">         test_loss         </span>│<span style=\"color: #800080; text-decoration-color: #800080\">    0.14039869606494904    </span>│\n",
       "└───────────────────────────┴───────────────────────────┘\n",
       "</pre>\n"
      ],
      "text/plain": [
       "┏━━━━━━━━━━━━━━━━━━━━━━━━━━━┳━━━━━━━━━━━━━━━━━━━━━━━━━━━┓\n",
       "┃\u001b[1m \u001b[0m\u001b[1m       Test metric       \u001b[0m\u001b[1m \u001b[0m┃\u001b[1m \u001b[0m\u001b[1m      DataLoader 0       \u001b[0m\u001b[1m \u001b[0m┃\n",
       "┡━━━━━━━━━━━━━━━━━━━━━━━━━━━╇━━━━━━━━━━━━━━━━━━━━━━━━━━━┩\n",
       "│\u001b[36m \u001b[0m\u001b[36m        test_loss        \u001b[0m\u001b[36m \u001b[0m│\u001b[35m \u001b[0m\u001b[35m   0.14039869606494904   \u001b[0m\u001b[35m \u001b[0m│\n",
       "└───────────────────────────┴───────────────────────────┘\n"
      ]
     },
     "metadata": {},
     "output_type": "display_data"
    },
    {
     "name": "stdout",
     "output_type": "stream",
     "text": [
      "[{'test_loss': 0.14039869606494904}]\n"
     ]
    }
   ],
   "source": [
    "pl_module = SwipeTransformerRecognizer.load_from_checkpoint(\n",
    "    \"exp/models/conformer_v1.3/lightning_logs/version_50464755/checkpoints/epoch=0-step=18000.ckpt.b\",\n",
    "                                                            backbone=model, \n",
    "                                                            map_location='cpu')\n",
    "result = trainer.test(pl_module, val_dataloader)\n",
    "print(result)                  "
   ]
  },
  {
   "cell_type": "code",
   "execution_count": 59,
   "id": "f76c863c",
   "metadata": {},
   "outputs": [
    {
     "name": "stderr",
     "output_type": "stream",
     "text": [
      "LOCAL_RANK: 0 - CUDA_VISIBLE_DEVICES: [0]\n",
      "SLURM auto-requeueing enabled. Setting signal handlers.\n"
     ]
    },
    {
     "data": {
      "application/vnd.jupyter.widget-view+json": {
       "model_id": "b89b82dafee74f2a8ba6ea178cbecbc6",
       "version_major": 2,
       "version_minor": 0
      },
      "text/plain": [
       "Testing: 0it [00:00, ?it/s]"
      ]
     },
     "metadata": {},
     "output_type": "display_data"
    },
    {
     "name": "stdout",
     "output_type": "stream",
     "text": [
      "2023-11-12 23:43:17,982 root /mnt/asr_hot/mitrofanov-aa/projects/chime7/chime7_stc_recipe/egs/it9/ya/maatool/data/feats_itdataset_v2.py:68 - INFO - Processing ark:data_feats/valid/feats.ark\n"
     ]
    },
    {
     "data": {
      "text/html": [
       "<pre style=\"white-space:pre;overflow-x:auto;line-height:normal;font-family:Menlo,'DejaVu Sans Mono',consolas,'Courier New',monospace\">┏━━━━━━━━━━━━━━━━━━━━━━━━━━━┳━━━━━━━━━━━━━━━━━━━━━━━━━━━┓\n",
       "┃<span style=\"font-weight: bold\">        Test metric        </span>┃<span style=\"font-weight: bold\">       DataLoader 0        </span>┃\n",
       "┡━━━━━━━━━━━━━━━━━━━━━━━━━━━╇━━━━━━━━━━━━━━━━━━━━━━━━━━━┩\n",
       "│<span style=\"color: #008080; text-decoration-color: #008080\">         test_loss         </span>│<span style=\"color: #800080; text-decoration-color: #800080\">    0.14039869606494904    </span>│\n",
       "└───────────────────────────┴───────────────────────────┘\n",
       "</pre>\n"
      ],
      "text/plain": [
       "┏━━━━━━━━━━━━━━━━━━━━━━━━━━━┳━━━━━━━━━━━━━━━━━━━━━━━━━━━┓\n",
       "┃\u001b[1m \u001b[0m\u001b[1m       Test metric       \u001b[0m\u001b[1m \u001b[0m┃\u001b[1m \u001b[0m\u001b[1m      DataLoader 0       \u001b[0m\u001b[1m \u001b[0m┃\n",
       "┡━━━━━━━━━━━━━━━━━━━━━━━━━━━╇━━━━━━━━━━━━━━━━━━━━━━━━━━━┩\n",
       "│\u001b[36m \u001b[0m\u001b[36m        test_loss        \u001b[0m\u001b[36m \u001b[0m│\u001b[35m \u001b[0m\u001b[35m   0.14039869606494904   \u001b[0m\u001b[35m \u001b[0m│\n",
       "└───────────────────────────┴───────────────────────────┘\n"
      ]
     },
     "metadata": {},
     "output_type": "display_data"
    },
    {
     "name": "stdout",
     "output_type": "stream",
     "text": [
      "[{'test_loss': 0.14039869606494904}]\n"
     ]
    }
   ],
   "source": [
    "pl_module = SwipeTransformerRecognizer.load_from_checkpoint(\n",
    "    \"exp/models/conformer_v1.2/lightning_logs/version_50463954/checkpoints/epoch=0-step=20000.ckpt.b\",\n",
    "                                                            backbone=model, \n",
    "                                                            map_location='cpu')\n",
    "pl_module2 = SwipeTransformerRecognizer.load_from_checkpoint(\n",
    "    \"exp/models/conformer_v1.3/lightning_logs/version_50464755/checkpoints/epoch=0-step=18000.ckpt.b\",\n",
    "                                                            backbone=model, \n",
    "                                                            map_location='cpu')\n",
    "model_aver = average(pl_module.backbone, pl_module2.backbone)\n",
    "pl_module.backbone = model_aver\n",
    "result = trainer.test(pl_module, val_dataloader)\n",
    "print(result)"
   ]
  },
  {
   "cell_type": "code",
   "execution_count": null,
   "id": "56ea1d5b",
   "metadata": {},
   "outputs": [],
   "source": [
    "pl_module.backbone = average_state_dicts([\n",
    "    SwipeTransformerRecognizer.load_from_checkpoint(ckpt,\n",
    "                                                    backbone=model, \n",
    "                                                    map_location='cpu').eval().backbone\n",
    "    for ckpt in [\"exp/models/conformer_v1.2/lightning_logs/version_50463954/checkpoints/epoch=0-step=20000.ckpt.b\", \n",
    "                \"exp/models/conformer_v1.7/lightning_logs/version_50464775/checkpoints/last.ckpt.b\",\n",
    "                \"exp/models/conformer_v1.6/lightning_logs/version_50464766/checkpoints/epoch=0-step=5000.ckpt\"]\n",
    "])\n",
    "#result = trainer.test(pl_module, val_dataloader)\n",
    "#print(result)"
   ]
  },
  {
   "cell_type": "code",
   "execution_count": null,
   "id": "5f34be42",
   "metadata": {},
   "outputs": [],
   "source": [
    "pl_module = SwipeTransformerRecognizer(backbone=average_state_dicts([\n",
    "    SwipeTransformerRecognizer.load_from_checkpoint(ckpt,\n",
    "                                                    backbone=model, \n",
    "                                                    map_location='cpu').eval().backbone\n",
    "    for ckpt in [\"exp/models/conformer_v1.2/lightning_logs/version_50463954/checkpoints/epoch=0-step=20000.ckpt.b\", \n",
    "                \"exp/models/conformer_v1.7/lightning_logs/version_50464775/checkpoints/last.ckpt.b\",\n",
    "                \"exp/models/conformer_v1.6/lightning_logs/version_50464766/checkpoints/epoch=0-step=5000.ckpt\"]\n",
    "]))\n",
    "result = trainer.test(pl_module, val_dataloader)\n",
    "print(result)"
   ]
  },
  {
   "cell_type": "code",
   "execution_count": null,
   "id": "242d691a",
   "metadata": {},
   "outputs": [],
   "source": []
  },
  {
   "cell_type": "code",
   "execution_count": null,
   "id": "3935ea57",
   "metadata": {},
   "outputs": [],
   "source": []
  },
  {
   "cell_type": "code",
   "execution_count": 120,
   "id": "fa3fa988",
   "metadata": {},
   "outputs": [
    {
     "name": "stderr",
     "output_type": "stream",
     "text": [
      "LOCAL_RANK: 0 - CUDA_VISIBLE_DEVICES: [0]\n",
      "SLURM auto-requeueing enabled. Setting signal handlers.\n"
     ]
    },
    {
     "data": {
      "application/vnd.jupyter.widget-view+json": {
       "model_id": "a74d066217fe4385ac217861adad736b",
       "version_major": 2,
       "version_minor": 0
      },
      "text/plain": [
       "Testing: 0it [00:00, ?it/s]"
      ]
     },
     "metadata": {},
     "output_type": "display_data"
    },
    {
     "name": "stdout",
     "output_type": "stream",
     "text": [
      "2023-11-12 20:54:44,126 root /mnt/asr_hot/mitrofanov-aa/projects/chime7/chime7_stc_recipe/egs/it9/ya/maatool/data/feats_itdataset_v2.py:68 - INFO - Processing ark:data_feats/valid/feats.ark\n"
     ]
    },
    {
     "data": {
      "text/html": [
       "<pre style=\"white-space:pre;overflow-x:auto;line-height:normal;font-family:Menlo,'DejaVu Sans Mono',consolas,'Courier New',monospace\">┏━━━━━━━━━━━━━━━━━━━━━━━━━━━┳━━━━━━━━━━━━━━━━━━━━━━━━━━━┓\n",
       "┃<span style=\"font-weight: bold\">        Test metric        </span>┃<span style=\"font-weight: bold\">       DataLoader 0        </span>┃\n",
       "┡━━━━━━━━━━━━━━━━━━━━━━━━━━━╇━━━━━━━━━━━━━━━━━━━━━━━━━━━┩\n",
       "│<span style=\"color: #008080; text-decoration-color: #008080\">         test_loss         </span>│<span style=\"color: #800080; text-decoration-color: #800080\">     0.147256538271904     </span>│\n",
       "└───────────────────────────┴───────────────────────────┘\n",
       "</pre>\n"
      ],
      "text/plain": [
       "┏━━━━━━━━━━━━━━━━━━━━━━━━━━━┳━━━━━━━━━━━━━━━━━━━━━━━━━━━┓\n",
       "┃\u001b[1m \u001b[0m\u001b[1m       Test metric       \u001b[0m\u001b[1m \u001b[0m┃\u001b[1m \u001b[0m\u001b[1m      DataLoader 0       \u001b[0m\u001b[1m \u001b[0m┃\n",
       "┡━━━━━━━━━━━━━━━━━━━━━━━━━━━╇━━━━━━━━━━━━━━━━━━━━━━━━━━━┩\n",
       "│\u001b[36m \u001b[0m\u001b[36m        test_loss        \u001b[0m\u001b[36m \u001b[0m│\u001b[35m \u001b[0m\u001b[35m    0.147256538271904    \u001b[0m\u001b[35m \u001b[0m│\n",
       "└───────────────────────────┴───────────────────────────┘\n"
      ]
     },
     "metadata": {},
     "output_type": "display_data"
    },
    {
     "name": "stdout",
     "output_type": "stream",
     "text": [
      "[{'test_loss': 0.147256538271904}]\n"
     ]
    }
   ],
   "source": [
    "pl_module = SwipeTransformerRecognizer.load_from_checkpoint(\n",
    "    \"exp/models/conformer_v1.5/lightning_logs/version_50464765/checkpoints/epoch=0-step=5000.ckpt\",\n",
    "                                                            backbone=model, \n",
    "                                                            map_location='cpu')\n",
    "model_aver = average(model_v15, pl_module.backbone)\n",
    "pl_module = SwipeTransformerRecognizer(backbone=model_aver)  \n",
    "result = trainer.test(pl_module, val_dataloader)\n",
    "print(result)"
   ]
  },
  {
   "cell_type": "code",
   "execution_count": 121,
   "id": "f8125f94",
   "metadata": {},
   "outputs": [
    {
     "name": "stderr",
     "output_type": "stream",
     "text": [
      "LOCAL_RANK: 0 - CUDA_VISIBLE_DEVICES: [0]\n",
      "SLURM auto-requeueing enabled. Setting signal handlers.\n"
     ]
    },
    {
     "data": {
      "application/vnd.jupyter.widget-view+json": {
       "model_id": "8fe108e2ad2a487799ea5de681d807fb",
       "version_major": 2,
       "version_minor": 0
      },
      "text/plain": [
       "Testing: 0it [00:00, ?it/s]"
      ]
     },
     "metadata": {},
     "output_type": "display_data"
    },
    {
     "name": "stdout",
     "output_type": "stream",
     "text": [
      "2023-11-12 20:57:09,551 root /mnt/asr_hot/mitrofanov-aa/projects/chime7/chime7_stc_recipe/egs/it9/ya/maatool/data/feats_itdataset_v2.py:68 - INFO - Processing ark:data_feats/valid/feats.ark\n"
     ]
    },
    {
     "data": {
      "text/html": [
       "<pre style=\"white-space:pre;overflow-x:auto;line-height:normal;font-family:Menlo,'DejaVu Sans Mono',consolas,'Courier New',monospace\">┏━━━━━━━━━━━━━━━━━━━━━━━━━━━┳━━━━━━━━━━━━━━━━━━━━━━━━━━━┓\n",
       "┃<span style=\"font-weight: bold\">        Test metric        </span>┃<span style=\"font-weight: bold\">       DataLoader 0        </span>┃\n",
       "┡━━━━━━━━━━━━━━━━━━━━━━━━━━━╇━━━━━━━━━━━━━━━━━━━━━━━━━━━┩\n",
       "│<span style=\"color: #008080; text-decoration-color: #008080\">         test_loss         </span>│<span style=\"color: #800080; text-decoration-color: #800080\">    0.1440354734659195     </span>│\n",
       "└───────────────────────────┴───────────────────────────┘\n",
       "</pre>\n"
      ],
      "text/plain": [
       "┏━━━━━━━━━━━━━━━━━━━━━━━━━━━┳━━━━━━━━━━━━━━━━━━━━━━━━━━━┓\n",
       "┃\u001b[1m \u001b[0m\u001b[1m       Test metric       \u001b[0m\u001b[1m \u001b[0m┃\u001b[1m \u001b[0m\u001b[1m      DataLoader 0       \u001b[0m\u001b[1m \u001b[0m┃\n",
       "┡━━━━━━━━━━━━━━━━━━━━━━━━━━━╇━━━━━━━━━━━━━━━━━━━━━━━━━━━┩\n",
       "│\u001b[36m \u001b[0m\u001b[36m        test_loss        \u001b[0m\u001b[36m \u001b[0m│\u001b[35m \u001b[0m\u001b[35m   0.1440354734659195    \u001b[0m\u001b[35m \u001b[0m│\n",
       "└───────────────────────────┴───────────────────────────┘\n"
      ]
     },
     "metadata": {},
     "output_type": "display_data"
    },
    {
     "name": "stdout",
     "output_type": "stream",
     "text": [
      "[{'test_loss': 0.1440354734659195}]\n"
     ]
    }
   ],
   "source": [
    "pl_module = SwipeTransformerRecognizer.load_from_checkpoint(\n",
    "    \"exp/models/conformer_v1.6/lightning_logs/version_50464766/checkpoints/epoch=0-step=5000.ckpt\",\n",
    "                                                            backbone=model, \n",
    "                                                            map_location='cpu')\n",
    "model_aver = average(model_v15, pl_module.backbone)\n",
    "pl_module = SwipeTransformerRecognizer(backbone=model_aver)  \n",
    "result = trainer.test(pl_module, val_dataloader)\n",
    "print(result)"
   ]
  },
  {
   "cell_type": "code",
   "execution_count": 123,
   "id": "05e4ccdd",
   "metadata": {},
   "outputs": [
    {
     "name": "stderr",
     "output_type": "stream",
     "text": [
      "LOCAL_RANK: 0 - CUDA_VISIBLE_DEVICES: [0]\n",
      "SLURM auto-requeueing enabled. Setting signal handlers.\n"
     ]
    },
    {
     "data": {
      "application/vnd.jupyter.widget-view+json": {
       "model_id": "6a64dde47de947958a0e2d308bff4d50",
       "version_major": 2,
       "version_minor": 0
      },
      "text/plain": [
       "Testing: 0it [00:00, ?it/s]"
      ]
     },
     "metadata": {},
     "output_type": "display_data"
    },
    {
     "name": "stdout",
     "output_type": "stream",
     "text": [
      "2023-11-12 21:01:24,868 root /mnt/asr_hot/mitrofanov-aa/projects/chime7/chime7_stc_recipe/egs/it9/ya/maatool/data/feats_itdataset_v2.py:68 - INFO - Processing ark:data_feats/valid/feats.ark\n"
     ]
    },
    {
     "data": {
      "text/html": [
       "<pre style=\"white-space:pre;overflow-x:auto;line-height:normal;font-family:Menlo,'DejaVu Sans Mono',consolas,'Courier New',monospace\">┏━━━━━━━━━━━━━━━━━━━━━━━━━━━┳━━━━━━━━━━━━━━━━━━━━━━━━━━━┓\n",
       "┃<span style=\"font-weight: bold\">        Test metric        </span>┃<span style=\"font-weight: bold\">       DataLoader 0        </span>┃\n",
       "┡━━━━━━━━━━━━━━━━━━━━━━━━━━━╇━━━━━━━━━━━━━━━━━━━━━━━━━━━┩\n",
       "│<span style=\"color: #008080; text-decoration-color: #008080\">         test_loss         </span>│<span style=\"color: #800080; text-decoration-color: #800080\">    0.14874745905399323    </span>│\n",
       "└───────────────────────────┴───────────────────────────┘\n",
       "</pre>\n"
      ],
      "text/plain": [
       "┏━━━━━━━━━━━━━━━━━━━━━━━━━━━┳━━━━━━━━━━━━━━━━━━━━━━━━━━━┓\n",
       "┃\u001b[1m \u001b[0m\u001b[1m       Test metric       \u001b[0m\u001b[1m \u001b[0m┃\u001b[1m \u001b[0m\u001b[1m      DataLoader 0       \u001b[0m\u001b[1m \u001b[0m┃\n",
       "┡━━━━━━━━━━━━━━━━━━━━━━━━━━━╇━━━━━━━━━━━━━━━━━━━━━━━━━━━┩\n",
       "│\u001b[36m \u001b[0m\u001b[36m        test_loss        \u001b[0m\u001b[36m \u001b[0m│\u001b[35m \u001b[0m\u001b[35m   0.14874745905399323   \u001b[0m\u001b[35m \u001b[0m│\n",
       "└───────────────────────────┴───────────────────────────┘\n"
      ]
     },
     "metadata": {},
     "output_type": "display_data"
    },
    {
     "name": "stdout",
     "output_type": "stream",
     "text": [
      "[{'test_loss': 0.14874745905399323}]\n"
     ]
    }
   ],
   "source": [
    "pl_module = SwipeTransformerRecognizer.load_from_checkpoint(\n",
    "    \"exp/models/conformer_v1.8/lightning_logs/version_50464785/checkpoints/epoch=0-step=5000.ckpt\",\n",
    "                                                            backbone=model, \n",
    "                                                            map_location='cpu')\n",
    "model_aver = average(model_v15, pl_module.backbone)\n",
    "pl_module = SwipeTransformerRecognizer(backbone=model_aver)  \n",
    "result = trainer.test(pl_module, val_dataloader)\n",
    "print(result)"
   ]
  },
  {
   "cell_type": "code",
   "execution_count": 124,
   "id": "27cc81b4",
   "metadata": {},
   "outputs": [
    {
     "name": "stderr",
     "output_type": "stream",
     "text": [
      "LOCAL_RANK: 0 - CUDA_VISIBLE_DEVICES: [0]\n",
      "SLURM auto-requeueing enabled. Setting signal handlers.\n"
     ]
    },
    {
     "data": {
      "application/vnd.jupyter.widget-view+json": {
       "model_id": "4ecd9dcd04e74e7c96d748448f1476a1",
       "version_major": 2,
       "version_minor": 0
      },
      "text/plain": [
       "Testing: 0it [00:00, ?it/s]"
      ]
     },
     "metadata": {},
     "output_type": "display_data"
    },
    {
     "name": "stdout",
     "output_type": "stream",
     "text": [
      "2023-11-12 21:03:48,264 root /mnt/asr_hot/mitrofanov-aa/projects/chime7/chime7_stc_recipe/egs/it9/ya/maatool/data/feats_itdataset_v2.py:68 - INFO - Processing ark:data_feats/valid/feats.ark\n"
     ]
    },
    {
     "data": {
      "text/html": [
       "<pre style=\"white-space:pre;overflow-x:auto;line-height:normal;font-family:Menlo,'DejaVu Sans Mono',consolas,'Courier New',monospace\">┏━━━━━━━━━━━━━━━━━━━━━━━━━━━┳━━━━━━━━━━━━━━━━━━━━━━━━━━━┓\n",
       "┃<span style=\"font-weight: bold\">        Test metric        </span>┃<span style=\"font-weight: bold\">       DataLoader 0        </span>┃\n",
       "┡━━━━━━━━━━━━━━━━━━━━━━━━━━━╇━━━━━━━━━━━━━━━━━━━━━━━━━━━┩\n",
       "│<span style=\"color: #008080; text-decoration-color: #008080\">         test_loss         </span>│<span style=\"color: #800080; text-decoration-color: #800080\">    0.15005610883235931    </span>│\n",
       "└───────────────────────────┴───────────────────────────┘\n",
       "</pre>\n"
      ],
      "text/plain": [
       "┏━━━━━━━━━━━━━━━━━━━━━━━━━━━┳━━━━━━━━━━━━━━━━━━━━━━━━━━━┓\n",
       "┃\u001b[1m \u001b[0m\u001b[1m       Test metric       \u001b[0m\u001b[1m \u001b[0m┃\u001b[1m \u001b[0m\u001b[1m      DataLoader 0       \u001b[0m\u001b[1m \u001b[0m┃\n",
       "┡━━━━━━━━━━━━━━━━━━━━━━━━━━━╇━━━━━━━━━━━━━━━━━━━━━━━━━━━┩\n",
       "│\u001b[36m \u001b[0m\u001b[36m        test_loss        \u001b[0m\u001b[36m \u001b[0m│\u001b[35m \u001b[0m\u001b[35m   0.15005610883235931   \u001b[0m\u001b[35m \u001b[0m│\n",
       "└───────────────────────────┴───────────────────────────┘\n"
      ]
     },
     "metadata": {},
     "output_type": "display_data"
    },
    {
     "name": "stdout",
     "output_type": "stream",
     "text": [
      "[{'test_loss': 0.15005610883235931}]\n"
     ]
    }
   ],
   "source": [
    "pl_module = SwipeTransformerRecognizer.load_from_checkpoint(\n",
    "    \"exp/models/conformer_v1.9/lightning_logs/version_50464786/checkpoints/epoch=0-step=5000.ckpt\",\n",
    "                                                            backbone=model, \n",
    "                                                            map_location='cpu')\n",
    "model_aver = average(model_v15, pl_module.backbone)\n",
    "pl_module = SwipeTransformerRecognizer(backbone=model_aver)  \n",
    "result = trainer.test(pl_module, val_dataloader)\n",
    "print(result)"
   ]
  },
  {
   "cell_type": "code",
   "execution_count": 125,
   "id": "b913bbd8",
   "metadata": {},
   "outputs": [
    {
     "name": "stderr",
     "output_type": "stream",
     "text": [
      "LOCAL_RANK: 0 - CUDA_VISIBLE_DEVICES: [0]\n",
      "SLURM auto-requeueing enabled. Setting signal handlers.\n"
     ]
    },
    {
     "data": {
      "application/vnd.jupyter.widget-view+json": {
       "model_id": "1fda0c48a1bb4e1b8b3ee2db48000b39",
       "version_major": 2,
       "version_minor": 0
      },
      "text/plain": [
       "Testing: 0it [00:00, ?it/s]"
      ]
     },
     "metadata": {},
     "output_type": "display_data"
    },
    {
     "name": "stdout",
     "output_type": "stream",
     "text": [
      "2023-11-12 21:06:14,741 root /mnt/asr_hot/mitrofanov-aa/projects/chime7/chime7_stc_recipe/egs/it9/ya/maatool/data/feats_itdataset_v2.py:68 - INFO - Processing ark:data_feats/valid/feats.ark\n"
     ]
    },
    {
     "data": {
      "text/html": [
       "<pre style=\"white-space:pre;overflow-x:auto;line-height:normal;font-family:Menlo,'DejaVu Sans Mono',consolas,'Courier New',monospace\">┏━━━━━━━━━━━━━━━━━━━━━━━━━━━┳━━━━━━━━━━━━━━━━━━━━━━━━━━━┓\n",
       "┃<span style=\"font-weight: bold\">        Test metric        </span>┃<span style=\"font-weight: bold\">       DataLoader 0        </span>┃\n",
       "┡━━━━━━━━━━━━━━━━━━━━━━━━━━━╇━━━━━━━━━━━━━━━━━━━━━━━━━━━┩\n",
       "│<span style=\"color: #008080; text-decoration-color: #008080\">         test_loss         </span>│<span style=\"color: #800080; text-decoration-color: #800080\">    0.15291699767112732    </span>│\n",
       "└───────────────────────────┴───────────────────────────┘\n",
       "</pre>\n"
      ],
      "text/plain": [
       "┏━━━━━━━━━━━━━━━━━━━━━━━━━━━┳━━━━━━━━━━━━━━━━━━━━━━━━━━━┓\n",
       "┃\u001b[1m \u001b[0m\u001b[1m       Test metric       \u001b[0m\u001b[1m \u001b[0m┃\u001b[1m \u001b[0m\u001b[1m      DataLoader 0       \u001b[0m\u001b[1m \u001b[0m┃\n",
       "┡━━━━━━━━━━━━━━━━━━━━━━━━━━━╇━━━━━━━━━━━━━━━━━━━━━━━━━━━┩\n",
       "│\u001b[36m \u001b[0m\u001b[36m        test_loss        \u001b[0m\u001b[36m \u001b[0m│\u001b[35m \u001b[0m\u001b[35m   0.15291699767112732   \u001b[0m\u001b[35m \u001b[0m│\n",
       "└───────────────────────────┴───────────────────────────┘\n"
      ]
     },
     "metadata": {},
     "output_type": "display_data"
    },
    {
     "name": "stdout",
     "output_type": "stream",
     "text": [
      "[{'test_loss': 0.15291699767112732}]\n"
     ]
    }
   ],
   "source": [
    "pl_module = SwipeTransformerRecognizer.load_from_checkpoint(\n",
    "    \"exp/models/conformer_v1.11/lightning_logs/version_50464880/checkpoints/epoch=0-step=3000.ckpt\",\n",
    "                                                            backbone=model, \n",
    "                                                            map_location='cpu')\n",
    "model_aver = average(model_v15, pl_module.backbone)\n",
    "pl_module = SwipeTransformerRecognizer(backbone=model_aver)  \n",
    "result = trainer.test(pl_module, val_dataloader)\n",
    "print(result)"
   ]
  },
  {
   "cell_type": "code",
   "execution_count": 130,
   "id": "081a5e9f",
   "metadata": {},
   "outputs": [
    {
     "name": "stdout",
     "output_type": "stream",
     "text": [
      "PositionalEncoding shape is torch.Size([400, 1, 512])\n"
     ]
    },
    {
     "name": "stderr",
     "output_type": "stream",
     "text": [
      "LOCAL_RANK: 0 - CUDA_VISIBLE_DEVICES: [0]\n",
      "SLURM auto-requeueing enabled. Setting signal handlers.\n"
     ]
    },
    {
     "data": {
      "application/vnd.jupyter.widget-view+json": {
       "model_id": "6d09b850a1d14ece96ea074e15e38d1b",
       "version_major": 2,
       "version_minor": 0
      },
      "text/plain": [
       "Testing: 0it [00:00, ?it/s]"
      ]
     },
     "metadata": {},
     "output_type": "display_data"
    },
    {
     "name": "stdout",
     "output_type": "stream",
     "text": [
      "2023-11-12 21:21:59,952 root /mnt/asr_hot/mitrofanov-aa/projects/chime7/chime7_stc_recipe/egs/it9/ya/maatool/data/feats_itdataset_v2.py:68 - INFO - Processing ark:data_feats/valid/feats.ark\n"
     ]
    },
    {
     "data": {
      "text/html": [
       "<pre style=\"white-space:pre;overflow-x:auto;line-height:normal;font-family:Menlo,'DejaVu Sans Mono',consolas,'Courier New',monospace\">┏━━━━━━━━━━━━━━━━━━━━━━━━━━━┳━━━━━━━━━━━━━━━━━━━━━━━━━━━┓\n",
       "┃<span style=\"font-weight: bold\">        Test metric        </span>┃<span style=\"font-weight: bold\">       DataLoader 0        </span>┃\n",
       "┡━━━━━━━━━━━━━━━━━━━━━━━━━━━╇━━━━━━━━━━━━━━━━━━━━━━━━━━━┩\n",
       "│<span style=\"color: #008080; text-decoration-color: #008080\">         test_loss         </span>│<span style=\"color: #800080; text-decoration-color: #800080\">    0.1472804695367813     </span>│\n",
       "└───────────────────────────┴───────────────────────────┘\n",
       "</pre>\n"
      ],
      "text/plain": [
       "┏━━━━━━━━━━━━━━━━━━━━━━━━━━━┳━━━━━━━━━━━━━━━━━━━━━━━━━━━┓\n",
       "┃\u001b[1m \u001b[0m\u001b[1m       Test metric       \u001b[0m\u001b[1m \u001b[0m┃\u001b[1m \u001b[0m\u001b[1m      DataLoader 0       \u001b[0m\u001b[1m \u001b[0m┃\n",
       "┡━━━━━━━━━━━━━━━━━━━━━━━━━━━╇━━━━━━━━━━━━━━━━━━━━━━━━━━━┩\n",
       "│\u001b[36m \u001b[0m\u001b[36m        test_loss        \u001b[0m\u001b[36m \u001b[0m│\u001b[35m \u001b[0m\u001b[35m   0.1472804695367813    \u001b[0m\u001b[35m \u001b[0m│\n",
       "└───────────────────────────┴───────────────────────────┘\n"
      ]
     },
     "metadata": {},
     "output_type": "display_data"
    },
    {
     "name": "stdout",
     "output_type": "stream",
     "text": [
      "[{'test_loss': 0.1472804695367813}]\n"
     ]
    }
   ],
   "source": [
    "model = ConformerWithSinPos(feats_dim=37, num_tokens=500, num_decoder_layers=8, num_encoder_layers=8)\n",
    "model_v15 = SwipeTransformerRecognizer.load_from_checkpoint(v_15_ckpt,\n",
    "                                                            backbone=model, \n",
    "                                                            map_location='cpu').backbone\n",
    "pl_module = SwipeTransformerRecognizer.load_from_checkpoint(\n",
    "    \"exp/models/conformer_v1.7/lightning_logs/version_50464775/checkpoints/epoch=0-step=5000.ckpt\",\n",
    "                                                            backbone=model, \n",
    "                                                            map_location='cpu')\n",
    "model_aver = average(model_v15, pl_module.backbone)\n",
    "pl_module = SwipeTransformerRecognizer(backbone=model_aver)  \n",
    "result = trainer.test(pl_module, val_dataloader)\n",
    "print(result)"
   ]
  },
  {
   "cell_type": "code",
   "execution_count": 15,
   "id": "b0d072f9",
   "metadata": {},
   "outputs": [
    {
     "name": "stdout",
     "output_type": "stream",
     "text": [
      "PositionalEncoding shape is torch.Size([400, 1, 512])\n"
     ]
    },
    {
     "name": "stderr",
     "output_type": "stream",
     "text": [
      "LOCAL_RANK: 0 - CUDA_VISIBLE_DEVICES: [0]\n",
      "SLURM auto-requeueing enabled. Setting signal handlers.\n",
      "/mnt/asr_hot/mitrofanov-aa/projects/chime7/chime7_stc_recipe/anaconda/lib/python3.9/site-packages/pytorch_lightning/trainer/connectors/data_connector.py:430: PossibleUserWarning: The dataloader, test_dataloader, does not have many workers which may be a bottleneck. Consider increasing the value of the `num_workers` argument` (try 96 which is the number of cpus on this machine) in the `DataLoader` init to improve performance.\n",
      "  rank_zero_warn(\n",
      "/mnt/asr_hot/mitrofanov-aa/projects/chime7/chime7_stc_recipe/anaconda/lib/python3.9/site-packages/pytorch_lightning/utilities/data.py:120: UserWarning: Your `IterableDataset` has `__len__` defined. In combination with multi-process data loading (when num_workers > 1), `__len__` could be inaccurate if each worker is not configured independently to avoid having duplicate data.\n",
      "  rank_zero_warn(\n"
     ]
    },
    {
     "data": {
      "application/vnd.jupyter.widget-view+json": {
       "model_id": "8677c97aefe040ba948f6ed1715a125a",
       "version_major": 2,
       "version_minor": 0
      },
      "text/plain": [
       "Testing: 0it [00:00, ?it/s]"
      ]
     },
     "metadata": {},
     "output_type": "display_data"
    },
    {
     "name": "stdout",
     "output_type": "stream",
     "text": [
      "2023-11-12 22:38:01,200 root /mnt/asr_hot/mitrofanov-aa/projects/chime7/chime7_stc_recipe/egs/it9/ya/maatool/data/feats_itdataset_v2.py:68 - INFO - Processing ark:data_feats/valid/feats.ark\n",
      "None\n"
     ]
    },
    {
     "name": "stderr",
     "output_type": "stream",
     "text": [
      "/mnt/asr_hot/mitrofanov-aa/projects/chime7/chime7_stc_recipe/anaconda/lib/python3.9/site-packages/pytorch_lightning/trainer/call.py:54: UserWarning: Detected KeyboardInterrupt, attempting graceful shutdown...\n",
      "  rank_zero_warn(\"Detected KeyboardInterrupt, attempting graceful shutdown...\")\n"
     ]
    }
   ],
   "source": [
    "model = ConformerWithSinPos(feats_dim=37, num_tokens=500, num_decoder_layers=8, num_encoder_layers=8)\n",
    "model_v15 = SwipeTransformerRecognizer.load_from_checkpoint(v_15_ckpt,\n",
    "                                                            backbone=model, \n",
    "                                                            map_location='cpu').backbone\n",
    "pl_module = SwipeTransformerRecognizer.load_from_checkpoint(\n",
    "    \"exp/models/conformer_v1.7/lightning_logs/version_50464775/checkpoints/last.ckpt\",\n",
    "                                                            backbone=model_v15, \n",
    "                                                            map_location='cpu')\n",
    "model_aver = average(model_v15, pl_module.backbone)\n",
    "#model_aver = average(model_aver, pl_module.backbone)\n",
    "pl_module = SwipeTransformerRecognizer(backbone=model_aver)  \n",
    "result = trainer.test(pl_module, val_dataloader)\n",
    "print(result)"
   ]
  },
  {
   "cell_type": "code",
   "execution_count": 18,
   "id": "c27a2087",
   "metadata": {},
   "outputs": [],
   "source": [
    "def average_many(models, ws=None):\n",
    "    if ws is None:\n",
    "        ws = [1/len(models) for _ in models]\n",
    "    model_aver = deepcopy(models[0])\n",
    "    state_dicts = [m.state_dict() for m in models]\n",
    "    out_state_dict = {}\n",
    "    for full_param_name, param in model_aver.named_parameters():\n",
    "        out_state_dict[full_param_name] = sum(p[full_param_name]*w for w, p in zip(ws, state_dicts)) \n",
    "        param.data *= ws[0]\n",
    "        param.data += sum(p[full_param_name]*w for w, p in zip(ws[1:], state_dicts[1:])) \n",
    "    #print(f'{out_state_dict.keys()=}')\n",
    "    #model_aver.load_state_dict(out_state_dict)\n",
    "    return model_aver"
   ]
  },
  {
   "cell_type": "code",
   "execution_count": 155,
   "id": "1886459e",
   "metadata": {},
   "outputs": [
    {
     "name": "stderr",
     "output_type": "stream",
     "text": [
      "LOCAL_RANK: 0 - CUDA_VISIBLE_DEVICES: [0]\n",
      "SLURM auto-requeueing enabled. Setting signal handlers.\n"
     ]
    },
    {
     "data": {
      "application/vnd.jupyter.widget-view+json": {
       "model_id": "63edab0ce332440a84eb4adb059323b6",
       "version_major": 2,
       "version_minor": 0
      },
      "text/plain": [
       "Testing: 0it [00:00, ?it/s]"
      ]
     },
     "metadata": {},
     "output_type": "display_data"
    },
    {
     "name": "stdout",
     "output_type": "stream",
     "text": [
      "2023-11-12 22:11:01,396 root /mnt/asr_hot/mitrofanov-aa/projects/chime7/chime7_stc_recipe/egs/it9/ya/maatool/data/feats_itdataset_v2.py:68 - INFO - Processing ark:data_feats/valid/feats.ark\n"
     ]
    },
    {
     "data": {
      "text/html": [
       "<pre style=\"white-space:pre;overflow-x:auto;line-height:normal;font-family:Menlo,'DejaVu Sans Mono',consolas,'Courier New',monospace\">┏━━━━━━━━━━━━━━━━━━━━━━━━━━━┳━━━━━━━━━━━━━━━━━━━━━━━━━━━┓\n",
       "┃<span style=\"font-weight: bold\">        Test metric        </span>┃<span style=\"font-weight: bold\">       DataLoader 0        </span>┃\n",
       "┡━━━━━━━━━━━━━━━━━━━━━━━━━━━╇━━━━━━━━━━━━━━━━━━━━━━━━━━━┩\n",
       "│<span style=\"color: #008080; text-decoration-color: #008080\">         test_loss         </span>│<span style=\"color: #800080; text-decoration-color: #800080\">    0.14765197038650513    </span>│\n",
       "└───────────────────────────┴───────────────────────────┘\n",
       "</pre>\n"
      ],
      "text/plain": [
       "┏━━━━━━━━━━━━━━━━━━━━━━━━━━━┳━━━━━━━━━━━━━━━━━━━━━━━━━━━┓\n",
       "┃\u001b[1m \u001b[0m\u001b[1m       Test metric       \u001b[0m\u001b[1m \u001b[0m┃\u001b[1m \u001b[0m\u001b[1m      DataLoader 0       \u001b[0m\u001b[1m \u001b[0m┃\n",
       "┡━━━━━━━━━━━━━━━━━━━━━━━━━━━╇━━━━━━━━━━━━━━━━━━━━━━━━━━━┩\n",
       "│\u001b[36m \u001b[0m\u001b[36m        test_loss        \u001b[0m\u001b[36m \u001b[0m│\u001b[35m \u001b[0m\u001b[35m   0.14765197038650513   \u001b[0m\u001b[35m \u001b[0m│\n",
       "└───────────────────────────┴───────────────────────────┘\n"
      ]
     },
     "metadata": {},
     "output_type": "display_data"
    },
    {
     "name": "stdout",
     "output_type": "stream",
     "text": [
      "[{'test_loss': 0.14765197038650513}]\n"
     ]
    }
   ],
   "source": [
    "pl_module = SwipeTransformerRecognizer(backbone=average_many([\n",
    "    SwipeTransformerRecognizer.load_from_checkpoint(ckpt,\n",
    "                                                    backbone=model, \n",
    "                                                    map_location='cpu').backbone\n",
    "    for ckpt in [v_15_ckpt]\n",
    "    \n",
    "]))  \n",
    "result = trainer.test(pl_module, val_dataloader)\n",
    "print(result)"
   ]
  },
  {
   "cell_type": "code",
   "execution_count": 156,
   "id": "e9d88541",
   "metadata": {},
   "outputs": [
    {
     "name": "stderr",
     "output_type": "stream",
     "text": [
      "LOCAL_RANK: 0 - CUDA_VISIBLE_DEVICES: [0]\n",
      "SLURM auto-requeueing enabled. Setting signal handlers.\n"
     ]
    },
    {
     "data": {
      "application/vnd.jupyter.widget-view+json": {
       "model_id": "16cbdbc42f8649daa2b08c28fd0f0f8d",
       "version_major": 2,
       "version_minor": 0
      },
      "text/plain": [
       "Testing: 0it [00:00, ?it/s]"
      ]
     },
     "metadata": {},
     "output_type": "display_data"
    },
    {
     "name": "stdout",
     "output_type": "stream",
     "text": [
      "2023-11-12 22:14:21,614 root /mnt/asr_hot/mitrofanov-aa/projects/chime7/chime7_stc_recipe/egs/it9/ya/maatool/data/feats_itdataset_v2.py:68 - INFO - Processing ark:data_feats/valid/feats.ark\n"
     ]
    },
    {
     "data": {
      "text/html": [
       "<pre style=\"white-space:pre;overflow-x:auto;line-height:normal;font-family:Menlo,'DejaVu Sans Mono',consolas,'Courier New',monospace\">┏━━━━━━━━━━━━━━━━━━━━━━━━━━━┳━━━━━━━━━━━━━━━━━━━━━━━━━━━┓\n",
       "┃<span style=\"font-weight: bold\">        Test metric        </span>┃<span style=\"font-weight: bold\">       DataLoader 0        </span>┃\n",
       "┡━━━━━━━━━━━━━━━━━━━━━━━━━━━╇━━━━━━━━━━━━━━━━━━━━━━━━━━━┩\n",
       "│<span style=\"color: #008080; text-decoration-color: #008080\">         test_loss         </span>│<span style=\"color: #800080; text-decoration-color: #800080\">    0.14889037609100342    </span>│\n",
       "└───────────────────────────┴───────────────────────────┘\n",
       "</pre>\n"
      ],
      "text/plain": [
       "┏━━━━━━━━━━━━━━━━━━━━━━━━━━━┳━━━━━━━━━━━━━━━━━━━━━━━━━━━┓\n",
       "┃\u001b[1m \u001b[0m\u001b[1m       Test metric       \u001b[0m\u001b[1m \u001b[0m┃\u001b[1m \u001b[0m\u001b[1m      DataLoader 0       \u001b[0m\u001b[1m \u001b[0m┃\n",
       "┡━━━━━━━━━━━━━━━━━━━━━━━━━━━╇━━━━━━━━━━━━━━━━━━━━━━━━━━━┩\n",
       "│\u001b[36m \u001b[0m\u001b[36m        test_loss        \u001b[0m\u001b[36m \u001b[0m│\u001b[35m \u001b[0m\u001b[35m   0.14889037609100342   \u001b[0m\u001b[35m \u001b[0m│\n",
       "└───────────────────────────┴───────────────────────────┘\n"
      ]
     },
     "metadata": {},
     "output_type": "display_data"
    },
    {
     "name": "stdout",
     "output_type": "stream",
     "text": [
      "[{'test_loss': 0.14889037609100342}]\n"
     ]
    }
   ],
   "source": [
    "pl_module = SwipeTransformerRecognizer(backbone=average_many([\n",
    "    SwipeTransformerRecognizer.load_from_checkpoint(ckpt,\n",
    "                                                    backbone=model, \n",
    "                                                    map_location='cpu').backbone\n",
    "    for ckpt in [\"exp/models/conformer_v1.7/lightning_logs/version_50464775/checkpoints/last.ckpt.b\"]\n",
    "    \n",
    "]))  \n",
    "result = trainer.test(pl_module, val_dataloader)\n",
    "print(result)"
   ]
  },
  {
   "cell_type": "code",
   "execution_count": 154,
   "id": "5158665a",
   "metadata": {},
   "outputs": [
    {
     "name": "stderr",
     "output_type": "stream",
     "text": [
      "LOCAL_RANK: 0 - CUDA_VISIBLE_DEVICES: [0]\n",
      "SLURM auto-requeueing enabled. Setting signal handlers.\n",
      "/mnt/asr_hot/mitrofanov-aa/projects/chime7/chime7_stc_recipe/anaconda/lib/python3.9/site-packages/pytorch_lightning/trainer/connectors/data_connector.py:430: PossibleUserWarning: The dataloader, test_dataloader, does not have many workers which may be a bottleneck. Consider increasing the value of the `num_workers` argument` (try 96 which is the number of cpus on this machine) in the `DataLoader` init to improve performance.\n",
      "  rank_zero_warn(\n",
      "/mnt/asr_hot/mitrofanov-aa/projects/chime7/chime7_stc_recipe/anaconda/lib/python3.9/site-packages/pytorch_lightning/utilities/data.py:120: UserWarning: Your `IterableDataset` has `__len__` defined. In combination with multi-process data loading (when num_workers > 1), `__len__` could be inaccurate if each worker is not configured independently to avoid having duplicate data.\n",
      "  rank_zero_warn(\n"
     ]
    },
    {
     "data": {
      "application/vnd.jupyter.widget-view+json": {
       "model_id": "95ebb4f3b0f541b08d77cb018bafd61b",
       "version_major": 2,
       "version_minor": 0
      },
      "text/plain": [
       "Testing: 0it [00:00, ?it/s]"
      ]
     },
     "metadata": {},
     "output_type": "display_data"
    },
    {
     "name": "stdout",
     "output_type": "stream",
     "text": [
      "2023-11-12 22:07:41,385 root /mnt/asr_hot/mitrofanov-aa/projects/chime7/chime7_stc_recipe/egs/it9/ya/maatool/data/feats_itdataset_v2.py:68 - INFO - Processing ark:data_feats/valid/feats.ark\n"
     ]
    },
    {
     "data": {
      "text/html": [
       "<pre style=\"white-space:pre;overflow-x:auto;line-height:normal;font-family:Menlo,'DejaVu Sans Mono',consolas,'Courier New',monospace\">┏━━━━━━━━━━━━━━━━━━━━━━━━━━━┳━━━━━━━━━━━━━━━━━━━━━━━━━━━┓\n",
       "┃<span style=\"font-weight: bold\">        Test metric        </span>┃<span style=\"font-weight: bold\">       DataLoader 0        </span>┃\n",
       "┡━━━━━━━━━━━━━━━━━━━━━━━━━━━╇━━━━━━━━━━━━━━━━━━━━━━━━━━━┩\n",
       "│<span style=\"color: #008080; text-decoration-color: #008080\">         test_loss         </span>│<span style=\"color: #800080; text-decoration-color: #800080\">    0.14889037609100342    </span>│\n",
       "└───────────────────────────┴───────────────────────────┘\n",
       "</pre>\n"
      ],
      "text/plain": [
       "┏━━━━━━━━━━━━━━━━━━━━━━━━━━━┳━━━━━━━━━━━━━━━━━━━━━━━━━━━┓\n",
       "┃\u001b[1m \u001b[0m\u001b[1m       Test metric       \u001b[0m\u001b[1m \u001b[0m┃\u001b[1m \u001b[0m\u001b[1m      DataLoader 0       \u001b[0m\u001b[1m \u001b[0m┃\n",
       "┡━━━━━━━━━━━━━━━━━━━━━━━━━━━╇━━━━━━━━━━━━━━━━━━━━━━━━━━━┩\n",
       "│\u001b[36m \u001b[0m\u001b[36m        test_loss        \u001b[0m\u001b[36m \u001b[0m│\u001b[35m \u001b[0m\u001b[35m   0.14889037609100342   \u001b[0m\u001b[35m \u001b[0m│\n",
       "└───────────────────────────┴───────────────────────────┘\n"
      ]
     },
     "metadata": {},
     "output_type": "display_data"
    },
    {
     "name": "stdout",
     "output_type": "stream",
     "text": [
      "[{'test_loss': 0.14889037609100342}]\n"
     ]
    }
   ],
   "source": [
    "pl_module = SwipeTransformerRecognizer(backbone=average_many([\n",
    "    SwipeTransformerRecognizer.load_from_checkpoint(ckpt,\n",
    "                                                    backbone=model, \n",
    "                                                    map_location='cpu').backbone\n",
    "    for ckpt in [v_15_ckpt, \n",
    "                \"exp/models/conformer_v1.7/lightning_logs/version_50464775/checkpoints/last.ckpt.b\"]\n",
    "    \n",
    "]))  \n",
    "result = trainer.test(pl_module, val_dataloader)\n",
    "print(result)"
   ]
  },
  {
   "cell_type": "code",
   "execution_count": 138,
   "id": "b32af903",
   "metadata": {},
   "outputs": [
    {
     "name": "stderr",
     "output_type": "stream",
     "text": [
      "LOCAL_RANK: 0 - CUDA_VISIBLE_DEVICES: [0]\n",
      "SLURM auto-requeueing enabled. Setting signal handlers.\n",
      "/mnt/asr_hot/mitrofanov-aa/projects/chime7/chime7_stc_recipe/anaconda/lib/python3.9/site-packages/pytorch_lightning/trainer/connectors/data_connector.py:430: PossibleUserWarning: The dataloader, test_dataloader, does not have many workers which may be a bottleneck. Consider increasing the value of the `num_workers` argument` (try 96 which is the number of cpus on this machine) in the `DataLoader` init to improve performance.\n",
      "  rank_zero_warn(\n",
      "/mnt/asr_hot/mitrofanov-aa/projects/chime7/chime7_stc_recipe/anaconda/lib/python3.9/site-packages/pytorch_lightning/utilities/data.py:120: UserWarning: Your `IterableDataset` has `__len__` defined. In combination with multi-process data loading (when num_workers > 1), `__len__` could be inaccurate if each worker is not configured independently to avoid having duplicate data.\n",
      "  rank_zero_warn(\n"
     ]
    },
    {
     "data": {
      "application/vnd.jupyter.widget-view+json": {
       "model_id": "456cbb1d919c407085e6fb370824d43c",
       "version_major": 2,
       "version_minor": 0
      },
      "text/plain": [
       "Testing: 0it [00:00, ?it/s]"
      ]
     },
     "metadata": {},
     "output_type": "display_data"
    },
    {
     "name": "stdout",
     "output_type": "stream",
     "text": [
      "2023-11-12 21:33:42,394 root /mnt/asr_hot/mitrofanov-aa/projects/chime7/chime7_stc_recipe/egs/it9/ya/maatool/data/feats_itdataset_v2.py:68 - INFO - Processing ark:data_feats/valid/feats.ark\n"
     ]
    },
    {
     "data": {
      "text/html": [
       "<pre style=\"white-space:pre;overflow-x:auto;line-height:normal;font-family:Menlo,'DejaVu Sans Mono',consolas,'Courier New',monospace\">┏━━━━━━━━━━━━━━━━━━━━━━━━━━━┳━━━━━━━━━━━━━━━━━━━━━━━━━━━┓\n",
       "┃<span style=\"font-weight: bold\">        Test metric        </span>┃<span style=\"font-weight: bold\">       DataLoader 0        </span>┃\n",
       "┡━━━━━━━━━━━━━━━━━━━━━━━━━━━╇━━━━━━━━━━━━━━━━━━━━━━━━━━━┩\n",
       "│<span style=\"color: #008080; text-decoration-color: #008080\">         test_loss         </span>│<span style=\"color: #800080; text-decoration-color: #800080\">    0.14889037609100342    </span>│\n",
       "└───────────────────────────┴───────────────────────────┘\n",
       "</pre>\n"
      ],
      "text/plain": [
       "┏━━━━━━━━━━━━━━━━━━━━━━━━━━━┳━━━━━━━━━━━━━━━━━━━━━━━━━━━┓\n",
       "┃\u001b[1m \u001b[0m\u001b[1m       Test metric       \u001b[0m\u001b[1m \u001b[0m┃\u001b[1m \u001b[0m\u001b[1m      DataLoader 0       \u001b[0m\u001b[1m \u001b[0m┃\n",
       "┡━━━━━━━━━━━━━━━━━━━━━━━━━━━╇━━━━━━━━━━━━━━━━━━━━━━━━━━━┩\n",
       "│\u001b[36m \u001b[0m\u001b[36m        test_loss        \u001b[0m\u001b[36m \u001b[0m│\u001b[35m \u001b[0m\u001b[35m   0.14889037609100342   \u001b[0m\u001b[35m \u001b[0m│\n",
       "└───────────────────────────┴───────────────────────────┘\n"
      ]
     },
     "metadata": {},
     "output_type": "display_data"
    },
    {
     "name": "stdout",
     "output_type": "stream",
     "text": [
      "[{'test_loss': 0.14889037609100342}]\n"
     ]
    }
   ],
   "source": [
    "pl_module = SwipeTransformerRecognizer(backbone=average_many([\n",
    "    SwipeTransformerRecognizer.load_from_checkpoint(ckpt,\n",
    "                                                    backbone=model, \n",
    "                                                    map_location='cpu').backbone\n",
    "    for ckpt in [\"exp/models/conformer_v1.3/lightning_logs/version_50464755/checkpoints/epoch=0-step=1000.ckpt.b\", \n",
    "                \"exp/models/conformer_v1.7/lightning_logs/version_50464775/checkpoints/last.ckpt.b\"]\n",
    "    \n",
    "]))  \n",
    "result = trainer.test(pl_module, val_dataloader)\n",
    "print(result)"
   ]
  },
  {
   "cell_type": "code",
   "execution_count": null,
   "id": "6c0d74ba",
   "metadata": {},
   "outputs": [],
   "source": []
  },
  {
   "cell_type": "code",
   "execution_count": null,
   "id": "3f30e1b7",
   "metadata": {},
   "outputs": [],
   "source": []
  },
  {
   "cell_type": "code",
   "execution_count": null,
   "id": "248f761a",
   "metadata": {},
   "outputs": [],
   "source": []
  },
  {
   "cell_type": "code",
   "execution_count": null,
   "id": "324778fa",
   "metadata": {},
   "outputs": [],
   "source": []
  },
  {
   "cell_type": "code",
   "execution_count": null,
   "id": "7cabfd1f",
   "metadata": {},
   "outputs": [],
   "source": []
  },
  {
   "cell_type": "code",
   "execution_count": null,
   "id": "da6949c5",
   "metadata": {},
   "outputs": [],
   "source": []
  },
  {
   "cell_type": "code",
   "execution_count": 46,
   "id": "2bb7f0b3",
   "metadata": {},
   "outputs": [
    {
     "name": "stderr",
     "output_type": "stream",
     "text": [
      "LOCAL_RANK: 0 - CUDA_VISIBLE_DEVICES: [0]\n",
      "SLURM auto-requeueing enabled. Setting signal handlers.\n"
     ]
    },
    {
     "data": {
      "application/vnd.jupyter.widget-view+json": {
       "model_id": "284dc050d76d4979a0b8ea63c530928f",
       "version_major": 2,
       "version_minor": 0
      },
      "text/plain": [
       "Testing: 0it [00:00, ?it/s]"
      ]
     },
     "metadata": {},
     "output_type": "display_data"
    },
    {
     "name": "stdout",
     "output_type": "stream",
     "text": [
      "2023-11-12 23:21:50,069 root /mnt/asr_hot/mitrofanov-aa/projects/chime7/chime7_stc_recipe/egs/it9/ya/maatool/data/feats_itdataset_v2.py:68 - INFO - Processing ark:data_feats/valid/feats.ark\n"
     ]
    },
    {
     "data": {
      "text/html": [
       "<pre style=\"white-space:pre;overflow-x:auto;line-height:normal;font-family:Menlo,'DejaVu Sans Mono',consolas,'Courier New',monospace\">┏━━━━━━━━━━━━━━━━━━━━━━━━━━━┳━━━━━━━━━━━━━━━━━━━━━━━━━━━┓\n",
       "┃<span style=\"font-weight: bold\">        Test metric        </span>┃<span style=\"font-weight: bold\">       DataLoader 0        </span>┃\n",
       "┡━━━━━━━━━━━━━━━━━━━━━━━━━━━╇━━━━━━━━━━━━━━━━━━━━━━━━━━━┩\n",
       "│<span style=\"color: #008080; text-decoration-color: #008080\">         test_loss         </span>│<span style=\"color: #800080; text-decoration-color: #800080\">    0.14882686734199524    </span>│\n",
       "└───────────────────────────┴───────────────────────────┘\n",
       "</pre>\n"
      ],
      "text/plain": [
       "┏━━━━━━━━━━━━━━━━━━━━━━━━━━━┳━━━━━━━━━━━━━━━━━━━━━━━━━━━┓\n",
       "┃\u001b[1m \u001b[0m\u001b[1m       Test metric       \u001b[0m\u001b[1m \u001b[0m┃\u001b[1m \u001b[0m\u001b[1m      DataLoader 0       \u001b[0m\u001b[1m \u001b[0m┃\n",
       "┡━━━━━━━━━━━━━━━━━━━━━━━━━━━╇━━━━━━━━━━━━━━━━━━━━━━━━━━━┩\n",
       "│\u001b[36m \u001b[0m\u001b[36m        test_loss        \u001b[0m\u001b[36m \u001b[0m│\u001b[35m \u001b[0m\u001b[35m   0.14882686734199524   \u001b[0m\u001b[35m \u001b[0m│\n",
       "└───────────────────────────┴───────────────────────────┘\n"
      ]
     },
     "metadata": {},
     "output_type": "display_data"
    },
    {
     "name": "stdout",
     "output_type": "stream",
     "text": [
      "[{'test_loss': 0.14882686734199524}]\n"
     ]
    }
   ],
   "source": [
    "pl_module = SwipeTransformerRecognizer(backbone=average_many([\n",
    "    SwipeTransformerRecognizer.load_from_checkpoint(ckpt,\n",
    "                                                    backbone=model, \n",
    "                                                    map_location='cpu').backbone\n",
    "    for ckpt in [\"exp/models/conformer_v1.6/lightning_logs/version_50464766/checkpoints/epoch=0-step=5000.ckpt\",\n",
    "                \"exp/models/conformer_v1.14/lightning_logs/version_1/checkpoints/epoch=0-step=593.ckpt\",\n",
    "                ]    \n",
    "]))  \n",
    "result = trainer.test(pl_module, val_dataloader)\n",
    "print(result)"
   ]
  },
  {
   "cell_type": "code",
   "execution_count": 21,
   "id": "fe4688f7",
   "metadata": {},
   "outputs": [
    {
     "name": "stderr",
     "output_type": "stream",
     "text": [
      "GPU available: True (cuda), used: True\n",
      "TPU available: False, using: 0 TPU cores\n",
      "IPU available: False, using: 0 IPUs\n",
      "HPU available: False, using: 0 HPUs\n",
      "LOCAL_RANK: 0 - CUDA_VISIBLE_DEVICES: [0]\n",
      "SLURM auto-requeueing enabled. Setting signal handlers.\n",
      "/mnt/asr_hot/mitrofanov-aa/projects/chime7/chime7_stc_recipe/anaconda/lib/python3.9/site-packages/pytorch_lightning/trainer/connectors/data_connector.py:430: PossibleUserWarning: The dataloader, test_dataloader, does not have many workers which may be a bottleneck. Consider increasing the value of the `num_workers` argument` (try 96 which is the number of cpus on this machine) in the `DataLoader` init to improve performance.\n",
      "  rank_zero_warn(\n",
      "/mnt/asr_hot/mitrofanov-aa/projects/chime7/chime7_stc_recipe/anaconda/lib/python3.9/site-packages/pytorch_lightning/utilities/data.py:120: UserWarning: Your `IterableDataset` has `__len__` defined. In combination with multi-process data loading (when num_workers > 1), `__len__` could be inaccurate if each worker is not configured independently to avoid having duplicate data.\n",
      "  rank_zero_warn(\n"
     ]
    },
    {
     "data": {
      "application/vnd.jupyter.widget-view+json": {
       "model_id": "4b8335db46c24efb845ad73dce6b6273",
       "version_major": 2,
       "version_minor": 0
      },
      "text/plain": [
       "Testing: 0it [00:00, ?it/s]"
      ]
     },
     "metadata": {},
     "output_type": "display_data"
    },
    {
     "name": "stdout",
     "output_type": "stream",
     "text": [
      "2023-11-12 22:45:06,039 root /mnt/asr_hot/mitrofanov-aa/projects/chime7/chime7_stc_recipe/egs/it9/ya/maatool/data/feats_itdataset_v2.py:68 - INFO - Processing ark:data_feats/valid/feats.ark\n"
     ]
    },
    {
     "data": {
      "text/html": [
       "<pre style=\"white-space:pre;overflow-x:auto;line-height:normal;font-family:Menlo,'DejaVu Sans Mono',consolas,'Courier New',monospace\">┏━━━━━━━━━━━━━━━━━━━━━━━━━━━┳━━━━━━━━━━━━━━━━━━━━━━━━━━━┓\n",
       "┃<span style=\"font-weight: bold\">        Test metric        </span>┃<span style=\"font-weight: bold\">       DataLoader 0        </span>┃\n",
       "┡━━━━━━━━━━━━━━━━━━━━━━━━━━━╇━━━━━━━━━━━━━━━━━━━━━━━━━━━┩\n",
       "│<span style=\"color: #008080; text-decoration-color: #008080\">         test_loss         </span>│<span style=\"color: #800080; text-decoration-color: #800080\">    0.14800748229026794    </span>│\n",
       "└───────────────────────────┴───────────────────────────┘\n",
       "</pre>\n"
      ],
      "text/plain": [
       "┏━━━━━━━━━━━━━━━━━━━━━━━━━━━┳━━━━━━━━━━━━━━━━━━━━━━━━━━━┓\n",
       "┃\u001b[1m \u001b[0m\u001b[1m       Test metric       \u001b[0m\u001b[1m \u001b[0m┃\u001b[1m \u001b[0m\u001b[1m      DataLoader 0       \u001b[0m\u001b[1m \u001b[0m┃\n",
       "┡━━━━━━━━━━━━━━━━━━━━━━━━━━━╇━━━━━━━━━━━━━━━━━━━━━━━━━━━┩\n",
       "│\u001b[36m \u001b[0m\u001b[36m        test_loss        \u001b[0m\u001b[36m \u001b[0m│\u001b[35m \u001b[0m\u001b[35m   0.14800748229026794   \u001b[0m\u001b[35m \u001b[0m│\n",
       "└───────────────────────────┴───────────────────────────┘\n"
      ]
     },
     "metadata": {},
     "output_type": "display_data"
    },
    {
     "name": "stdout",
     "output_type": "stream",
     "text": [
      "[{'test_loss': 0.14800748229026794}]\n"
     ]
    }
   ],
   "source": [
    "pl_module = SwipeTransformerRecognizer(backbone=average_many([\n",
    "    SwipeTransformerRecognizer.load_from_checkpoint(ckpt,\n",
    "                                                    backbone=model, \n",
    "                                                    map_location='cpu').backbone\n",
    "    for ckpt in [v_15_ckpt, \n",
    "                \"exp/models/conformer_v1.3/lightning_logs/version_50464755/checkpoints/epoch=0-step=14000.ckpt\",\n",
    "                \"exp/models/conformer_v1.7/lightning_logs/version_50464775/checkpoints/epoch=0-step=5000.ckpt\",\n",
    "                \"exp/models/conformer_v1.9/lightning_logs/version_50464786/checkpoints/epoch=0-step=5000.ckpt\",\n",
    "                \"exp/models/conformer_v1.4/lightning_logs/version_50464757/checkpoints/epoch=0-step=5000.ckpt\",\n",
    "                 \"exp/models/conformer_v1.2/lightning_logs/version_50463954/checkpoints/epoch=0-step=10000.ckpt.b\"\n",
    "                ]\n",
    "    \n",
    "])) \n",
    "trainer = pl.Trainer(callbacks=[pl.callbacks.TQDMProgressBar(refresh_rate=100)])\n",
    "result = trainer.test(pl_module, val_dataloader)\n",
    "print(result)"
   ]
  },
  {
   "cell_type": "code",
   "execution_count": 22,
   "id": "bf5fa023",
   "metadata": {},
   "outputs": [
    {
     "data": {
      "text/plain": [
       "<All keys matched successfully>"
      ]
     },
     "execution_count": 22,
     "metadata": {},
     "output_type": "execute_result"
    }
   ],
   "source": [
    "model = pl_module.backbone\n",
    "model.load_state_dict(model.state_dict())"
   ]
  },
  {
   "cell_type": "code",
   "execution_count": 25,
   "id": "58c0e26a",
   "metadata": {},
   "outputs": [],
   "source": [
    "def average_state_dicts(models, ws=None):\n",
    "    with torch.no_grad():\n",
    "        if ws is None:\n",
    "            ws = [1/len(models) for _ in models]\n",
    "        state_dicts = [m.state_dict() for m in models]\n",
    "        out_state_dict = {}\n",
    "        for full_param_name in state_dicts[0].keys():\n",
    "            out_state_dict[full_param_name] = sum(p[full_param_name]*w for w, p in zip(ws, state_dicts)) \n",
    "       \n",
    "        #print(f'{out_state_dict.keys()=}')\n",
    "        model_aver = ConformerWithSinPos(feats_dim=37, num_tokens=500, num_decoder_layers=8, num_encoder_layers=8)\n",
    "        model_aver.load_state_dict(out_state_dict)\n",
    "    return model_aver"
   ]
  },
  {
   "cell_type": "code",
   "execution_count": 26,
   "id": "eb0e1955",
   "metadata": {},
   "outputs": [
    {
     "name": "stdout",
     "output_type": "stream",
     "text": [
      "PositionalEncoding shape is torch.Size([400, 1, 512])\n"
     ]
    },
    {
     "name": "stderr",
     "output_type": "stream",
     "text": [
      "LOCAL_RANK: 0 - CUDA_VISIBLE_DEVICES: [0]\n",
      "SLURM auto-requeueing enabled. Setting signal handlers.\n",
      "/mnt/asr_hot/mitrofanov-aa/projects/chime7/chime7_stc_recipe/anaconda/lib/python3.9/site-packages/pytorch_lightning/trainer/connectors/data_connector.py:430: PossibleUserWarning: The dataloader, test_dataloader, does not have many workers which may be a bottleneck. Consider increasing the value of the `num_workers` argument` (try 96 which is the number of cpus on this machine) in the `DataLoader` init to improve performance.\n",
      "  rank_zero_warn(\n",
      "/mnt/asr_hot/mitrofanov-aa/projects/chime7/chime7_stc_recipe/anaconda/lib/python3.9/site-packages/pytorch_lightning/utilities/data.py:120: UserWarning: Your `IterableDataset` has `__len__` defined. In combination with multi-process data loading (when num_workers > 1), `__len__` could be inaccurate if each worker is not configured independently to avoid having duplicate data.\n",
      "  rank_zero_warn(\n"
     ]
    },
    {
     "data": {
      "application/vnd.jupyter.widget-view+json": {
       "model_id": "19c245bf1f48481aaf03fd4a2cafeea1",
       "version_major": 2,
       "version_minor": 0
      },
      "text/plain": [
       "Testing: 0it [00:00, ?it/s]"
      ]
     },
     "metadata": {},
     "output_type": "display_data"
    },
    {
     "name": "stdout",
     "output_type": "stream",
     "text": [
      "2023-11-12 22:53:05,566 root /mnt/asr_hot/mitrofanov-aa/projects/chime7/chime7_stc_recipe/egs/it9/ya/maatool/data/feats_itdataset_v2.py:68 - INFO - Processing ark:data_feats/valid/feats.ark\n"
     ]
    },
    {
     "data": {
      "text/html": [
       "<pre style=\"white-space:pre;overflow-x:auto;line-height:normal;font-family:Menlo,'DejaVu Sans Mono',consolas,'Courier New',monospace\">┏━━━━━━━━━━━━━━━━━━━━━━━━━━━┳━━━━━━━━━━━━━━━━━━━━━━━━━━━┓\n",
       "┃<span style=\"font-weight: bold\">        Test metric        </span>┃<span style=\"font-weight: bold\">       DataLoader 0        </span>┃\n",
       "┡━━━━━━━━━━━━━━━━━━━━━━━━━━━╇━━━━━━━━━━━━━━━━━━━━━━━━━━━┩\n",
       "│<span style=\"color: #008080; text-decoration-color: #008080\">         test_loss         </span>│<span style=\"color: #800080; text-decoration-color: #800080\">    0.14889037609100342    </span>│\n",
       "└───────────────────────────┴───────────────────────────┘\n",
       "</pre>\n"
      ],
      "text/plain": [
       "┏━━━━━━━━━━━━━━━━━━━━━━━━━━━┳━━━━━━━━━━━━━━━━━━━━━━━━━━━┓\n",
       "┃\u001b[1m \u001b[0m\u001b[1m       Test metric       \u001b[0m\u001b[1m \u001b[0m┃\u001b[1m \u001b[0m\u001b[1m      DataLoader 0       \u001b[0m\u001b[1m \u001b[0m┃\n",
       "┡━━━━━━━━━━━━━━━━━━━━━━━━━━━╇━━━━━━━━━━━━━━━━━━━━━━━━━━━┩\n",
       "│\u001b[36m \u001b[0m\u001b[36m        test_loss        \u001b[0m\u001b[36m \u001b[0m│\u001b[35m \u001b[0m\u001b[35m   0.14889037609100342   \u001b[0m\u001b[35m \u001b[0m│\n",
       "└───────────────────────────┴───────────────────────────┘\n"
      ]
     },
     "metadata": {},
     "output_type": "display_data"
    },
    {
     "name": "stdout",
     "output_type": "stream",
     "text": [
      "[{'test_loss': 0.14889037609100342}]\n"
     ]
    }
   ],
   "source": [
    "pl_module = SwipeTransformerRecognizer(backbone=average_state_dicts([\n",
    "    SwipeTransformerRecognizer.load_from_checkpoint(ckpt,\n",
    "                                                    backbone=model, \n",
    "                                                    map_location='cpu').eval().backbone\n",
    "    for ckpt in [v_15_ckpt, \n",
    "                \"exp/models/conformer_v1.7/lightning_logs/version_50464775/checkpoints/last.ckpt.b\"]\n",
    "]))\n",
    "result = trainer.test(pl_module, val_dataloader)\n",
    "print(result)"
   ]
  },
  {
   "cell_type": "code",
   "execution_count": null,
   "id": "14b262bc",
   "metadata": {},
   "outputs": [],
   "source": [
    "pl_module = SwipeTransformerRecognizer(backbone=model) \n",
    "\n",
    "pl_module.backbone = SwipeTransformerRecognizer.load_from_checkpoint('exp/models/conformer_v1/lightning_logs/version_50454211/checkpoints/last.ckpt',\n",
    "                                                    backbone=model, \n",
    "                                                    map_location='cpu')\n",
    "result = trainer.test(pl_module, val_dataloader)\n",
    "print(result)"
   ]
  },
  {
   "cell_type": "code",
   "execution_count": null,
   "id": "c2758064",
   "metadata": {},
   "outputs": [],
   "source": [
    "pl_module = SwipeTransformerRecognizer(backbone=model) \n",
    "\n",
    "pl_module.backbone = SwipeTransformerRecognizer.load_from_checkpoint('exp/models/conformer_v1/lightning_logs/version_50454211/checkpoints/last.ckpt',\n",
    "                                                    backbone=model, \n",
    "                                                    map_location='cpu')\n",
    "result = trainer.test(pl_module, val_dataloader)\n",
    "print(result)"
   ]
  },
  {
   "cell_type": "code",
   "execution_count": 27,
   "id": "c3ed883a",
   "metadata": {},
   "outputs": [
    {
     "name": "stderr",
     "output_type": "stream",
     "text": [
      "LOCAL_RANK: 0 - CUDA_VISIBLE_DEVICES: [0]\n",
      "SLURM auto-requeueing enabled. Setting signal handlers.\n",
      "/mnt/asr_hot/mitrofanov-aa/projects/chime7/chime7_stc_recipe/anaconda/lib/python3.9/site-packages/pytorch_lightning/trainer/connectors/data_connector.py:430: PossibleUserWarning: The dataloader, test_dataloader, does not have many workers which may be a bottleneck. Consider increasing the value of the `num_workers` argument` (try 96 which is the number of cpus on this machine) in the `DataLoader` init to improve performance.\n",
      "  rank_zero_warn(\n",
      "/mnt/asr_hot/mitrofanov-aa/projects/chime7/chime7_stc_recipe/anaconda/lib/python3.9/site-packages/pytorch_lightning/utilities/data.py:120: UserWarning: Your `IterableDataset` has `__len__` defined. In combination with multi-process data loading (when num_workers > 1), `__len__` could be inaccurate if each worker is not configured independently to avoid having duplicate data.\n",
      "  rank_zero_warn(\n"
     ]
    },
    {
     "data": {
      "application/vnd.jupyter.widget-view+json": {
       "model_id": "bc60b86b0cda478480b3708b8dc2dac0",
       "version_major": 2,
       "version_minor": 0
      },
      "text/plain": [
       "Testing: 0it [00:00, ?it/s]"
      ]
     },
     "metadata": {},
     "output_type": "display_data"
    },
    {
     "name": "stdout",
     "output_type": "stream",
     "text": [
      "2023-11-12 22:56:43,725 root /mnt/asr_hot/mitrofanov-aa/projects/chime7/chime7_stc_recipe/egs/it9/ya/maatool/data/feats_itdataset_v2.py:68 - INFO - Processing ark:data_feats/valid/feats.ark\n"
     ]
    },
    {
     "data": {
      "text/html": [
       "<pre style=\"white-space:pre;overflow-x:auto;line-height:normal;font-family:Menlo,'DejaVu Sans Mono',consolas,'Courier New',monospace\">┏━━━━━━━━━━━━━━━━━━━━━━━━━━━┳━━━━━━━━━━━━━━━━━━━━━━━━━━━┓\n",
       "┃<span style=\"font-weight: bold\">        Test metric        </span>┃<span style=\"font-weight: bold\">       DataLoader 0        </span>┃\n",
       "┡━━━━━━━━━━━━━━━━━━━━━━━━━━━╇━━━━━━━━━━━━━━━━━━━━━━━━━━━┩\n",
       "│<span style=\"color: #008080; text-decoration-color: #008080\">         test_loss         </span>│<span style=\"color: #800080; text-decoration-color: #800080\">    0.14889037609100342    </span>│\n",
       "└───────────────────────────┴───────────────────────────┘\n",
       "</pre>\n"
      ],
      "text/plain": [
       "┏━━━━━━━━━━━━━━━━━━━━━━━━━━━┳━━━━━━━━━━━━━━━━━━━━━━━━━━━┓\n",
       "┃\u001b[1m \u001b[0m\u001b[1m       Test metric       \u001b[0m\u001b[1m \u001b[0m┃\u001b[1m \u001b[0m\u001b[1m      DataLoader 0       \u001b[0m\u001b[1m \u001b[0m┃\n",
       "┡━━━━━━━━━━━━━━━━━━━━━━━━━━━╇━━━━━━━━━━━━━━━━━━━━━━━━━━━┩\n",
       "│\u001b[36m \u001b[0m\u001b[36m        test_loss        \u001b[0m\u001b[36m \u001b[0m│\u001b[35m \u001b[0m\u001b[35m   0.14889037609100342   \u001b[0m\u001b[35m \u001b[0m│\n",
       "└───────────────────────────┴───────────────────────────┘\n"
      ]
     },
     "metadata": {},
     "output_type": "display_data"
    },
    {
     "name": "stderr",
     "output_type": "stream",
     "text": [
      "LOCAL_RANK: 0 - CUDA_VISIBLE_DEVICES: [0]\n",
      "SLURM auto-requeueing enabled. Setting signal handlers.\n"
     ]
    },
    {
     "name": "stdout",
     "output_type": "stream",
     "text": [
      "[{'test_loss': 0.14889037609100342}]\n"
     ]
    },
    {
     "data": {
      "application/vnd.jupyter.widget-view+json": {
       "model_id": "c8139ef87a2740959c28d451cd5393b3",
       "version_major": 2,
       "version_minor": 0
      },
      "text/plain": [
       "Testing: 0it [00:00, ?it/s]"
      ]
     },
     "metadata": {},
     "output_type": "display_data"
    },
    {
     "name": "stdout",
     "output_type": "stream",
     "text": [
      "2023-11-12 23:00:17,512 root /mnt/asr_hot/mitrofanov-aa/projects/chime7/chime7_stc_recipe/egs/it9/ya/maatool/data/feats_itdataset_v2.py:68 - INFO - Processing ark:data_feats/valid/feats.ark\n"
     ]
    },
    {
     "data": {
      "text/html": [
       "<pre style=\"white-space:pre;overflow-x:auto;line-height:normal;font-family:Menlo,'DejaVu Sans Mono',consolas,'Courier New',monospace\">┏━━━━━━━━━━━━━━━━━━━━━━━━━━━┳━━━━━━━━━━━━━━━━━━━━━━━━━━━┓\n",
       "┃<span style=\"font-weight: bold\">        Test metric        </span>┃<span style=\"font-weight: bold\">       DataLoader 0        </span>┃\n",
       "┡━━━━━━━━━━━━━━━━━━━━━━━━━━━╇━━━━━━━━━━━━━━━━━━━━━━━━━━━┩\n",
       "│<span style=\"color: #008080; text-decoration-color: #008080\">         test_loss         </span>│<span style=\"color: #800080; text-decoration-color: #800080\">    0.14889037609100342    </span>│\n",
       "└───────────────────────────┴───────────────────────────┘\n",
       "</pre>\n"
      ],
      "text/plain": [
       "┏━━━━━━━━━━━━━━━━━━━━━━━━━━━┳━━━━━━━━━━━━━━━━━━━━━━━━━━━┓\n",
       "┃\u001b[1m \u001b[0m\u001b[1m       Test metric       \u001b[0m\u001b[1m \u001b[0m┃\u001b[1m \u001b[0m\u001b[1m      DataLoader 0       \u001b[0m\u001b[1m \u001b[0m┃\n",
       "┡━━━━━━━━━━━━━━━━━━━━━━━━━━━╇━━━━━━━━━━━━━━━━━━━━━━━━━━━┩\n",
       "│\u001b[36m \u001b[0m\u001b[36m        test_loss        \u001b[0m\u001b[36m \u001b[0m│\u001b[35m \u001b[0m\u001b[35m   0.14889037609100342   \u001b[0m\u001b[35m \u001b[0m│\n",
       "└───────────────────────────┴───────────────────────────┘\n"
      ]
     },
     "metadata": {},
     "output_type": "display_data"
    },
    {
     "name": "stdout",
     "output_type": "stream",
     "text": [
      "[{'test_loss': 0.14889037609100342}]\n"
     ]
    },
    {
     "name": "stderr",
     "output_type": "stream",
     "text": [
      "LOCAL_RANK: 0 - CUDA_VISIBLE_DEVICES: [0]\n",
      "SLURM auto-requeueing enabled. Setting signal handlers.\n"
     ]
    },
    {
     "data": {
      "application/vnd.jupyter.widget-view+json": {
       "model_id": "fed0bad0ce55429495dd01ca7caba055",
       "version_major": 2,
       "version_minor": 0
      },
      "text/plain": [
       "Testing: 0it [00:00, ?it/s]"
      ]
     },
     "metadata": {},
     "output_type": "display_data"
    },
    {
     "name": "stdout",
     "output_type": "stream",
     "text": [
      "2023-11-12 23:03:53,052 root /mnt/asr_hot/mitrofanov-aa/projects/chime7/chime7_stc_recipe/egs/it9/ya/maatool/data/feats_itdataset_v2.py:68 - INFO - Processing ark:data_feats/valid/feats.ark\n",
      "None\n"
     ]
    },
    {
     "name": "stderr",
     "output_type": "stream",
     "text": [
      "/mnt/asr_hot/mitrofanov-aa/projects/chime7/chime7_stc_recipe/anaconda/lib/python3.9/site-packages/pytorch_lightning/trainer/call.py:54: UserWarning: Detected KeyboardInterrupt, attempting graceful shutdown...\n",
      "  rank_zero_warn(\"Detected KeyboardInterrupt, attempting graceful shutdown...\")\n"
     ]
    }
   ],
   "source": [
    "pl_modules = [SwipeTransformerRecognizer.load_from_checkpoint(ckpt,\n",
    "                                                    backbone=model, \n",
    "                                                    map_location='cpu')\n",
    "    for ckpt in [v_15_ckpt, \n",
    "                \"exp/models/conformer_v1.7/lightning_logs/version_50464775/checkpoints/last.ckpt.b\"]\n",
    "]\n",
    "\n",
    "for p in pl_modules:\n",
    "    result = trainer.test(p, val_dataloader)\n",
    "    print(result)\n",
    "\n",
    "model_aver = average(pl_modules[0].backbone, pl_modules[1].backbone)\n",
    "pl_module = SwipeTransformerRecognizer(backbone=model_aver) \n",
    "result = trainer.test(pl_module, val_dataloader)\n",
    "print(result)"
   ]
  },
  {
   "cell_type": "code",
   "execution_count": 119,
   "id": "21bb1a00",
   "metadata": {},
   "outputs": [
    {
     "name": "stderr",
     "output_type": "stream",
     "text": [
      "LOCAL_RANK: 0 - CUDA_VISIBLE_DEVICES: [0]\n",
      "SLURM auto-requeueing enabled. Setting signal handlers.\n",
      "/mnt/asr_hot/mitrofanov-aa/projects/chime7/chime7_stc_recipe/anaconda/lib/python3.9/site-packages/pytorch_lightning/trainer/connectors/data_connector.py:430: PossibleUserWarning: The dataloader, test_dataloader, does not have many workers which may be a bottleneck. Consider increasing the value of the `num_workers` argument` (try 96 which is the number of cpus on this machine) in the `DataLoader` init to improve performance.\n",
      "  rank_zero_warn(\n",
      "/mnt/asr_hot/mitrofanov-aa/projects/chime7/chime7_stc_recipe/anaconda/lib/python3.9/site-packages/pytorch_lightning/utilities/data.py:120: UserWarning: Your `IterableDataset` has `__len__` defined. In combination with multi-process data loading (when num_workers > 1), `__len__` could be inaccurate if each worker is not configured independently to avoid having duplicate data.\n",
      "  rank_zero_warn(\n"
     ]
    },
    {
     "data": {
      "application/vnd.jupyter.widget-view+json": {
       "model_id": "f926ca0f44dd459fa0219305f1680ba1",
       "version_major": 2,
       "version_minor": 0
      },
      "text/plain": [
       "Testing: 0it [00:00, ?it/s]"
      ]
     },
     "metadata": {},
     "output_type": "display_data"
    },
    {
     "name": "stdout",
     "output_type": "stream",
     "text": [
      "2023-11-12 20:52:18,325 root /mnt/asr_hot/mitrofanov-aa/projects/chime7/chime7_stc_recipe/egs/it9/ya/maatool/data/feats_itdataset_v2.py:68 - INFO - Processing ark:data_feats/valid/feats.ark\n"
     ]
    },
    {
     "data": {
      "text/html": [
       "<pre style=\"white-space:pre;overflow-x:auto;line-height:normal;font-family:Menlo,'DejaVu Sans Mono',consolas,'Courier New',monospace\">┏━━━━━━━━━━━━━━━━━━━━━━━━━━━┳━━━━━━━━━━━━━━━━━━━━━━━━━━━┓\n",
       "┃<span style=\"font-weight: bold\">        Test metric        </span>┃<span style=\"font-weight: bold\">       DataLoader 0        </span>┃\n",
       "┡━━━━━━━━━━━━━━━━━━━━━━━━━━━╇━━━━━━━━━━━━━━━━━━━━━━━━━━━┩\n",
       "│<span style=\"color: #008080; text-decoration-color: #008080\">         test_loss         </span>│<span style=\"color: #800080; text-decoration-color: #800080\">    0.1480194628238678     </span>│\n",
       "└───────────────────────────┴───────────────────────────┘\n",
       "</pre>\n"
      ],
      "text/plain": [
       "┏━━━━━━━━━━━━━━━━━━━━━━━━━━━┳━━━━━━━━━━━━━━━━━━━━━━━━━━━┓\n",
       "┃\u001b[1m \u001b[0m\u001b[1m       Test metric       \u001b[0m\u001b[1m \u001b[0m┃\u001b[1m \u001b[0m\u001b[1m      DataLoader 0       \u001b[0m\u001b[1m \u001b[0m┃\n",
       "┡━━━━━━━━━━━━━━━━━━━━━━━━━━━╇━━━━━━━━━━━━━━━━━━━━━━━━━━━┩\n",
       "│\u001b[36m \u001b[0m\u001b[36m        test_loss        \u001b[0m\u001b[36m \u001b[0m│\u001b[35m \u001b[0m\u001b[35m   0.1480194628238678    \u001b[0m\u001b[35m \u001b[0m│\n",
       "└───────────────────────────┴───────────────────────────┘\n"
      ]
     },
     "metadata": {},
     "output_type": "display_data"
    },
    {
     "name": "stdout",
     "output_type": "stream",
     "text": [
      "[{'test_loss': 0.1480194628238678}]\n"
     ]
    }
   ],
   "source": [
    "result = trainer.test(pl_module, val_dataloader)\n",
    "print(result)\n",
    "# [{'test_loss': 0.15845882892608643}]\n",
    "# 'test_loss': 0.14765197038650513 - model_v15\n",
    "# 'test_loss': 0.14764617383480072 - conformer_v1.3 - epoch=0-step=1000.ckpt.b\n",
    "# 'test_loss':  0.14889037609100342 - conformer_v1.7 - epoch=0-step=2000.ckpt # 0.14889037609100342\n",
    "# [{'test_loss': 0.13205789029598236}] - model_v15 + conformer_v1.7.2000 - submit_v16\n",
    "# {'test_loss': 0.1533224731683731} - train_conformer_v1.12.py\n",
    "# {'test_loss': 0.1533845216035843} - model_v15 + conformer_v1.3.4000\n",
    "# {'test_loss': 0.1480194628238678} - model_v15 + conformer_v1.4.5000\n",
    "# 'test_loss': 0.147256538271904 - model_v15 + conformer_v1.5.5000\n",
    "# {'test_loss': 0.1440354734659195} - model_v15 + conformer_v1.6.5000\n",
    "# 'test_loss': 0.14874745905399323 - model_v15 + conformer_v1.8.5000"
   ]
  },
  {
   "cell_type": "code",
   "execution_count": 32,
   "id": "d2837909",
   "metadata": {},
   "outputs": [],
   "source": [
    "import sentencepiece as spm\n",
    "import math\n",
    "from collections import defaultdict\n",
    "tokenizer = spm.SentencePieceProcessor('exp/bpe500/model.model')\n"
   ]
  },
  {
   "cell_type": "code",
   "execution_count": 33,
   "id": "890b1427",
   "metadata": {},
   "outputs": [],
   "source": [
    "topk=20"
   ]
  },
  {
   "cell_type": "code",
   "execution_count": 76,
   "id": "167138b1",
   "metadata": {},
   "outputs": [
    {
     "data": {
      "application/vnd.jupyter.widget-view+json": {
       "model_id": "836615192f494439a995b49a084577fa",
       "version_major": 2,
       "version_minor": 0
      },
      "text/plain": [
       "  0%|          | 0/10000 [00:00<?, ?it/s]"
      ]
     },
     "metadata": {},
     "output_type": "display_data"
    },
    {
     "name": "stdout",
     "output_type": "stream",
     "text": [
      "2023-11-12 19:18:36,075 root /mnt/asr_hot/mitrofanov-aa/projects/chime7/chime7_stc_recipe/egs/it9/ya/maatool/data/feats_itdataset_v2.py:68 - INFO - Processing ark:data_feats/valid/feats.ark\n"
     ]
    }
   ],
   "source": [
    "utt2words, utt2logs = pl_module.cuda().predict_topk(val_dataloader, tokenizer=tokenizer, topk=topk, device='cuda')"
   ]
  },
  {
   "cell_type": "code",
   "execution_count": 44,
   "id": "9103af7b",
   "metadata": {},
   "outputs": [],
   "source": [
    "def accuracy(ref_u2w, hyp_u2w):\n",
    "    corr = 0\n",
    "    err = 0\n",
    "    total = len(ref_u2w)\n",
    "    for u, ref in tqdm(ref_u2w.items()):\n",
    "        hyp = hyp_u2w[u].strip('-')\n",
    "        if ref != hyp:\n",
    "            print(ref, hyp)\n",
    "            err +=1\n",
    "        else:\n",
    "            corr +=1\n",
    "    a = corr/total\n",
    "    print(f\"{total=} {corr=} {err=}, accuracy: {a}\")\n",
    "    return a\n",
    "\n",
    "with open('data_feats/valid/text') as f:\n",
    "    valid_ref_u2w = {u:w for u, w in   map(str.split, f.readlines())}\n",
    "    "
   ]
  },
  {
   "cell_type": "code",
   "execution_count": 36,
   "id": "e02a81bd",
   "metadata": {},
   "outputs": [],
   "source": [
    "with open('./data/voc.txt') as f:\n",
    "    vocab = frozenset(s for s in map(str.strip, f.readlines()))"
   ]
  },
  {
   "cell_type": "code",
   "execution_count": 37,
   "id": "bcfd3a42",
   "metadata": {},
   "outputs": [],
   "source": [
    "def limit_vocab(u2w, vocab=vocab):\n",
    "    lv = {}\n",
    "    for k, v in u2w.items():\n",
    "        corr_w = []\n",
    "        for w in v:\n",
    "            if w in vocab:\n",
    "                corr_w.append(w)\n",
    "        if len(corr_w) == 0: \n",
    "            logging.warning(f\"{k=} doesn't have any vocab hyp. {v=}\")\n",
    "            corr_w = ['-']\n",
    "        lv[k] = corr_w\n",
    "    return lv\n",
    "#utt2words_lv = limit_vocab(utt2words)"
   ]
  },
  {
   "cell_type": "code",
   "execution_count": 78,
   "id": "a6abccee",
   "metadata": {},
   "outputs": [
    {
     "data": {
      "application/vnd.jupyter.widget-view+json": {
       "model_id": "8fbddfbb4e2c4163a1a096ced7ba46ad",
       "version_major": 2,
       "version_minor": 0
      },
      "text/plain": [
       "  0%|          | 0/10000 [00:00<?, ?it/s]"
      ]
     },
     "metadata": {},
     "output_type": "display_data"
    },
    {
     "name": "stdout",
     "output_type": "stream",
     "text": [
      "геев гнев\n",
      "была быча\n",
      "колывань колынь\n",
      "свинг самое\n",
      "шакалов шакалы\n",
      "замазала запихала\n",
      "воля волосы\n",
      "шорты шорту\n",
      "корень уровень\n",
      "мото метро\n",
      "надеюсь нажми\n",
      "говорить говорит\n",
      "водитель водителю\n",
      "вечером вечер\n",
      "фиолетовой фотоновой\n",
      "выехал выезжать\n",
      "черна чапа\n",
      "авто авито\n",
      "выгуливать выгулять\n",
      "пололи положи\n",
      "вызовов выздоравливай\n",
      "пробовал плюс\n",
      "русскому русском\n",
      "мазок маздота\n",
      "не на\n",
      "обувь обед\n",
      "он бре\n",
      "никогда никого\n",
      "баба бата\n",
      "прочел почему\n",
      "кн кг\n",
      "виде видео\n",
      "агапкина ангелина\n",
      "дьявол дьявон\n",
      "анадырь аналогию\n",
      "заберем заберет\n",
      "завтра звоню\n",
      "тыс там\n",
      "девочка девочки\n",
      "стоит строит\n",
      "ощущение результат\n",
      "выбил фабир\n",
      "прошел пошел\n",
      "романович романдам\n",
      "договаривайся договоривайся\n",
      "глав глава\n",
      "работы работаю\n",
      "доллар дождусь\n",
      "занимаешься зарегистрись\n",
      "приветик привет\n",
      "мм ммм\n",
      "выглядят выглядит\n",
      "крот кот\n",
      "потому полимин\n",
      "сторону стону\n",
      "привете приветик\n",
      "ест есть\n",
      "лежит делать\n",
      "прожить пожить\n",
      "марин марии\n",
      "подпрыгнул подыгнул\n",
      "возможности возможность\n",
      "лай дай\n",
      "проспект посмотрел\n",
      "считал считала\n",
      "ну не\n",
      "система систем\n",
      "проснулась проснулся\n",
      "отдыхаю отдыхая\n",
      "понятно понятного\n",
      "наказаний наказуй\n",
      "дачи дочь\n",
      "нарисовал написал\n",
      "мине минее\n",
      "здорова здорово\n",
      "лэйбл дэйбл\n",
      "саша сашас\n",
      "козлов козла\n",
      "поверить плакать\n",
      "виза ариза\n",
      "настю настью\n",
      "скользко сколько\n",
      "скажу скажешь\n",
      "бать брать\n",
      "зажимают зажигаю\n",
      "запах харах\n",
      "эволюцию эволюция\n",
      "уговорить кровати\n",
      "реабилитироваться реабилитировать\n",
      "ишачий ингласный\n",
      "попил платил\n",
      "работать работает\n",
      "др до\n",
      "подложку подожду\n",
      "полнейшей поднейший\n",
      "бел бед\n",
      "бракер бакер\n",
      "норм едем\n",
      "лесов лесову\n",
      "девиз делать\n",
      "ка как\n",
      "позвонить позвони\n",
      "мм им\n",
      "моей мой\n",
      "так та\n",
      "россию россии\n",
      "ну ней\n",
      "рулит рулить\n",
      "куда-нибудь кунибу\n",
      "мозгов можно\n",
      "ваз вах\n",
      "двум драки\n",
      "будет будем\n",
      "махровый малховы\n",
      "районе райное\n",
      "бан баг\n",
      "такое точно\n",
      "пространство постранство\n",
      "каток кататься\n",
      "хотин хотите\n",
      "одиночный одинчены\n",
      "вам вас\n",
      "мешало мешала\n",
      "сопьюсь сопьются\n",
      "муму мума\n",
      "сахар сахара\n",
      "иди или\n",
      "зарплату зовут\n",
      "сиди сидит\n",
      "восстановить абстрановать\n",
      "убила удобно\n",
      "ха-ха хахаха\n",
      "ну не\n",
      "деградирующая денежнующая\n",
      "антоном антон\n",
      "состав составы\n",
      "нас нам\n",
      "ромку ромп\n",
      "или июри\n",
      "сожалению сожелению\n",
      "говоря говорят\n",
      "нравиться нравится\n",
      "выбивается выбирания\n",
      "стороны стирны\n",
      "сообщили сообщения\n",
      "наименований наименование\n",
      "приливов приливы\n",
      "отдыхаешь отдыхать\n",
      "из их\n",
      "входная взрослая\n",
      "древняя древня\n",
      "дамках двиках\n",
      "наю нет\n",
      "называется названия\n",
      "глазам глаз\n",
      "готовить готовиться\n",
      "про по\n",
      "супер скорее\n",
      "озера озенов\n",
      "льет лет\n",
      "скины скрины\n",
      "ахаха ахахах\n",
      "уколы укроды\n",
      "побои побом\n",
      "по про\n",
      "насыпала насыпаться\n",
      "луж дел\n",
      "домофона диомафона\n",
      "зарабатывали зарабатывать\n",
      "присел примерно\n",
      "замечательное замечать\n",
      "ахахах ахах\n",
      "скалкой скидкой\n",
      "срочно совет\n",
      "жак дак\n",
      "баланс баллые\n",
      "отношениями отношениям\n",
      "хранить звонить\n",
      "калл кал\n",
      "нк не\n",
      "намного напиши\n",
      "хай зай\n",
      "поспи поспал\n",
      "давным данная\n",
      "кайфовать камулять\n",
      "большее больше\n",
      "больного больно\n",
      "электрощиты электрозиты\n",
      "произведение произвели\n",
      "се сек\n",
      "попадаются попозже\n",
      "идеей идей\n",
      "веря вечер\n",
      "пожалуйста пойма\n",
      "из их\n",
      "покупать плеции\n",
      "встретимся встретиться\n",
      "конца конечно\n",
      "здарова здоровье\n",
      "особенному остановку\n",
      "качестве кассиве\n",
      "гудят гулять\n",
      "белы белые\n",
      "вшивая взрослая\n",
      "людям людят\n",
      "гою год\n",
      "умеет умнет\n",
      "снижает сгижает\n",
      "заявкам зачем\n",
      "ном нос\n",
      "подробней подробну\n",
      "ид идти\n",
      "не неа\n",
      "семье сестре\n",
      "восстановить восстановь\n",
      "злая зря\n",
      "разрешил разрешили\n",
      "брюшной большое\n",
      "разная пахнемся\n",
      "будут будет\n",
      "успеете какие\n",
      "кп кпп\n",
      "вот воль\n",
      "звонил знаешь\n",
      "мыслями мысля\n",
      "понедельник поедешь\n",
      "призывников призваником\n",
      "жесть знаю\n",
      "услуги услыши\n",
      "пошел прошел\n",
      "евгений евгения\n",
      "ростом россии\n",
      "ее как\n",
      "колдуешь концерт\n",
      "мда мода\n",
      "мин мне\n",
      "заказы заказывай\n",
      "каре какое\n",
      "выбил выбить\n",
      "созвучия созакция\n",
      "две доче\n",
      "уроки уром\n",
      "смотала смотрю\n",
      "классный касный\n",
      "плов пора\n",
      "алуште пойдешь\n",
      "обезболивающие обездевание\n",
      "удалила кадалила\n",
      "крошка кошка\n",
      "походом похожи\n",
      "читов стопы\n",
      "мам мама\n",
      "или иди\n",
      "представляю предсюдаю\n",
      "напала напал\n",
      "зашить хочешь\n",
      "вождение вождения\n",
      "стул студ\n",
      "научится научиться\n",
      "школьники школьном\n",
      "кто-то кто\n",
      "виталия виртуальная\n",
      "будет будем\n",
      "шторм штором\n",
      "хорни зони\n",
      "дилшод жизнь\n",
      "ветчина вариант\n",
      "балл бал\n",
      "подали продали\n",
      "эдит эмб\n",
      "купить купит\n",
      "переходя переходят\n",
      "цирк цик\n",
      "толик только\n",
      "часов самому\n",
      "игре игру\n",
      "перенервничал перенесла\n",
      "девушка девушку\n",
      "встретимся встретим\n",
      "любовь люблю\n",
      "кто утро\n",
      "ул уж\n",
      "он ок\n",
      "убрать удать\n",
      "теперь тарею\n",
      "не ну\n",
      "приехали приехал\n",
      "перестанет перестань\n",
      "лице лисун\n",
      "рф раф\n",
      "нормалек нормальное\n",
      "дорогостоящие догостоящие\n",
      "девкам девка\n",
      "китайским крицким\n",
      "ха за\n",
      "то тол\n",
      "стене стена\n",
      "что что-то\n",
      "будут буду\n",
      "же де\n",
      "хахах хахаха\n",
      "знакомых знакомах\n",
      "фрик фотки\n",
      "курьер куртер\n",
      "объяснений объясни\n",
      "благодарю благадарю\n",
      "появилась появился\n",
      "спасибо спать\n",
      "россии россия\n",
      "далеко далее\n",
      "опал орал\n",
      "есть кси\n",
      "горит горат\n",
      "дразнишься дозвонишься\n",
      "кормить кость\n",
      "ду дне\n",
      "вере верев\n",
      "ахаха ахахах\n",
      "читаю стал\n",
      "тетя тебя\n",
      "выключи выключить\n",
      "делала делать\n",
      "плохое попозже\n",
      "дело дети\n",
      "массажным масжным\n",
      "фролов фолов\n",
      "перестань перечинь\n",
      "выходить выходит\n",
      "приколе прикольно\n",
      "может идет\n",
      "помогу потому\n",
      "константин констрент\n",
      "цезарь целовать\n",
      "мигрируй минируй\n",
      "забиваю забирать\n",
      "счастьем счастье\n",
      "замерим заменим\n",
      "сч ся\n",
      "печорина песонина\n",
      "каждый каждой\n",
      "сказали сказала\n",
      "бахает базарь\n",
      "самсонова самонова\n",
      "данилом даниила\n",
      "оскорблениями оскоблении\n",
      "вор ало\n",
      "старая старым\n",
      "энди этом\n",
      "орут опут\n",
      "работу работе\n",
      "считается считал\n",
      "водонагреватель волонагреватель\n",
      "братцы батуф\n",
      "скрываешь серываешь\n",
      "че се\n",
      "проезд поезд\n",
      "забыл забирать\n",
      "абу абе\n",
      "эту эти\n",
      "димой домой\n",
      "пеги песни\n",
      "объявления обяснения\n",
      "отошел открыть\n",
      "про по\n",
      "хахаха хахах\n",
      "пан папе\n",
      "прохождение похождение\n",
      "ха за\n",
      "гас щас\n",
      "бад бал\n",
      "улан-удэ клан-удэ\n",
      "нами нам\n",
      "делай дай\n",
      "ланд ладно\n",
      "крутяк крутяз\n",
      "ее угу\n",
      "было была\n",
      "максимальном максимально\n",
      "вышло вышла\n",
      "угу вагу\n",
      "математика маленькая\n",
      "есть если\n",
      "до да\n",
      "занят занята\n",
      "поселок поселку\n",
      "германии гермении\n",
      "нечего ничего\n",
      "наши нашим\n",
      "сделать сдать\n",
      "надеж надежда\n",
      "ахаха ахах\n",
      "доброй добрый\n",
      "маг маш\n",
      "спасибо спать\n",
      "за ха\n",
      "кофточку крытчку\n",
      "неадекватное невдекатное\n",
      "значки заявки\n",
      "ввиду вижу\n",
      "та ты\n",
      "исключим исключения\n",
      "температур температура\n",
      "самара саматы\n",
      "красне краснее\n",
      "приветик приветствие\n",
      "нета нету\n",
      "стикер стикет\n",
      "просила послал\n",
      "померить поменить\n",
      "спорт сорт\n",
      "горы года\n",
      "трест тест\n",
      "любим любит\n",
      "служило служилось\n",
      "шляпа гляпа\n",
      "сидел силе\n",
      "фотку форму\n",
      "поняла понял\n",
      "аванс авго\n",
      "альба альбина\n",
      "снюс себя\n",
      "была было\n",
      "знаешь ждешь\n",
      "наступающим наслуши\n",
      "кармане картане\n",
      "менее мене\n",
      "кабинеты кабинуты\n",
      "ей ну\n",
      "съездить сбежишь\n",
      "спокойнее спокойной\n",
      "вставил вставай\n",
      "менде медна\n",
      "брюнетку брюнесть\n",
      "овен равно\n",
      "тимофей тимофрей\n",
      "завтрак завтра\n",
      "будет будут\n",
      "детройт детейки\n",
      "продавал пожалуйста\n",
      "специалиста специальный\n",
      "складу складку\n",
      "рита пить\n",
      "требований требование\n",
      "димуль досуль\n",
      "кузьмина кухнета\n",
      "климент кливить\n",
      "манхва манза\n",
      "ребятишки ребстишки\n",
      "показывают показать\n",
      "космо кем-то\n",
      "положить положу\n",
      "превысил превысит\n",
      "малина мадина\n",
      "хахахаха хахаха\n",
      "амин висит\n",
      "рана пана\n",
      "также такое\n",
      "придешь приедешь\n",
      "овощей овшей\n",
      "уазик казик\n",
      "деле лежу\n",
      "случится случиться\n",
      "денег лег\n",
      "альбом альберт\n",
      "отличник отличное\n",
      "хорошо хорошего\n",
      "промо просто\n",
      "денег деген\n",
      "ведьмак ведьма\n",
      "пилить пились\n",
      "чемпионом чемпион\n",
      "сушу сургу\n",
      "получаем получем\n",
      "мной много\n",
      "тц ту\n",
      "ик так\n",
      "назвали нашево\n",
      "заметила завтра\n",
      "изо из-за\n",
      "осталась осталось\n",
      "задержка заблудка\n",
      "озера озеру\n",
      "до да\n",
      "мне мене\n",
      "встать вставать\n",
      "подзатыльник похвальник\n",
      "или иди\n",
      "завершающий завергающий\n",
      "ходят зря\n",
      "про по\n",
      "туч тус\n",
      "подвал продал\n",
      "му су\n",
      "было была\n",
      "на неа\n",
      "довела давно\n",
      "корейцы копца\n",
      "ша ща\n",
      "назвала называй\n",
      "успеваю акцию\n",
      "дочь даст\n",
      "вернусь вернуть\n",
      "авы аву\n",
      "си ст\n",
      "иринка инка\n",
      "торопиться торопится\n",
      "вакуумные ваумные\n",
      "тосно точно\n",
      "хоро хорошо\n",
      "эгоистка эгоиска\n",
      "эм эс\n",
      "однокурсницы однокласницы\n",
      "фонарик фонанник\n",
      "получится соляния\n",
      "меди мади\n",
      "кок кру\n",
      "эти этим\n",
      "вступил встал\n",
      "школьником щельником\n",
      "пошел прошел\n",
      "сектор скинь\n",
      "сложно сдохла\n",
      "негр неген\n",
      "сольюсь собираюсь\n",
      "воды вова\n",
      "ей ейк\n",
      "противо поставил\n",
      "камень-на-оби камень-нибудь\n",
      "смолу столу\n",
      "ленинградской ленингородской\n",
      "сама масса\n",
      "имея искать\n",
      "нега негс\n",
      "пойдем пойдет\n",
      "речи речь\n",
      "закончили закончится\n",
      "литвинова литамнова\n",
      "видео виболее\n",
      "котят удалять\n",
      "кричи кристи\n",
      "переживаю переживая\n",
      "не на\n",
      "позы прозы\n",
      "моменты момента\n",
      "мягко мягком\n",
      "прилетаете прилетает\n",
      "готово ново\n",
      "нудна нужна\n",
      "салам салом\n",
      "люди люба\n",
      "если есть\n",
      "хочу зовут\n",
      "про по\n",
      "цыпленок фокнопка\n",
      "разорвало разывло\n",
      "конец клей\n",
      "флота форта\n",
      "ну не\n",
      "топ топа\n",
      "оттепель отрепеешь\n",
      "начало начал\n",
      "покажи прекрасно\n",
      "хуже хеде\n",
      "таджикистан таблетки\n",
      "видео видел\n",
      "чего чел\n",
      "сколько скинь\n",
      "отличии отлистит\n",
      "оксана окна\n",
      "топ том\n",
      "дома доме\n",
      "подвиги подвиши\n",
      "третьим терьим\n",
      "требуется требует\n",
      "было был\n",
      "снов сена\n",
      "заказ закон\n",
      "сверхъестественного сверстенности\n",
      "пожарить продаст\n",
      "непосредственно непонятненькость\n",
      "ив ма\n",
      "череп черка\n",
      "внимания внимание\n",
      "кроссовки красивки\n",
      "камере камеле\n",
      "глючит глючить\n",
      "галочкой глянул\n",
      "соцзащита спущусь\n",
      "наорала наорался\n",
      "выползай вырозву\n",
      "продолжай продолжений\n",
      "единственное ездила\n",
      "поменять помеянно\n",
      "наверно наверное\n",
      "пойдешь пойдет\n",
      "хеппи знаю\n",
      "душ друг\n",
      "ковтун кладбище\n",
      "кипр кир\n",
      "петов пентов\n",
      "маленьких маленький\n",
      "обидел обидно\n",
      "павильоне павильон\n",
      "памяти памми\n",
      "пол по\n",
      "комп клип\n",
      "присяги приятного\n",
      "сентября себя\n",
      "брад брал\n",
      "фу фе\n",
      "заряжается западается\n",
      "топ топа\n",
      "бургер будет\n",
      "менее мнене\n",
      "наггетсы нагнутая\n",
      "собираю собираюсь\n",
      "клиент егент\n",
      "призвание пришел\n",
      "вена вагнеп\n",
      "оказывается оказывает\n",
      "про по\n",
      "подругой подруга\n",
      "ух уз\n",
      "видно сильно\n",
      "мокрые мокрак\n",
      "там такси\n",
      "объекте обеду\n",
      "своим своими\n",
      "двухстороннем двухстанеги\n",
      "что сто\n",
      "катта ката\n",
      "любом любим\n",
      "ипотеку ипотеке\n",
      "отвечаю оставлю\n",
      "по ал\n",
      "человек чела\n",
      "аллохол аллоход\n",
      "из их\n",
      "блонд больно\n",
      "изи из-за\n",
      "скок скорее\n",
      "ярмак ярочку\n",
      "яме ясе\n",
      "придете прилетел\n",
      "оплате оплата\n",
      "района районе\n",
      "удлинитель водитель\n",
      "ставок старые\n",
      "про по\n",
      "брат брать\n",
      "очко очень\n",
      "детская дениская\n",
      "посмотрим пособим\n",
      "норидж нориод\n",
      "единорога ельского\n",
      "ура уда\n",
      "будет будем\n",
      "гей ой\n",
      "лык лфе\n",
      "телеге телефон\n",
      "русской русский\n",
      "инсайд инсайды\n",
      "бабуина бабурин\n",
      "буду будут\n",
      "возьми возьму\n",
      "курят кунчал\n",
      "прослушал послушал\n",
      "вывешивать вырегивать\n",
      "предлагает предлагал\n",
      "оля олия\n",
      "стоял стоят\n",
      "ели едь\n",
      "миф милы\n",
      "кристина користина\n",
      "виде видео\n",
      "машинку машинцы\n",
      "встретиться встретить\n",
      "попробую пораньше\n",
      "дошло дорого\n",
      "кошмаров коломаров\n",
      "расставлены расставлена\n",
      "попала пропала\n",
      "ахахах ахах\n",
      "стад стал\n",
      "начинается настнается\n",
      "спится мариться\n",
      "тряпки тряпке\n",
      "предал предатель\n",
      "твои твоим\n",
      "андре андрей\n",
      "из их\n",
      "политикам плиткам\n",
      "опять отправят\n",
      "отвлекайте отвлекай\n",
      "можно может\n",
      "пошел прошел\n",
      "нее не\n",
      "веселее вселен\n",
      "балан братан\n",
      "церкви церна\n",
      "там так\n",
      "оповещения опращения\n",
      "кричала кривала\n",
      "сердечка скредечка\n",
      "из их\n",
      "белово беловод\n",
      "постоянно простоная\n",
      "оденьте оденься\n",
      "машине магнище\n",
      "улучшаю улушаю\n",
      "юля эля\n",
      "трезв тореза\n",
      "сороковых мороковых\n",
      "аптека аппетка\n",
      "удобно ужер\n",
      "дома дорам\n",
      "так там\n",
      "высылала высылалала\n",
      "катала катал\n",
      "лови дат\n",
      "свершилось свежилось\n",
      "присылай просыпай\n",
      "приемом примерном\n",
      "морс мос\n",
      "узнаешь узнает\n",
      "разочарован разряда\n",
      "анна ага\n",
      "увидел увидеть\n",
      "заклей закалей\n",
      "которой которые\n",
      "опасности расносим\n",
      "почти прям\n",
      "заходишь захочешь\n",
      "межрайонным межданным\n",
      "моей мой\n",
      "наручники наручки\n",
      "слабак слабок\n",
      "до да\n",
      "желаю делаю\n",
      "фольсваген фоткагер\n",
      "оформляем оформляет\n",
      "выглядите выглядит\n",
      "вита фита\n",
      "мам мама\n",
      "за ща\n",
      "да дак\n",
      "кинула конкрета\n",
      "канала канают\n",
      "село села\n",
      "упала крада\n",
      "лиц лик\n",
      "что сто\n",
      "дают делают\n",
      "менеджеру менежеру\n",
      "экрану эксну\n",
      "выиграл авигар\n",
      "звуковой закрывай\n",
      "мак су\n",
      "спекулятивной спустянный\n",
      "вывелись вывести\n",
      "мироточить миротость\n",
      "отгадали отглади\n",
      "скорее скоро\n",
      "работы оплату\n",
      "отсталый остальный\n",
      "крыльцо крыльцы\n",
      "перси пермь\n",
      "видел видео\n",
      "смыла смысл\n",
      "поговоришь поговорил\n",
      "ванн ванну\n",
      "похвастаться пользовать\n",
      "американский аминский\n",
      "аксен аксел\n",
      "облегчить обнимаешь\n",
      "выспаться выспался\n",
      "оставить оставь\n",
      "смысла свечала\n",
      "иле иде\n",
      "анют анюте\n",
      "интересно интересе\n",
      "печаль понял\n",
      "адрес адресе\n",
      "косичка костичка\n",
      "мин син\n",
      "токо тонко\n",
      "ничем очень\n",
      "забирать забрать\n",
      "навигаторе неправильно\n",
      "черкасская черкомская\n",
      "дл до\n",
      "не но\n",
      "продаю продукт\n",
      "обойдусь обойду\n",
      "съезди старшей\n",
      "мерь мерт\n",
      "им тим\n",
      "спросила спросите\n",
      "авы вы\n",
      "селедки сережки\n",
      "страшного страшно\n",
      "пап папа\n",
      "мертвая серия\n",
      "научись научиться\n",
      "больница больницу\n",
      "кишиневе кизиневе\n",
      "садике садника\n",
      "забивать забирать\n",
      "недель неделю\n",
      "ссориться смотря\n",
      "воскресенье воспитание\n",
      "ты та\n",
      "конечной конченный\n",
      "ба бы\n",
      "половины полным\n",
      "заварка звонка\n",
      "беситься бесится\n",
      "еловой новой\n",
      "ахахах ахах\n",
      "генеральный нененовльный\n",
      "выборе выберу\n",
      "боятся бояться\n",
      "завотделением заводеление\n",
      "будет будут\n",
      "работай работой\n",
      "братск братик\n",
      "спокойной спокойно\n",
      "др да\n",
      "обзор общаться\n",
      "скетч света\n",
      "шло шо\n",
      "под ал\n",
      "дегтярев деньги\n",
      "вождения вожденном\n",
      "большое большие\n",
      "люся любимая\n",
      "александр александры\n",
      "ездил ездить\n",
      "вспомни вспомнить\n",
      "вернут вернуть\n",
      "выдано выдан\n",
      "даун друг\n",
      "перерыл перевод\n",
      "кровать кровь\n",
      "данила дашила\n",
      "терпеливее терпедиве\n",
      "робот обои\n",
      "сотни смотри\n",
      "франция франс\n",
      "разным разныч\n",
      "живем живет\n",
      "тем там\n",
      "сосуды соснулся\n",
      "отпрашивалась отпрышивалась\n",
      "умею виню\n",
      "момент москва\n",
      "неделе нужен\n",
      "попью платью\n",
      "изменчивости изменствовать\n",
      "урожай колодой\n",
      "мамбо масло\n",
      "удалила удала\n",
      "айди пайди\n",
      "знакомств хермата\n",
      "шева шевр\n",
      "руслан реально\n",
      "др до\n",
      "буру буду\n",
      "рукам руки\n",
      "другое другие\n",
      "моя илья\n",
      "следила сделала\n",
      "ха за\n",
      "штекера штукера\n",
      "директор живестно\n",
      "занятия заняться\n",
      "заработал заработать\n",
      "дружбу дружба\n",
      "димой домой\n",
      "раздевала раздеваться\n",
      "пойдет пойдут\n",
      "вере вер\n",
      "самной спиной\n",
      "декрета декорета\n",
      "дора давы\n",
      "гог ого\n",
      "перезаписала переживай\n",
      "стою сб\n",
      "именно менго\n",
      "хочется хватит\n",
      "кисель кисел\n",
      "нурлан нурал\n",
      "когда езды\n",
      "дума думал\n",
      "глаза газа\n",
      "вольтаж возьми\n",
      "хорош хорошо\n",
      "аренда поела\n",
      "галю надю\n",
      "как кан\n",
      "леша леш\n",
      "русский русская\n",
      "тайна тайга\n",
      "дышать дынь\n",
      "увезет увезли\n",
      "милаш позвони\n",
      "октмо октимом\n",
      "сделана сделает\n",
      "запчасти запяти\n",
      "цена угу\n",
      "мартовские марта\n",
      "шаманил шаманис\n",
      "напарница напаница\n",
      "титан билан\n",
      "ночи ночь\n",
      "пообещай подъезжай\n",
      "могу мишу\n",
      "ростовом ростово\n",
      "испортить историю\n",
      "случайно спокойной\n",
      "расскажу рассказе\n",
      "откроется откровенная\n",
      "из их\n",
      "тандыра танцор\n",
      "кинотеатром контеатром\n",
      "проиграть пригира\n",
      "огромное оплатное\n",
      "катают кстати\n",
      "сколько склад\n",
      "ха хо\n",
      "бухарой бухай\n",
      "игра игру\n",
      "апелляции апеляции\n",
      "подразделение полавление\n",
      "еду еде\n",
      "про по\n",
      "илюха илюза\n",
      "думаю детскую\n",
      "бод бодж\n",
      "кривда кривода\n",
      "подарки пожарки\n",
      "пометила поменяла\n",
      "осложнения осоложнения\n",
      "офигеть двигать\n",
      "гм ги\n",
      "росс рос\n",
      "про по\n",
      "дешевое дешевле\n",
      "придти пришли\n",
      "нее не\n",
      "гораздо городом\n",
      "россии россию\n",
      "колер козер\n",
      "тима типа\n",
      "вон вое\n",
      "стояк старое\n",
      "лена леша\n",
      "александров александр\n",
      "пополняют пополняются\n",
      "кровных кроватных\n",
      "чудик чужик\n",
      "внимания внимание\n",
      "овощами разами\n",
      "успею успейся\n",
      "случилось случаело\n",
      "люся любая\n",
      "было был\n",
      "вяжет выядет\n",
      "папа пап\n",
      "цементом центре\n",
      "будет будем\n",
      "фархад фархал\n",
      "подсолнечное подсолнечно\n",
      "разговаривать разводить\n",
      "привези привезли\n",
      "мне моне\n",
      "сони мони\n",
      "сделал сделала\n",
      "ахахах ахаха\n",
      "выпало выпала\n",
      "по пиши\n",
      "зай хай\n",
      "вдруг волосы\n",
      "краснодарский краснозанский\n",
      "посмотреть посидеть\n",
      "парень парню\n",
      "адлер адрес\n",
      "дороге дорогое\n",
      "откос отпуск\n",
      "про по\n",
      "прости попить\n",
      "еду еще\n",
      "ассоциируюсь ассоциацию\n",
      "по прош\n",
      "пары папы\n",
      "то тон\n",
      "народу наблюдай\n",
      "обтираться обираться\n",
      "гране грана\n",
      "просто поспать\n",
      "приедешь придешь\n",
      "гульнар губнар\n",
      "интересуется интересуемся\n",
      "пока почему\n",
      "нс на\n",
      "проводов провод\n",
      "упругие кругие\n",
      "иди или\n",
      "графике график\n",
      "ваще вроде\n",
      "кофту кофте\n",
      "кто утро\n",
      "просто прост\n",
      "проезжал поезжал\n",
      "будешь будь\n",
      "было был\n",
      "гашека гашка\n",
      "болеют боюсь\n",
      "нами нам\n",
      "технология техно\n",
      "врача воян\n",
      "гемов геморы\n",
      "дают-бери дают\n",
      "промыл помыл\n",
      "тупой музыку\n",
      "ссылку сварку\n",
      "интересно инсте\n",
      "скольки сколько\n",
      "маршала маргала\n",
      "скоро сколько\n",
      "режиссер режесет\n",
      "работы работа\n",
      "сообщу вообще\n",
      "приехал приехать\n",
      "нег неге\n",
      "сделаю можно\n",
      "прилетела придумал\n",
      "прощаю поздравляю\n",
      "люблю любит\n",
      "обещаю общаюсь\n",
      "пошлое прошлое\n",
      "ель едь\n",
      "узбекский узкий\n",
      "посмотри простом\n",
      "фиат фита\n",
      "нравится нормально\n",
      "сестренка сестре\n",
      "сладких сдает\n",
      "та ты\n",
      "отношениях отношених\n",
      "хату зомату\n",
      "ворчать воспитать\n",
      "нее не\n",
      "ростовская ростовея\n",
      "убейте убейт\n",
      "зоя зря\n",
      "крестить крепить\n",
      "инсульт инскорт\n",
      "твоя тебя\n",
      "обожралась обожрались\n",
      "дань дает\n",
      "скайрим скафпим\n",
      "на не\n",
      "валера алков\n",
      "существительные существенные\n",
      "мечтаю местаю\n",
      "тепло теперь\n",
      "телевизор троллевизор\n",
      "отжимает отживке\n",
      "пластмассовые пластмасовые\n",
      "очень точно\n",
      "роспотребнадзор роспортная\n",
      "валентина валентины\n",
      "калеки калки\n",
      "дилер жидко\n",
      "вылил форма\n",
      "пойдешь пойду\n",
      "здравствуйте здавать\n",
      "мелочи мелочь\n",
      "класса карса\n",
      "будет белково\n",
      "ну не\n",
      "ватт варить\n",
      "да за\n",
      "прошла пошла\n",
      "общих обших\n",
      "мечты спасибо\n",
      "города годом\n",
      "видео видел\n",
      "было был\n",
      "дурак денег\n",
      "алма арома\n",
      "денете ленте\n",
      "мексика местка\n",
      "серым сейчас\n",
      "статистика стастика\n",
      "обращайся образный\n",
      "квитанция квитанутся\n",
      "поста против\n",
      "застолье застолько\n",
      "опаздывай опоздание\n",
      "полковником проковником\n",
      "модуля идея\n",
      "сказал сказать\n",
      "налетят надеюсь\n",
      "рассмеялся расскаялся\n",
      "ерундой ерундал\n",
      "возьмем возьмет\n",
      "уверена канона\n",
      "муз мух\n",
      "аст всю\n",
      "звонит звонить\n",
      "конкурировать коннекурировать\n",
      "пропадут правда\n",
      "факел фарно\n",
      "первого певого\n",
      "кака как\n",
      "шрам шам\n",
      "про по\n",
      "если неслом\n",
      "встаю встать\n",
      "бед обед\n",
      "ясно что\n",
      "чернобыль черносбы\n",
      "этим эмис\n",
      "нов новы\n",
      "защищаться заниматься\n",
      "беларуси беларису\n",
      "соберись смотреть\n",
      "венецианский венцианский\n",
      "украинский украински\n",
      "термоса теряла\n",
      "возим води\n",
      "одеялко одеялово\n",
      "учи умит\n",
      "заходить заходит\n",
      "др до\n",
      "расстраивайся расставайся\n",
      "поорет попьет\n",
      "вот вали\n",
      "папа пап\n",
      "ля для\n",
      "завистливый зависливый\n",
      "ирина марина\n",
      "про по\n",
      "расстались рамир\n",
      "двигается двигаться\n",
      "понравилось понравилась\n",
      "задать задам\n",
      "дед дел\n",
      "будет будем\n",
      "резерве резерву\n",
      "ну не\n",
      "умеем умрем\n",
      "за ха\n",
      "быстрей быстрее\n",
      "восход происходит\n",
      "солидному слидному\n",
      "груш груз\n",
      "подстригаться подстричься\n",
      "ваш ваз\n",
      "пойдет пойду\n",
      "султанша султанга\n",
      "любить любит\n",
      "часах через\n",
      "пятница пятницы\n",
      "жор до\n",
      "аза ахах\n",
      "липовая диплавая\n",
      "весить весь\n",
      "понедельник поедем\n",
      "позорься пользоваться\n",
      "дизель жизнь\n",
      "самую самаю\n",
      "турист тупить\n",
      "случилось спокойности\n",
      "помню помощь\n",
      "мух муж\n",
      "спасибо спать\n",
      "была бада\n",
      "картриджем картплеем\n",
      "поискать поиски\n",
      "картонкой картинкой\n",
      "висит вит\n",
      "скрипт скрипит\n",
      "комментарии комнате\n",
      "тубик трубик\n",
      "бессонница бессонницы\n",
      "нее не\n",
      "оттащить отмазить\n",
      "вопросу волосок\n",
      "лол дол\n",
      "иметь мат\n",
      "переломе передние\n",
      "германа геомана\n",
      "своих сах\n",
      "досвидос доявилась\n",
      "домашнее домашек\n",
      "полка пока\n",
      "выскакивает выскажешь\n",
      "нас нет\n",
      "выходим выходина\n",
      "стену стану\n",
      "удачного класного\n",
      "арктик аппетита\n",
      "нет лет\n",
      "своей свое\n",
      "вел вед\n",
      "куни куши\n",
      "училка усилка\n",
      "работать работаю\n",
      "продан план\n",
      "на нас\n",
      "столб столько\n",
      "москву москве\n",
      "дул дуд\n",
      "твой тай\n",
      "повод провод\n",
      "приехал приезжай\n",
      "вика все\n",
      "подробности подобности\n",
      "виктор амето\n",
      "выключен выключение\n",
      "великолукский великолепный\n",
      "потерпи потерпишь\n",
      "про по\n",
      "прости прост\n",
      "местом место\n",
      "решим режим\n",
      "легко леша\n",
      "пола рола\n",
      "проблемы проблем\n",
      "проработка прорабление\n",
      "кто кп\n",
      "сказки сказал\n",
      "чет чем\n",
      "мы ив\n",
      "сияешь смяешь\n",
      "эвакуация эвоция\n",
      "дочь дат\n",
      "тв ты\n",
      "хаз хахах\n",
      "поняла понятно\n",
      "худам худом\n",
      "этому эму\n",
      "наклейки накулку\n",
      "эффект эфффект\n",
      "ирина инна\n",
      "входящие взрослые\n",
      "total=10000 corr=8751 err=1249, accuracy: 0.8751\n",
      "0.8751\n"
     ]
    }
   ],
   "source": [
    "print(accuracy(valid_ref_u2w, {k:v[0] for k,v in utt2words.items()}))\n"
   ]
  },
  {
   "cell_type": "code",
   "execution_count": 79,
   "id": "e5ef9a62",
   "metadata": {},
   "outputs": [
    {
     "data": {
      "application/vnd.jupyter.widget-view+json": {
       "model_id": "904b3f9460a7429aae740a1418d71380",
       "version_major": 2,
       "version_minor": 0
      },
      "text/plain": [
       "  0%|          | 0/10000 [00:00<?, ?it/s]"
      ]
     },
     "metadata": {},
     "output_type": "display_data"
    },
    {
     "name": "stdout",
     "output_type": "stream",
     "text": [
      "геев гнев\n",
      "была быстра\n",
      "колывань кровь\n",
      "свинг самое\n",
      "шакалов шакалы\n",
      "замазала запихала\n",
      "воля волосы\n",
      "корень уровень\n",
      "мото метро\n",
      "надеюсь нажми\n",
      "говорить говорит\n",
      "водитель водителю\n",
      "вечером вечер\n",
      "фиолетовой фиговой\n",
      "выехал выезжать\n",
      "черна черная\n",
      "авто авито\n",
      "выгуливать выгулять\n",
      "пололи положи\n",
      "вызовов выздоравливай\n",
      "пробовал плюс\n",
      "русскому русском\n",
      "мазок мазда\n",
      "не на\n",
      "обувь обед\n",
      "он боре\n",
      "никогда никого\n",
      "баба бата\n",
      "прочел почему\n",
      "кн кг\n",
      "виде видео\n",
      "агапкина ангелина\n",
      "анадырь аналогию\n",
      "заберем заберет\n",
      "завтра звоню\n",
      "тыс там\n",
      "девочка девочки\n",
      "стоит строит\n",
      "ощущение результат\n",
      "выбил фьюри\n",
      "прошел пошел\n",
      "романович романтичная\n",
      "глав глава\n",
      "работы работаю\n",
      "доллар дождусь\n",
      "занимаешься заречную\n",
      "приветик привет\n",
      "мм ммм\n",
      "выглядят выглядит\n",
      "крот кот\n",
      "потому политик\n",
      "сторону стону\n",
      "привете приветик\n",
      "ест есть\n",
      "лежит делать\n",
      "прожить пожить\n",
      "марин марии\n",
      "возможности возможность\n",
      "лай дай\n",
      "проспект посмотрел\n",
      "считал считала\n",
      "ну не\n",
      "система систем\n",
      "проснулась проснулся\n",
      "отдыхаю отдыхая\n",
      "понятно понятного\n",
      "наказаний накажу\n",
      "дачи дочь\n",
      "нарисовал написал\n",
      "мине минее\n",
      "здорова здорово\n",
      "лэйбл официально\n",
      "козлов козла\n",
      "поверить плакать\n",
      "виза приехал\n",
      "настю насть\n",
      "скользко сколько\n",
      "скажу скажешь\n",
      "бать брать\n",
      "зажимают зажигаю\n",
      "запах харах\n",
      "эволюцию эволюция\n",
      "уговорить кровати\n",
      "реабилитироваться реабилитировать\n",
      "ишачий интересный\n",
      "попил платил\n",
      "работать работает\n",
      "др до\n",
      "подложку подожду\n",
      "полнейшей полнейший\n",
      "бел бед\n",
      "норм едем\n",
      "девиз делать\n",
      "ка как\n",
      "позвонить позвони\n",
      "мм им\n",
      "моей мой\n",
      "так та\n",
      "россию россии\n",
      "ну ней\n",
      "рулит рулить\n",
      "куда-нибудь куда\n",
      "мозгов можно\n",
      "ваз вах\n",
      "двум драки\n",
      "будет будем\n",
      "махровый свободный\n",
      "районе район\n",
      "бан баг\n",
      "такое точно\n",
      "пространство постараюсь\n",
      "каток кататься\n",
      "хотин хотите\n",
      "вам вас\n",
      "мешало мешала\n",
      "сопьюсь сопьются\n",
      "муму мума\n",
      "сахар сахара\n",
      "иди или\n",
      "зарплату зовут\n",
      "сиди сидит\n",
      "убила удобно\n",
      "ха-ха хахаха\n",
      "ну не\n",
      "деградирующая денежная\n",
      "антоном антон\n",
      "состав составы\n",
      "нас нам\n",
      "ромку после\n",
      "или тюри\n",
      "сожалению сожелению\n",
      "говоря говорят\n",
      "нравиться нравится\n",
      "выбивается выбирания\n",
      "стороны страны\n",
      "сообщили сообщения\n",
      "наименований наименование\n",
      "приливов приливы\n",
      "отдыхаешь отдыхать\n",
      "из их\n",
      "входная взрослая\n",
      "древняя древня\n",
      "наю нет\n",
      "называется названия\n",
      "глазам глаз\n",
      "готовить готовиться\n",
      "про по\n",
      "супер скорее\n",
      "льет лет\n",
      "скины скрины\n",
      "ахаха ахахах\n",
      "по про\n",
      "насыпала насыпаться\n",
      "луж дел\n",
      "зарабатывали зарабатывать\n",
      "присел примерно\n",
      "замечательное замечать\n",
      "ахахах ахах\n",
      "скалкой скидкой\n",
      "срочно совет\n",
      "жак дак\n",
      "баланс балансе\n",
      "отношениями отношениям\n",
      "хранить звонить\n",
      "калл кал\n",
      "нк не\n",
      "намного напиши\n",
      "хай зай\n",
      "поспи поспал\n",
      "давным данная\n",
      "кайфовать увиделись\n",
      "большее больше\n",
      "больного больно\n",
      "произведение произвели\n",
      "се сек\n",
      "попадаются попозже\n",
      "идеей идей\n",
      "веря вечер\n",
      "пожалуйста пойма\n",
      "из их\n",
      "покупать продукт\n",
      "встретимся встретиться\n",
      "конца конечно\n",
      "здарова здоровье\n",
      "особенному остановку\n",
      "качестве какие\n",
      "гудят гулять\n",
      "белы белые\n",
      "вшивая взрослая\n",
      "гою год\n",
      "умеет кинет\n",
      "снижает сгибает\n",
      "заявкам зачем\n",
      "ном нос\n",
      "ид идти\n",
      "не неа\n",
      "семье сестре\n",
      "злая зря\n",
      "разрешил разрешили\n",
      "брюшной большое\n",
      "разная пахнем\n",
      "будут будет\n",
      "успеете какие\n",
      "кп кпп\n",
      "вот воль\n",
      "звонил знаешь\n",
      "мыслями мысля\n",
      "понедельник поедешь\n",
      "призывников призванием\n",
      "жесть знаю\n",
      "услуги услышал\n",
      "пошел прошел\n",
      "евгений евгения\n",
      "ростом россии\n",
      "ее как\n",
      "колдуешь концерт\n",
      "мда мода\n",
      "мин мне\n",
      "заказы заказывай\n",
      "каре какое\n",
      "выбил выбить\n",
      "созвучия \n",
      "две дочек\n",
      "уроки утром\n",
      "смотала смотрю\n",
      "классный красный\n",
      "плов пора\n",
      "алуште пойдешь\n",
      "обезболивающие обезболивание\n",
      "удалила каждом\n",
      "крошка кошка\n",
      "походом похожи\n",
      "читов стопы\n",
      "мам мама\n",
      "или иди\n",
      "представляю представлю\n",
      "напала напал\n",
      "зашить хочешь\n",
      "вождение вождения\n",
      "научится научиться\n",
      "школьники школьном\n",
      "кто-то кто\n",
      "виталия виртуальная\n",
      "будет будем\n",
      "хорни храни\n",
      "дилшод жизнь\n",
      "ветчина вариант\n",
      "балл бал\n",
      "подали продали\n",
      "эдит эми\n",
      "купить купит\n",
      "переходя переходят\n",
      "цирк цик\n",
      "толик только\n",
      "часов самому\n",
      "игре игру\n",
      "перенервничал перенесла\n",
      "девушка девушку\n",
      "встретимся встретим\n",
      "любовь люблю\n",
      "кто утро\n",
      "ул уж\n",
      "он ок\n",
      "убрать удалить\n",
      "не ну\n",
      "приехали приехал\n",
      "перестанет перестань\n",
      "лице ливен\n",
      "рф раф\n",
      "нормалек нормальное\n",
      "дорогостоящие догоняющие\n",
      "девкам девка\n",
      "китайским которым\n",
      "ха за\n",
      "то тол\n",
      "стене стена\n",
      "что что-то\n",
      "будут буду\n",
      "же де\n",
      "хахах хахаха\n",
      "знакомых закончилась\n",
      "фрик фотки\n",
      "объяснений объясни\n",
      "появилась появился\n",
      "спасибо спать\n",
      "россии россия\n",
      "далеко далее\n",
      "опал орал\n",
      "есть кси\n",
      "горит говорит\n",
      "дразнишься дозвонишься\n",
      "кормить кость\n",
      "ду дне\n",
      "ахаха ахахах\n",
      "читаю стал\n",
      "тетя тебя\n",
      "выключи выключить\n",
      "делала делать\n",
      "плохое попозже\n",
      "дело дети\n",
      "фролов фолов\n",
      "выходить выходит\n",
      "приколе прикольно\n",
      "может идет\n",
      "помогу потому\n",
      "константин \n",
      "цезарь целовать\n",
      "забиваю забирать\n",
      "счастьем счастье\n",
      "замерим заменим\n",
      "сч ся\n",
      "каждый каждой\n",
      "сказали сказала\n",
      "бахает базарь\n",
      "данилом даниила\n",
      "оскорблениями отключении\n",
      "вор ало\n",
      "старая старым\n",
      "энди этом\n",
      "работу работе\n",
      "считается считал\n",
      "братцы батуты\n",
      "скрываешь серьезно\n",
      "че се\n",
      "проезд поезд\n",
      "забыл забирать\n",
      "абу абе\n",
      "эту эти\n",
      "димой домой\n",
      "пеги песни\n",
      "объявления объяснения\n",
      "отошел открыть\n",
      "про по\n",
      "хахаха хахах\n",
      "пан папе\n",
      "прохождение похождение\n",
      "ха за\n",
      "гас щас\n",
      "бад бал\n",
      "нами нам\n",
      "делай дай\n",
      "ланд ладно\n",
      "ее угу\n",
      "было была\n",
      "максимальном максимально\n",
      "вышло вышла\n",
      "угу вагу\n",
      "математика маленькая\n",
      "есть если\n",
      "до да\n",
      "занят занята\n",
      "поселок поселку\n",
      "нечего ничего\n",
      "наши нашим\n",
      "сделать сдать\n",
      "надеж надежда\n",
      "ахаха ахах\n",
      "доброй добрый\n",
      "маг маш\n",
      "спасибо спать\n",
      "за ха\n",
      "кофточку крымский\n",
      "значки заявки\n",
      "ввиду вижу\n",
      "та ты\n",
      "исключим исключения\n",
      "температур температура\n",
      "самара сама\n",
      "красне краснее\n",
      "приветик приветствие\n",
      "нета нету\n",
      "просила послал\n",
      "померить помнить\n",
      "спорт сорт\n",
      "горы года\n",
      "трест тест\n",
      "любим любит\n",
      "служило слушала\n",
      "сидел силе\n",
      "фотку форму\n",
      "поняла понял\n",
      "аванс выговор\n",
      "альба альбина\n",
      "снюс себя\n",
      "была было\n",
      "знаешь ждешь\n",
      "наступающим насколько\n",
      "кармане картине\n",
      "менее мене\n",
      "ей ну\n",
      "съездить сбежишь\n",
      "спокойнее спокойной\n",
      "вставил вставай\n",
      "менде медная\n",
      "брюнетку боюсь\n",
      "овен равно\n",
      "завтрак завтра\n",
      "будет будут\n",
      "детройт детский\n",
      "продавал пожалуйста\n",
      "специалиста специальный\n",
      "складу складку\n",
      "рита пить\n",
      "требований требование\n",
      "димуль дискотеки\n",
      "кузьмина кузька\n",
      "климент удивить\n",
      "показывают показать\n",
      "космо кем-то\n",
      "положить положу\n",
      "превысил превысит\n",
      "малина мадина\n",
      "хахахаха хахаха\n",
      "амин висит\n",
      "рана пана\n",
      "также такое\n",
      "придешь приедешь\n",
      "овощей окей\n",
      "деле лежу\n",
      "случится случиться\n",
      "денег лег\n",
      "альбом альберт\n",
      "отличник отличное\n",
      "хорошо хорошего\n",
      "промо просто\n",
      "денег деген\n",
      "ведьмак ведьма\n",
      "пилить пились\n",
      "чемпионом чемпион\n",
      "сушу сургу\n",
      "мной много\n",
      "тц ту\n",
      "ик так\n",
      "назвали назвал\n",
      "заметила завтра\n",
      "изо из-за\n",
      "осталась осталось\n",
      "задержка забуду\n",
      "озера озеру\n",
      "до да\n",
      "мне мене\n",
      "встать вставать\n",
      "подзатыльник похудеть\n",
      "или иди\n",
      "ходят зря\n",
      "про по\n",
      "туч трус\n",
      "подвал продал\n",
      "му су\n",
      "было была\n",
      "на неа\n",
      "довела давно\n",
      "корейцы конца\n",
      "ша ща\n",
      "назвала называй\n",
      "успеваю акцию\n",
      "дочь даст\n",
      "вернусь вернуть\n",
      "авы аву\n",
      "си ст\n",
      "иринка инка\n",
      "торопиться торопится\n",
      "вакуумные вкусные\n",
      "тосно точно\n",
      "хоро хорошо\n",
      "эм эс\n",
      "однокурсницы одноклассниц\n",
      "получится спросится\n",
      "кок кру\n",
      "эти этим\n",
      "вступил встал\n",
      "пошел прошел\n",
      "сектор скинь\n",
      "сложно сдохла\n",
      "негр нечего\n",
      "сольюсь собираюсь\n",
      "воды вова\n",
      "противо поставил\n",
      "камень-на-оби \n",
      "смолу столу\n",
      "сама масса\n",
      "имея искать\n",
      "нега нельзя\n",
      "пойдем пойдет\n",
      "речи речь\n",
      "закончили закончится\n",
      "видео вообще\n",
      "котят удалять\n",
      "кричи кристи\n",
      "переживаю переживая\n",
      "не на\n",
      "позы прозы\n",
      "моменты момента\n",
      "мягко мягком\n",
      "прилетаете прилетает\n",
      "готово ново\n",
      "нудна нужна\n",
      "салам салом\n",
      "люди люба\n",
      "если есть\n",
      "хочу зовут\n",
      "про по\n",
      "цыпленок фотка\n",
      "разорвало развала\n",
      "конец клей\n",
      "флота форта\n",
      "ну не\n",
      "топ топа\n",
      "оттепель отмечаешь\n",
      "начало начал\n",
      "покажи прекрасно\n",
      "таджикистан таблетки\n",
      "видео видел\n",
      "чего чел\n",
      "сколько скинь\n",
      "отличии отличит\n",
      "оксана окна\n",
      "топ том\n",
      "дома доме\n",
      "требуется требует\n",
      "было был\n",
      "снов сена\n",
      "заказ закон\n",
      "сверхъестественного \n",
      "пожарить продаст\n",
      "непосредственно непонятную\n",
      "ив ма\n",
      "череп черепа\n",
      "внимания внимание\n",
      "кроссовки красивым\n",
      "камере каменное\n",
      "глючит глючить\n",
      "галочкой глянул\n",
      "соцзащита спущусь\n",
      "наорала наорался\n",
      "продолжай продолжений\n",
      "единственное ездила\n",
      "поменять помечен\n",
      "наверно наверное\n",
      "пойдешь пойдет\n",
      "хеппи знаю\n",
      "душ друг\n",
      "ковтун кладбище\n",
      "кипр кир\n",
      "петов петров\n",
      "маленьких маленький\n",
      "обидел обидно\n",
      "павильоне павильон\n",
      "памяти пасси\n",
      "пол по\n",
      "комп клип\n",
      "присяги приятного\n",
      "сентября себя\n",
      "брад брал\n",
      "фу фе\n",
      "заряжается заражается\n",
      "топ топа\n",
      "бургер будет\n",
      "менее мнение\n",
      "наггетсы нагнетая\n",
      "собираю собираюсь\n",
      "клиент евгения\n",
      "призвание пришел\n",
      "вена ангел\n",
      "оказывается оказывает\n",
      "про по\n",
      "подругой подруга\n",
      "ух уз\n",
      "видно сильно\n",
      "там такси\n",
      "объекте обеду\n",
      "своим своими\n",
      "двухстороннем \n",
      "что сто\n",
      "катта ката\n",
      "любом любим\n",
      "ипотеку ипотеке\n",
      "отвечаю оставлю\n",
      "по ал\n",
      "человек чела\n",
      "аллохол плохо\n",
      "из их\n",
      "блонд больно\n",
      "изи из-за\n",
      "скок скорее\n",
      "ярмак ярик\n",
      "яме ясе\n",
      "придете прилетел\n",
      "оплате оплата\n",
      "района районе\n",
      "удлинитель водитель\n",
      "ставок старые\n",
      "про по\n",
      "брат брать\n",
      "очко очень\n",
      "посмотрим пособия\n",
      "норидж нормально\n",
      "единорога кликер\n",
      "ура уда\n",
      "будет будем\n",
      "гей ой\n",
      "телеге телефон\n",
      "русской русский\n",
      "инсайд инсайды\n",
      "бабуина бабурин\n",
      "буду будут\n",
      "возьми возьму\n",
      "курят кусал\n",
      "прослушал послушал\n",
      "предлагает предлагал\n",
      "стоял стоят\n",
      "ели едь\n",
      "миф милы\n",
      "виде видео\n",
      "машинку машины\n",
      "встретиться встретить\n",
      "попробую пораньше\n",
      "дошло дорого\n",
      "кошмаров комаров\n",
      "расставлены расставлена\n",
      "попала пропала\n",
      "ахахах ахах\n",
      "стад стал\n",
      "тряпки тряпке\n",
      "предал предатель\n",
      "твои твоим\n",
      "андре андрей\n",
      "из их\n",
      "политикам плиткам\n",
      "опять отправят\n",
      "отвлекайте отвлекай\n",
      "можно может\n",
      "пошел прошел\n",
      "нее не\n",
      "веселее вселен\n",
      "балан братан\n",
      "церкви церна\n",
      "там так\n",
      "из их\n",
      "оденьте оденься\n",
      "машине магните\n",
      "юля эля\n",
      "трезв тореза\n",
      "дома драм\n",
      "так там\n",
      "катала катал\n",
      "лови дат\n",
      "свершилось свершилась\n",
      "присылай просыпай\n",
      "приемом примерном\n",
      "морс мос\n",
      "узнаешь узнает\n",
      "разочарован разряда\n",
      "анна ага\n",
      "увидел увидеть\n",
      "которой которые\n",
      "почти прям\n",
      "заходишь захочешь\n",
      "межрайонным международная\n",
      "моей мой\n",
      "слабак слабое\n",
      "до да\n",
      "желаю делаю\n",
      "фольсваген фотки\n",
      "оформляем оформляет\n",
      "выглядите выглядит\n",
      "вита фита\n",
      "мам мама\n",
      "за ща\n",
      "да дак\n",
      "кинула крепко\n",
      "канала канада\n",
      "село села\n",
      "лиц лик\n",
      "что сто\n",
      "дают делают\n",
      "менеджеру мне\n",
      "звуковой закрывай\n",
      "мак су\n",
      "спекулятивной спустила\n",
      "вывелись вывести\n",
      "мироточить смотрись\n",
      "скорее скоро\n",
      "работы оплату\n",
      "крыльцо крыльца\n",
      "перси пермь\n",
      "видел видео\n",
      "смыла смысл\n",
      "поговоришь поговорил\n",
      "ванн ванну\n",
      "похвастаться пользовать\n",
      "американский америкой\n",
      "облегчить обнимаешь\n",
      "выспаться выспался\n",
      "оставить оставь\n",
      "смысла сыры\n",
      "иле иде\n",
      "анют анюте\n",
      "интересно интересе\n",
      "печаль понял\n",
      "адрес адресе\n",
      "косичка костяка\n",
      "токо тонко\n",
      "ничем очень\n",
      "забирать забрать\n",
      "навигаторе неправильно\n",
      "черкасская \n",
      "дл до\n",
      "не но\n",
      "продаю продукт\n",
      "обойдусь обойду\n",
      "съезди старшей\n",
      "мерь мет\n",
      "им тим\n",
      "спросила спросите\n",
      "авы вы\n",
      "селедки сережки\n",
      "страшного страшно\n",
      "пап папа\n",
      "мертвая серия\n",
      "научись научиться\n",
      "больница больницу\n",
      "садике садика\n",
      "забивать забирать\n",
      "недель неделю\n",
      "ссориться смотря\n",
      "воскресенье воспитание\n",
      "ты та\n",
      "конечной конченный\n",
      "ба бы\n",
      "половины полным\n",
      "заварка звонка\n",
      "беситься бесится\n",
      "еловой новой\n",
      "ахахах ахах\n",
      "выборе выберу\n",
      "боятся бояться\n",
      "завотделением \n",
      "будет будут\n",
      "работай работой\n",
      "братск братик\n",
      "спокойной спокойно\n",
      "др да\n",
      "обзор общаться\n",
      "скетч света\n",
      "шло хорошо\n",
      "под ал\n",
      "дегтярев деньги\n",
      "большое большие\n",
      "люся любимая\n",
      "александр александры\n",
      "ездил ездить\n",
      "вспомни вспомнить\n",
      "вернут вернуть\n",
      "выдано выдан\n",
      "даун друг\n",
      "перерыл перевод\n",
      "кровать кровь\n",
      "терпеливее \n",
      "робот обои\n",
      "сотни смотри\n",
      "франция франс\n",
      "живем живет\n",
      "тем там\n",
      "сосуды соснула\n",
      "умею виню\n",
      "момент москва\n",
      "неделе нужен\n",
      "попью платью\n",
      "изменчивости изменилась\n",
      "урожай колодой\n",
      "мамбо масло\n",
      "удалила удала\n",
      "знакомств завтра\n",
      "руслан реально\n",
      "др до\n",
      "буру буду\n",
      "рукам руки\n",
      "другое другие\n",
      "моя илья\n",
      "следила сделала\n",
      "ха за\n",
      "штекера штука\n",
      "директор живет\n",
      "занятия заняться\n",
      "заработал заработать\n",
      "дружбу дружба\n",
      "димой домой\n",
      "раздевала раздеваться\n",
      "пойдет пойдут\n",
      "вере вер\n",
      "самной спиной\n",
      "дора да\n",
      "гог ого\n",
      "перезаписала переживай\n",
      "стою сб\n",
      "именно мене\n",
      "хочется хватит\n",
      "кисель кисел\n",
      "нурлан купал\n",
      "когда езды\n",
      "дума думал\n",
      "глаза газа\n",
      "вольтаж возьми\n",
      "хорош хорошо\n",
      "аренда поела\n",
      "галю надю\n",
      "как кан\n",
      "леша леш\n",
      "русский русская\n",
      "тайна тайга\n",
      "дышать дынь\n",
      "увезет увезли\n",
      "милаш позвони\n",
      "октмо октяб\n",
      "сделана сделает\n",
      "цена угу\n",
      "мартовские марта\n",
      "шаманил шаманим\n",
      "титан билан\n",
      "ночи ночь\n",
      "пообещай подъезжай\n",
      "могу мишу\n",
      "ростовом ростовой\n",
      "испортить историю\n",
      "случайно спокойной\n",
      "расскажу рассказе\n",
      "откроется откровенная\n",
      "из их\n",
      "тандыра танцор\n",
      "проиграть пригласила\n",
      "катают кстати\n",
      "сколько склад\n",
      "ха хо\n",
      "бухарой бухай\n",
      "игра игру\n",
      "апелляции апельсин\n",
      "подразделение продолжение\n",
      "еду еде\n",
      "про по\n",
      "думаю детскую\n",
      "кривда написала\n",
      "подарки продает\n",
      "пометила поменяла\n",
      "офигеть двигать\n",
      "гм ги\n",
      "росс рос\n",
      "про по\n",
      "дешевое дешевле\n",
      "придти пришли\n",
      "нее не\n",
      "гораздо городом\n",
      "россии россию\n",
      "колер когда\n",
      "тима типа\n",
      "вон вое\n",
      "стояк старое\n",
      "лена леша\n",
      "александров александр\n",
      "пополняют пополняются\n",
      "кровных кроватных\n",
      "внимания внимание\n",
      "овощами разами\n",
      "успею успейте\n",
      "люся любая\n",
      "было был\n",
      "вяжет сядет\n",
      "папа пап\n",
      "цементом центре\n",
      "будет будем\n",
      "разговаривать разводить\n",
      "привези привезли\n",
      "мне моне\n",
      "сони моги\n",
      "сделал сделала\n",
      "ахахах ахаха\n",
      "выпало выпала\n",
      "по пиши\n",
      "зай хай\n",
      "вдруг волосы\n",
      "посмотреть посидеть\n",
      "парень парню\n",
      "адлер адрес\n",
      "дороге дорогое\n",
      "откос отпуск\n",
      "про по\n",
      "прости попить\n",
      "еду еще\n",
      "ассоциируюсь ассоциацию\n",
      "по прош\n",
      "пары папы\n",
      "то тон\n",
      "народу наблюдай\n",
      "обтираться обираться\n",
      "гране грана\n",
      "просто поспать\n",
      "приедешь придешь\n",
      "интересуется интересуемся\n",
      "пока почему\n",
      "нс на\n",
      "проводов провод\n",
      "иди или\n",
      "графике график\n",
      "ваще вроде\n",
      "кофту кофте\n",
      "кто утро\n",
      "просто прост\n",
      "будешь будь\n",
      "было был\n",
      "гашека шашка\n",
      "болеют боюсь\n",
      "нами нам\n",
      "технология техно\n",
      "врача валян\n",
      "дают-бери дают\n",
      "промыл помыл\n",
      "тупой музыку\n",
      "ссылку сварку\n",
      "интересно инсте\n",
      "скольки сколько\n",
      "скоро сколько\n",
      "режиссер режет\n",
      "работы работа\n",
      "сообщу вообще\n",
      "приехал приехать\n",
      "нег неге\n",
      "сделаю можно\n",
      "прилетела придумал\n",
      "прощаю поздравляю\n",
      "люблю любит\n",
      "обещаю общаюсь\n",
      "пошлое прошлое\n",
      "ель едь\n",
      "узбекский узкий\n",
      "посмотри простом\n",
      "фиат фита\n",
      "нравится нормально\n",
      "сестренка сестре\n",
      "сладких сдает\n",
      "та ты\n",
      "хату животу\n",
      "ворчать воспитать\n",
      "нее не\n",
      "зоя зря\n",
      "крестить крепить\n",
      "твоя тебя\n",
      "обожралась обожрались\n",
      "дань дает\n",
      "на не\n",
      "валера алекса\n",
      "существительные существенные\n",
      "тепло теперь\n",
      "отжимает отлично\n",
      "очень точно\n",
      "роспотребнадзор \n",
      "валентина валентины\n",
      "калеки калки\n",
      "дилер жидко\n",
      "вылил форма\n",
      "пойдешь пойду\n",
      "мелочи мелочь\n",
      "класса карса\n",
      "будет будут\n",
      "ну не\n",
      "ватт варить\n",
      "да за\n",
      "прошла пошла\n",
      "мечты спасибо\n",
      "города годом\n",
      "видео видел\n",
      "было был\n",
      "дурак денег\n",
      "алма арома\n",
      "денете ленте\n",
      "серым сейчас\n",
      "статистика стасика\n",
      "обращайся образный\n",
      "поста против\n",
      "опаздывай опоздание\n",
      "полковником \n",
      "модуля идея\n",
      "сказал сказать\n",
      "налетят надеюсь\n",
      "рассмеялся рассеялся\n",
      "ерундой ерунда\n",
      "возьмем возьмет\n",
      "уверена канона\n",
      "муз мух\n",
      "аст всю\n",
      "звонит звонить\n",
      "пропадут правда\n",
      "факел фанов\n",
      "кака как\n",
      "шрам грам\n",
      "про по\n",
      "встаю встать\n",
      "бед обед\n",
      "ясно что\n",
      "чернобыль \n",
      "этим этими\n",
      "нов новы\n",
      "защищаться заниматься\n",
      "беларуси \n",
      "соберись смотреть\n",
      "украинский украински\n",
      "термоса теряла\n",
      "возим води\n",
      "одеялко одеялом\n",
      "учи уст\n",
      "заходить заходит\n",
      "др до\n",
      "расстраивайся расставайся\n",
      "поорет попьет\n",
      "вот вали\n",
      "папа пап\n",
      "ля для\n",
      "завистливый зависимый\n",
      "ирина марина\n",
      "про по\n",
      "расстались рапорт\n",
      "двигается двигаться\n",
      "понравилось понравилась\n",
      "задать задам\n",
      "дед дел\n",
      "будет будем\n",
      "резерве резерву\n",
      "ну не\n",
      "умеем умрем\n",
      "за ха\n",
      "быстрей быстрее\n",
      "восход происходит\n",
      "солидному сложному\n",
      "груш груз\n",
      "подстригаться подстричься\n",
      "ваш ваз\n",
      "пойдет пойду\n",
      "любить любит\n",
      "часах через\n",
      "пятница пятницы\n",
      "жор до\n",
      "аза ахах\n",
      "весить весь\n",
      "понедельник поедем\n",
      "позорься пользоваться\n",
      "дизель жизнь\n",
      "самую самара\n",
      "турист тупить\n",
      "случилось спокойно\n",
      "помню помощь\n",
      "мух муж\n",
      "спасибо спать\n",
      "картриджем картошки\n",
      "поискать поиски\n",
      "картонкой картинкой\n",
      "висит вит\n",
      "скрипт скрипит\n",
      "комментарии комнате\n",
      "тубик трубку\n",
      "бессонница бессонницы\n",
      "нее не\n",
      "вопросу волосок\n",
      "лол дол\n",
      "иметь мат\n",
      "переломе передние\n",
      "своих сах\n",
      "полка пока\n",
      "выскакивает выскажешь\n",
      "нас нет\n",
      "выходим выходная\n",
      "стену стану\n",
      "удачного классного\n",
      "арктик аппетита\n",
      "нет лет\n",
      "своей свое\n",
      "вел вед\n",
      "куни куши\n",
      "работать работаю\n",
      "продан план\n",
      "на нас\n",
      "столб столько\n",
      "москву москве\n",
      "дул дуд\n",
      "твой тай\n",
      "повод провод\n",
      "приехал приезжай\n",
      "вика все\n",
      "виктор вместо\n",
      "выключен выключение\n",
      "великолукский великолепный\n",
      "потерпи потерпишь\n",
      "про по\n",
      "прости прост\n",
      "местом место\n",
      "решим режим\n",
      "легко леша\n",
      "пола рола\n",
      "проблемы проблем\n",
      "проработка пораньше\n",
      "кто кп\n",
      "сказки сказал\n",
      "чет чем\n",
      "мы ив\n",
      "сияешь смеешь\n",
      "эвакуация \n",
      "дочь дат\n",
      "тв ты\n",
      "хаз хахах\n",
      "поняла понятно\n",
      "худам худом\n",
      "этому эму\n",
      "наклейки наклейку\n",
      "ирина инна\n",
      "входящие взрослые\n"
     ]
    },
    {
     "name": "stdout",
     "output_type": "stream",
     "text": [
      "total=10000 corr=8887 err=1113, accuracy: 0.8887\n",
      "0.8887\n"
     ]
    }
   ],
   "source": [
    "print(accuracy(valid_ref_u2w, {k:v[0] for k,v in utt2words_lv.items()}))\n",
    "# v15 - total=10000 corr=8887 err=1113, accuracy: 0.8887\n"
   ]
  },
  {
   "cell_type": "code",
   "execution_count": 30,
   "id": "e7d450e8",
   "metadata": {},
   "outputs": [],
   "source": [
    "test_ds =  FeatsIterableDatasetV2([f\"ark:data_feats/test/feats.ark\"], shuffle=False, \n",
    "                                 bos_id=1, \n",
    "                                 eos_id=2, \n",
    "                                 batch_first=False)\n",
    "test_dataloader = torch.utils.data.DataLoader(test_ds, batch_size=1, collate_fn=test_ds.collate_pad)\n",
    "#test_u2w = predict(pl_module.backbone, test_dataloader)\n",
    "#test_u2w, test_u2l = pl_module.cuda().predict_topk(test_dataloader, tokenizer=tokenizer, topk=topk)"
   ]
  },
  {
   "cell_type": "code",
   "execution_count": 60,
   "id": "de3d67bc",
   "metadata": {},
   "outputs": [
    {
     "name": "stdout",
     "output_type": "stream",
     "text": [
      "2023-11-12 23:58:18,891 root /tmp/ipykernel_1752815/2591427892.py:9 - WARNING - k='test-9648' doesn't have any vocab hyp. v=['катаста', 'катастама', 'катастаса', 'катастаста', 'катастан', 'катастана', 'катама', 'кататаста', 'катаса', 'катастастама', 'катастра', 'катарма', 'катастанта', 'катастастан', 'катастастаса', 'катамата', 'катастастана', 'катастастаста', 'катабаста', 'катастата', 'катастанса', 'катастанти']\n"
     ]
    }
   ],
   "source": [
    "test_lv = limit_vocab(test_u2w)"
   ]
  },
  {
   "cell_type": "code",
   "execution_count": 61,
   "id": "7f7cdc48",
   "metadata": {},
   "outputs": [
    {
     "data": {
      "text/html": [
       "<div>\n",
       "<style scoped>\n",
       "    .dataframe tbody tr th:only-of-type {\n",
       "        vertical-align: middle;\n",
       "    }\n",
       "\n",
       "    .dataframe tbody tr th {\n",
       "        vertical-align: top;\n",
       "    }\n",
       "\n",
       "    .dataframe thead th {\n",
       "        text-align: right;\n",
       "    }\n",
       "</style>\n",
       "<table border=\"1\" class=\"dataframe\">\n",
       "  <thead>\n",
       "    <tr style=\"text-align: right;\">\n",
       "      <th></th>\n",
       "      <th>main</th>\n",
       "      <th>second</th>\n",
       "      <th>third</th>\n",
       "      <th>trash</th>\n",
       "    </tr>\n",
       "  </thead>\n",
       "  <tbody>\n",
       "    <tr>\n",
       "      <th>0</th>\n",
       "      <td>на</td>\n",
       "      <td>неа</td>\n",
       "      <td>ну</td>\n",
       "      <td>надо</td>\n",
       "    </tr>\n",
       "    <tr>\n",
       "      <th>1</th>\n",
       "      <td>что</td>\n",
       "      <td>чтоб</td>\n",
       "      <td>сто</td>\n",
       "      <td>что-то</td>\n",
       "    </tr>\n",
       "    <tr>\n",
       "      <th>2</th>\n",
       "      <td>опоздания</td>\n",
       "      <td>опоздание</td>\n",
       "      <td>опоздании</td>\n",
       "      <td>опозданий</td>\n",
       "    </tr>\n",
       "    <tr>\n",
       "      <th>3</th>\n",
       "      <td>сколько</td>\n",
       "      <td>скольки</td>\n",
       "      <td>столько</td>\n",
       "      <td>только</td>\n",
       "    </tr>\n",
       "    <tr>\n",
       "      <th>4</th>\n",
       "      <td>думать</td>\n",
       "      <td>делать</td>\n",
       "      <td>дремать</td>\n",
       "      <td>думаю</td>\n",
       "    </tr>\n",
       "  </tbody>\n",
       "</table>\n",
       "</div>"
      ],
      "text/plain": [
       "        main     second      third      trash\n",
       "0         на        неа         ну       надо\n",
       "1        что       чтоб        сто     что-то\n",
       "2  опоздания  опоздание  опоздании  опозданий\n",
       "3    сколько    скольки    столько     только\n",
       "4     думать     делать    дремать      думаю"
      ]
     },
     "execution_count": 61,
     "metadata": {},
     "output_type": "execute_result"
    }
   ],
   "source": [
    "baseline_result = pd.read_csv('./keyboard_start/result/baseline.csv', sep=',', names=['main', 'second', 'third', 'trash'])\n",
    "#baseline_result = pd.read_csv('exp/models/ctc_trans/lightning_logs/version_50422251/test_submit.v1.csv', sep=',', names=['main', 'second', 'third', 'trash'])\n",
    "#baseline_result = \n",
    "baseline_result['uid'] = [f'test-{i}' for i in range(len(baseline_result))]\n",
    "baseline_result.head()\n",
    "\n",
    "baseline_result['predict'] = baseline_result.uid.apply(lambda x: test_lv[x])\n",
    "baseline_result.head()\n",
    "rows = []\n",
    "for i, row in baseline_result.iterrows():\n",
    "    ps = row['predict']\n",
    "    for p in [row['main'], row['second'], row['third'], row['trash']]:\n",
    "        if p not in ps and p != '-':\n",
    "            ps.append(p)\n",
    "    rows.append(ps[:4])\n",
    "        \n",
    "submission = pd.DataFrame(rows, columns=['main', 'second', 'third', 'trash'])\n",
    "submission.to_csv(\"exp/test_submit.v16.csv\", \n",
    "                  sep=',', header=False, index=False)\n",
    "submission.head()"
   ]
  },
  {
   "cell_type": "code",
   "execution_count": 117,
   "id": "e400c7e0",
   "metadata": {},
   "outputs": [],
   "source": [
    "exp_dir='exp'\n",
    "v=\"v16\"\n",
    "s5_df = pd.read_csv(f'{exp_dir}/test_submit.{v}.csv', sep=',', names=['main', 'second', 'third', 'trash'])\n",
    "s5_df['uid'] = [f'test-{i}' for i in range(len(s5_df))]\n",
    "s5_df.head()\n",
    "\n",
    "weak_sup_test = {row['uid']: row['main'] if row['main']!= '-' else row['second'] for i, row in s5_df.iterrows()}\n",
    "\n",
    "with open(f'{exp_dir}/{v}.test.text', 'w') as f:\n",
    "    f.write(''.join(f\"{u} {t}\\n\" for u, t in weak_sup_test.items()))\n",
    "\n",
    "encoded = {u: tokenizer.encode(v, out_type=\"immutable_proto\") for u, v in weak_sup_test.items()}\n",
    "with open(f\"{exp_dir}/{v}.test.piece\", \"w\") as f:\n",
    "    f.write(''.join([f\"{u} \" + \" \".join(e.piece for e in line.pieces) + '\\n' for u, line in encoded.items()]))\n",
    "with open(f\"{exp_dir}/{v}.test.int\", \"w\") as f:\n",
    "    f.write(''.join([f\"{u} \" + \" \".join(str(e.id) for e in line.pieces) + '\\n' for u, line in encoded.items()]))\n"
   ]
  },
  {
   "cell_type": "code",
   "execution_count": 34,
   "id": "3a598312",
   "metadata": {},
   "outputs": [
    {
     "data": {
      "application/vnd.jupyter.widget-view+json": {
       "model_id": "930b4d3d96d94397b4e522f17279279e",
       "version_major": 2,
       "version_minor": 0
      },
      "text/plain": [
       "0it [00:00, ?it/s]"
      ]
     },
     "metadata": {},
     "output_type": "display_data"
    },
    {
     "name": "stdout",
     "output_type": "stream",
     "text": [
      "2023-11-12 23:06:03,572 root /mnt/asr_hot/mitrofanov-aa/projects/chime7/chime7_stc_recipe/egs/it9/ya/maatool/data/feats_itdataset_v2.py:68 - INFO - Processing ark:data_feats/test/feats.ark\n"
     ]
    },
    {
     "ename": "NameError",
     "evalue": "name 'limit_vocab' is not defined",
     "output_type": "error",
     "traceback": [
      "\u001b[0;31m---------------------------------------------------------------------------\u001b[0m",
      "\u001b[0;31mNameError\u001b[0m                                 Traceback (most recent call last)",
      "Cell \u001b[0;32mIn[34], line 9\u001b[0m\n\u001b[1;32m      3\u001b[0m adapted_model \u001b[38;5;241m=\u001b[39m SwipeTransformerRecognizer\u001b[38;5;241m.\u001b[39mload_from_checkpoint(\n\u001b[1;32m      4\u001b[0m     \u001b[38;5;124m\"\u001b[39m\u001b[38;5;124mexp/models/conformer_v1.14/lightning_logs/version_1/checkpoints/epoch=0-step=593.ckpt\u001b[39m\u001b[38;5;124m\"\u001b[39m,\n\u001b[1;32m      5\u001b[0m                                                     backbone\u001b[38;5;241m=\u001b[39mmodel, \n\u001b[1;32m      6\u001b[0m                                                     map_location\u001b[38;5;241m=\u001b[39m\u001b[38;5;124m'\u001b[39m\u001b[38;5;124mcpu\u001b[39m\u001b[38;5;124m'\u001b[39m)\n\u001b[1;32m      8\u001b[0m test_u2w, test_u2l \u001b[38;5;241m=\u001b[39m adapted_model\u001b[38;5;241m.\u001b[39mcuda()\u001b[38;5;241m.\u001b[39mpredict_topk(test_dataloader, tokenizer\u001b[38;5;241m=\u001b[39mtokenizer, topk\u001b[38;5;241m=\u001b[39mtopk)\n\u001b[0;32m----> 9\u001b[0m test_lv \u001b[38;5;241m=\u001b[39m \u001b[43mlimit_vocab\u001b[49m(test_u2w)\n",
      "\u001b[0;31mNameError\u001b[0m: name 'limit_vocab' is not defined"
     ]
    }
   ],
   "source": [
    "# test adapted model\n",
    "\n",
    "adapted_model = SwipeTransformerRecognizer.load_from_checkpoint(\n",
    "    \"exp/models/conformer_v1.14/lightning_logs/version_1/checkpoints/epoch=0-step=593.ckpt\",\n",
    "                                                    backbone=model, \n",
    "                                                    map_location='cpu')\n",
    "\n",
    "test_u2w, test_u2l = adapted_model.cuda().predict_topk(test_dataloader, tokenizer=tokenizer, topk=topk)\n"
   ]
  },
  {
   "cell_type": "code",
   "execution_count": 38,
   "id": "2f7105cf",
   "metadata": {},
   "outputs": [
    {
     "name": "stdout",
     "output_type": "stream",
     "text": [
      "2023-11-12 23:16:41,505 root /tmp/ipykernel_1752815/2591427892.py:9 - WARNING - k='test-9648' doesn't have any vocab hyp. v=['катаста', 'катастама', 'катастаса', 'катастаста', 'катастан', 'катастана', 'катама', 'кататаста', 'катаса', 'катастастама', 'катастра', 'катарма', 'катастанта', 'катастастан', 'катастастаса', 'катамата', 'катастастана', 'катастастаста', 'катабаста', 'катастата', 'катастанса', 'катастанти']\n"
     ]
    }
   ],
   "source": [
    "test_lv = limit_vocab(test_u2w)"
   ]
  },
  {
   "cell_type": "code",
   "execution_count": 41,
   "id": "4bc90de5",
   "metadata": {},
   "outputs": [],
   "source": [
    "baseline_result = pd.read_csv(f'./exp/test_submit.v16.csv', sep=',', names=['main', 'second', 'third', 'trash'])\n",
    "#baseline_result = pd.read_csv('exp/models/ctc_trans/lightning_logs/version_50422251/test_submit.v1.csv', sep=',', names=['main', 'second', 'third', 'trash'])\n",
    "#baseline_result = \n",
    "baseline_result['uid'] = [f'test-{i}' for i in range(len(baseline_result))]\n",
    "baseline_result.head()\n",
    "\n",
    "baseline_result['predict'] = baseline_result.uid.apply(lambda x: test_lv[x])\n",
    "baseline_result.head()\n",
    "rows = []\n",
    "for i, row in baseline_result.iterrows():\n",
    "    ps = row['predict']\n",
    "    for p in [row['main'], row['second'], row['third'], row['trash']]:\n",
    "        if p not in ps and p != '-':\n",
    "            ps.append(p)\n",
    "    rows.append(ps[:4])\n",
    "        \n",
    "submission = pd.DataFrame(rows, columns=['main', 'second', 'third', 'trash'])\n",
    "submission.to_csv(\"exp/test_submit.v17.csv\", \n",
    "                  sep=',', header=False, index=False)"
   ]
  },
  {
   "cell_type": "code",
   "execution_count": null,
   "id": "6599a70b",
   "metadata": {},
   "outputs": [],
   "source": []
  }
 ],
 "metadata": {
  "kernelspec": {
   "display_name": "Python 3 (ipykernel)",
   "language": "python",
   "name": "python3"
  },
  "language_info": {
   "codemirror_mode": {
    "name": "ipython",
    "version": 3
   },
   "file_extension": ".py",
   "mimetype": "text/x-python",
   "name": "python",
   "nbconvert_exporter": "python",
   "pygments_lexer": "ipython3",
   "version": "3.9.16"
  }
 },
 "nbformat": 4,
 "nbformat_minor": 5
}
