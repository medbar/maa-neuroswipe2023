{
 "cells": [
  {
   "cell_type": "code",
   "execution_count": null,
   "id": "940a9afe",
   "metadata": {},
   "outputs": [],
   "source": [
    "%load_ext autoreload\n",
    "%autoreload 2\n",
    "import torch\n",
    "import numpy as np\n",
    "import random\n",
    "import pandas as pd\n",
    "from torch import nn\n",
    "from glob import glob\n",
    "from tqdm.auto import tqdm\n",
    "from torchaudio import transforms as T\n",
    "import pytorch_lightning as pl \n",
    "from maatool.data.feats_itdataset_v2 import FeatsIterableDatasetV2\n",
    "from maatool.models.transformer import TransformerWithSinPos\n",
    "from maatool.models.conformer import ConformerWithSinPos\n",
    "from copy import deepcopy\n",
    "torch.cuda.is_available()"
   ]
  },
  {
   "cell_type": "code",
   "execution_count": null,
   "id": "55a47f36",
   "metadata": {},
   "outputs": [],
   "source": [
    "import logging\n",
    "import logging.config\n",
    "\n",
    "def configure_logging(log_level):\n",
    "    handlers =  {\n",
    "            \"maa\": {\n",
    "                \"class\": \"logging.StreamHandler\",\n",
    "                \"formatter\": \"maa_basic\",\n",
    "                \"stream\": \"ext://sys.stdout\",\n",
    "            }\n",
    "    }\n",
    "    CONFIG = {\n",
    "        \"version\": 1,\n",
    "        \"disable_existing_loggers\": False,\n",
    "        \"formatters\": {\"maa_basic\": {\"format\": '%(asctime)s %(name)s %(pathname)s:%(lineno)d - %(levelname)s - %(message)s'}},\n",
    "        \"handlers\": handlers,\n",
    "        \"loggers\": {\"maa\": {\"handlers\": handlers.keys(), \"level\": log_level}},\n",
    "        \"root\": {\"handlers\": handlers.keys(), \"level\": log_level}\n",
    "    }\n",
    "    logging.config.dictConfig(CONFIG)\n",
    "configure_logging(\"INFO\")"
   ]
  },
  {
   "cell_type": "code",
   "execution_count": null,
   "id": "adeb5859",
   "metadata": {},
   "outputs": [],
   "source": [
    "from collections import defaultdict"
   ]
  },
  {
   "cell_type": "code",
   "execution_count": null,
   "id": "0c09ffd6",
   "metadata": {},
   "outputs": [],
   "source": [
    "from maatool.lightning.swipe_recognizer import SwipeTransformerRecognizer"
   ]
  },
  {
   "cell_type": "code",
   "execution_count": null,
   "id": "b4460d59",
   "metadata": {},
   "outputs": [],
   "source": [
    "model = TransformerWithSinPos(feats_dim=37, num_tokens=500)\n",
    "\n",
    "v5_ckpt = 'exp/models/transformer_sc/lightning_logs/version_50424998/checkpoints/last.ckpt'\n",
    "pl_module = SwipeTransformerRecognizer.load_from_checkpoint(v5_ckpt,\n",
    "                                                            backbone=model, \n",
    "                                                            map_location='cpu')\n"
   ]
  },
  {
   "cell_type": "code",
   "execution_count": null,
   "id": "6bc6122d",
   "metadata": {},
   "outputs": [],
   "source": [
    "val_ds = FeatsIterableDatasetV2([f\"ark:data_feats/valid/feats.ark\"], \n",
    "                             targets_rspecifier='ark:exp/bpe500/valid-text.int', \n",
    "                                shuffle=False,\n",
    "                               bos_id=1, \n",
    "                               eos_id=2,\n",
    "                               batch_first=False)\n",
    "val_dataloader = torch.utils.data.DataLoader(val_ds, batch_size=1, collate_fn=val_ds.collate_pad)\n"
   ]
  },
  {
   "cell_type": "code",
   "execution_count": null,
   "id": "b01c0a50",
   "metadata": {},
   "outputs": [],
   "source": [
    "trainer = pl.Trainer(callbacks=[pl.callbacks.TQDMProgressBar(refresh_rate=100)])"
   ]
  },
  {
   "cell_type": "code",
   "execution_count": null,
   "id": "dcba2630",
   "metadata": {},
   "outputs": [],
   "source": [
    "result = trainer.test(pl_module, val_dataloader)\n",
    "print(result)"
   ]
  },
  {
   "cell_type": "code",
   "execution_count": null,
   "id": "297d4ec7",
   "metadata": {},
   "outputs": [],
   "source": [
    "model = TransformerWithSinPos(feats_dim=37, num_tokens=500)\n",
    "\n",
    "v12_ckpt = 'exp/models/t_finetune_with_sa/lightning_logs/version_50454224/checkpoints/epoch=2-step=70000.ckpt'\n",
    "pl_module = SwipeTransformerRecognizer.load_from_checkpoint(v12_ckpt,\n",
    "                                                            backbone=model, \n",
    "                                                            map_location='cpu')"
   ]
  },
  {
   "cell_type": "code",
   "execution_count": null,
   "id": "e1721a4c",
   "metadata": {},
   "outputs": [],
   "source": [
    "result = trainer.test(pl_module, val_dataloader)\n",
    "print(result)"
   ]
  },
  {
   "cell_type": "code",
   "execution_count": null,
   "id": "33bfbe21",
   "metadata": {},
   "outputs": [],
   "source": [
    "model = ConformerWithSinPos(feats_dim=37, num_tokens=500, num_decoder_layers=8, num_encoder_layers=8)\n",
    "#v_13_ckpt = 'exp/models/conformer_v1/lightning_logs/version_50454211/checkpoints/epoch=0-step=60000.ckpt'\n",
    "v_15_ckpt = 'exp/models/conformer_v1/lightning_logs/version_50454211/checkpoints/last.ckpt'\n",
    "v_16_ckpt = 'exp/models/conformer_v1/lightning_logs/version_50454211/checkpoints/epoch=1-step=80000.ckpt'"
   ]
  },
  {
   "cell_type": "code",
   "execution_count": null,
   "id": "e59dede4",
   "metadata": {},
   "outputs": [],
   "source": [
    "pl_module = SwipeTransformerRecognizer.load_from_checkpoint(v_16_ckpt,\n",
    "                                                            backbone=model, \n",
    "                                                            map_location='cpu')"
   ]
  },
  {
   "cell_type": "code",
   "execution_count": null,
   "id": "192462e7",
   "metadata": {},
   "outputs": [],
   "source": [
    "result = trainer.test(pl_module, val_dataloader)\n",
    "print(result)"
   ]
  },
  {
   "cell_type": "code",
   "execution_count": null,
   "id": "68728e0f",
   "metadata": {},
   "outputs": [],
   "source": [
    "model_v15 = SwipeTransformerRecognizer.load_from_checkpoint(v_15_ckpt,\n",
    "                                                            backbone=model, \n",
    "                                                            map_location='cpu').backbone"
   ]
  },
  {
   "cell_type": "code",
   "execution_count": null,
   "id": "128540d2",
   "metadata": {},
   "outputs": [],
   "source": [
    "model_v16 = SwipeTransformerRecognizer.load_from_checkpoint(v_16_ckpt,\n",
    "                                                            backbone=model, \n",
    "                                                            map_location='cpu').backbone"
   ]
  },
  {
   "cell_type": "code",
   "execution_count": null,
   "id": "46d53bcc",
   "metadata": {},
   "outputs": [],
   "source": []
  },
  {
   "cell_type": "code",
   "execution_count": null,
   "id": "928972d8",
   "metadata": {},
   "outputs": [],
   "source": []
  },
  {
   "cell_type": "code",
   "execution_count": null,
   "id": "297c3e24",
   "metadata": {},
   "outputs": [],
   "source": []
  },
  {
   "cell_type": "code",
   "execution_count": null,
   "id": "a139e701",
   "metadata": {},
   "outputs": [],
   "source": [
    "model_2 = SwipeTransformerRecognizer.load_from_checkpoint(\n",
    "    \"exp/models/conformer_v1.3/lightning_logs/version_50464755/checkpoints/epoch=0-step=1000.ckpt.b\",\n",
    "                                                            backbone=model, \n",
    "                                                            map_location='cpu').backbone"
   ]
  },
  {
   "cell_type": "code",
   "execution_count": null,
   "id": "915b83e0",
   "metadata": {},
   "outputs": [],
   "source": [
    "pl_module = SwipeTransformerRecognizer.load_from_checkpoint(\n",
    "    \"exp/models/conformer_v1.3/lightning_logs/version_50464755/checkpoints/epoch=0-step=1000.ckpt.b\",\n",
    "                                                            backbone=model, \n",
    "                                                            map_location='cpu')"
   ]
  },
  {
   "cell_type": "code",
   "execution_count": null,
   "id": "d264424e",
   "metadata": {},
   "outputs": [],
   "source": [
    "#epoch=0-step=2000.ckpt\n",
    "#!cp \"exp/models/conformer_v1.7/lightning_logs/version_50464775/checkpoints/last.ckpt\" exp/models/conformer_v1.7/lightning_logs/version_50464775/checkpoints/last.ckpt.b\n",
    "pl_module = SwipeTransformerRecognizer.load_from_checkpoint(\n",
    "    \"exp/models/conformer_v1.7/lightning_logs/version_50464775/checkpoints/last.ckpt.b\",\n",
    "                                                            backbone=model, \n",
    "                                                            map_location='cpu')"
   ]
  },
  {
   "cell_type": "code",
   "execution_count": null,
   "id": "a59286b3",
   "metadata": {},
   "outputs": [],
   "source": [
    "module_v7 = SwipeTransformerRecognizer.load_from_checkpoint(\n",
    "    \"exp/models/conformer_v1.7/lightning_logs/version_50464775/checkpoints/last.ckpt.b\",\n",
    "                                                            backbone=model, \n",
    "                                                            map_location='cpu').backbone"
   ]
  },
  {
   "cell_type": "code",
   "execution_count": null,
   "id": "4f8bd140",
   "metadata": {},
   "outputs": [],
   "source": [
    "def average(model1, model2, w=[0.5, 0.5]):\n",
    "    model_aver = deepcopy(model1)\n",
    "    state_dict2 = model2.state_dict()\n",
    "    for full_param_name, param in model_aver.named_parameters():\n",
    "        param.data = param.data*w[0] + state_dict2[full_param_name] * w[1]\n",
    "    return model_aver\n",
    "model_aver = average(model_v16, pl_module.backbone)"
   ]
  },
  {
   "cell_type": "code",
   "execution_count": null,
   "id": "f0a108aa",
   "metadata": {},
   "outputs": [],
   "source": [
    "model_aver = average(model_v16, module_v7)"
   ]
  },
  {
   "cell_type": "code",
   "execution_count": null,
   "id": "a4941933",
   "metadata": {},
   "outputs": [],
   "source": [
    "pl_module.backbone = model_aver"
   ]
  },
  {
   "cell_type": "code",
   "execution_count": null,
   "id": "7d3ee903",
   "metadata": {},
   "outputs": [],
   "source": [
    "#pl_module = SwipeTransformerRecognizer(backbone=model_aver)\n",
    "result = trainer.test(pl_module, val_dataloader)\n",
    "print(result)"
   ]
  },
  {
   "cell_type": "code",
   "execution_count": null,
   "id": "6bed97a2",
   "metadata": {},
   "outputs": [],
   "source": [
    "pl_module = SwipeTransformerRecognizer.load_from_checkpoint(\n",
    "    \"exp/models/conformer_v1.2/lightning_logs/version_50463954/checkpoints/epoch=0-step=20000.ckpt\",\n",
    "                                                            backbone=model, \n",
    "                                                            map_location='cpu')\n",
    "result = trainer.test(pl_module, val_dataloader)\n",
    "print(result)                  "
   ]
  },
  {
   "cell_type": "code",
   "execution_count": null,
   "id": "93b9b182",
   "metadata": {},
   "outputs": [],
   "source": [
    "pl_module = SwipeTransformerRecognizer.load_from_checkpoint(\n",
    "    \"exp/models/conformer_v1.3/lightning_logs/version_50464755/checkpoints/epoch=0-step=18000.ckpt.b\",\n",
    "                                                            backbone=model, \n",
    "                                                            map_location='cpu')\n",
    "result = trainer.test(pl_module, val_dataloader)\n",
    "print(result)                  "
   ]
  },
  {
   "cell_type": "code",
   "execution_count": null,
   "id": "f76c863c",
   "metadata": {},
   "outputs": [],
   "source": [
    "pl_module = SwipeTransformerRecognizer.load_from_checkpoint(\n",
    "    \"exp/models/conformer_v1.2/lightning_logs/version_50463954/checkpoints/epoch=0-step=20000.ckpt.b\",\n",
    "                                                            backbone=model, \n",
    "                                                            map_location='cpu')\n",
    "pl_module2 = SwipeTransformerRecognizer.load_from_checkpoint(\n",
    "    \"exp/models/conformer_v1.3/lightning_logs/version_50464755/checkpoints/epoch=0-step=18000.ckpt.b\",\n",
    "                                                            backbone=model, \n",
    "                                                            map_location='cpu')\n",
    "model_aver = average(pl_module.backbone, pl_module2.backbone)\n",
    "pl_module.backbone = model_aver\n",
    "result = trainer.test(pl_module, val_dataloader)\n",
    "print(result)"
   ]
  },
  {
   "cell_type": "code",
   "execution_count": null,
   "id": "56ea1d5b",
   "metadata": {},
   "outputs": [],
   "source": [
    "pl_module.backbone = average_state_dicts([\n",
    "    SwipeTransformerRecognizer.load_from_checkpoint(ckpt,\n",
    "                                                    backbone=model, \n",
    "                                                    map_location='cpu').eval().backbone\n",
    "    for ckpt in [\"exp/models/conformer_v1.2/lightning_logs/version_50463954/checkpoints/epoch=0-step=20000.ckpt.b\", \n",
    "                \"exp/models/conformer_v1.7/lightning_logs/version_50464775/checkpoints/last.ckpt.b\",\n",
    "                \"exp/models/conformer_v1.6/lightning_logs/version_50464766/checkpoints/epoch=0-step=5000.ckpt\"]\n",
    "])\n",
    "#result = trainer.test(pl_module, val_dataloader)\n",
    "#print(result)"
   ]
  },
  {
   "cell_type": "code",
   "execution_count": null,
   "id": "5f34be42",
   "metadata": {},
   "outputs": [],
   "source": [
    "pl_module = SwipeTransformerRecognizer(backbone=average_state_dicts([\n",
    "    SwipeTransformerRecognizer.load_from_checkpoint(ckpt,\n",
    "                                                    backbone=model, \n",
    "                                                    map_location='cpu').eval().backbone\n",
    "    for ckpt in [\"exp/models/conformer_v1.2/lightning_logs/version_50463954/checkpoints/epoch=0-step=20000.ckpt.b\", \n",
    "                \"exp/models/conformer_v1.7/lightning_logs/version_50464775/checkpoints/last.ckpt.b\",\n",
    "                \"exp/models/conformer_v1.6/lightning_logs/version_50464766/checkpoints/epoch=0-step=5000.ckpt\"]\n",
    "]))\n",
    "result = trainer.test(pl_module, val_dataloader)\n",
    "print(result)"
   ]
  },
  {
   "cell_type": "code",
   "execution_count": null,
   "id": "242d691a",
   "metadata": {},
   "outputs": [],
   "source": []
  },
  {
   "cell_type": "code",
   "execution_count": null,
   "id": "3935ea57",
   "metadata": {},
   "outputs": [],
   "source": []
  },
  {
   "cell_type": "code",
   "execution_count": null,
   "id": "fa3fa988",
   "metadata": {},
   "outputs": [],
   "source": [
    "pl_module = SwipeTransformerRecognizer.load_from_checkpoint(\n",
    "    \"exp/models/conformer_v1.5/lightning_logs/version_50464765/checkpoints/epoch=0-step=5000.ckpt\",\n",
    "                                                            backbone=model, \n",
    "                                                            map_location='cpu')\n",
    "model_aver = average(model_v15, pl_module.backbone)\n",
    "pl_module = SwipeTransformerRecognizer(backbone=model_aver)  \n",
    "result = trainer.test(pl_module, val_dataloader)\n",
    "print(result)"
   ]
  },
  {
   "cell_type": "code",
   "execution_count": null,
   "id": "f8125f94",
   "metadata": {},
   "outputs": [],
   "source": [
    "pl_module = SwipeTransformerRecognizer.load_from_checkpoint(\n",
    "    \"exp/models/conformer_v1.6/lightning_logs/version_50464766/checkpoints/epoch=0-step=5000.ckpt\",\n",
    "                                                            backbone=model, \n",
    "                                                            map_location='cpu')\n",
    "model_aver = average(model_v15, pl_module.backbone)\n",
    "pl_module = SwipeTransformerRecognizer(backbone=model_aver)  \n",
    "result = trainer.test(pl_module, val_dataloader)\n",
    "print(result)"
   ]
  },
  {
   "cell_type": "code",
   "execution_count": null,
   "id": "05e4ccdd",
   "metadata": {},
   "outputs": [],
   "source": [
    "pl_module = SwipeTransformerRecognizer.load_from_checkpoint(\n",
    "    \"exp/models/conformer_v1.8/lightning_logs/version_50464785/checkpoints/epoch=0-step=5000.ckpt\",\n",
    "                                                            backbone=model, \n",
    "                                                            map_location='cpu')\n",
    "model_aver = average(model_v15, pl_module.backbone)\n",
    "pl_module = SwipeTransformerRecognizer(backbone=model_aver)  \n",
    "result = trainer.test(pl_module, val_dataloader)\n",
    "print(result)"
   ]
  },
  {
   "cell_type": "code",
   "execution_count": null,
   "id": "27cc81b4",
   "metadata": {},
   "outputs": [],
   "source": [
    "pl_module = SwipeTransformerRecognizer.load_from_checkpoint(\n",
    "    \"exp/models/conformer_v1.9/lightning_logs/version_50464786/checkpoints/epoch=0-step=5000.ckpt\",\n",
    "                                                            backbone=model, \n",
    "                                                            map_location='cpu')\n",
    "model_aver = average(model_v15, pl_module.backbone)\n",
    "pl_module = SwipeTransformerRecognizer(backbone=model_aver)  \n",
    "result = trainer.test(pl_module, val_dataloader)\n",
    "print(result)"
   ]
  },
  {
   "cell_type": "code",
   "execution_count": null,
   "id": "b913bbd8",
   "metadata": {},
   "outputs": [],
   "source": [
    "pl_module = SwipeTransformerRecognizer.load_from_checkpoint(\n",
    "    \"exp/models/conformer_v1.11/lightning_logs/version_50464880/checkpoints/epoch=0-step=3000.ckpt\",\n",
    "                                                            backbone=model, \n",
    "                                                            map_location='cpu')\n",
    "model_aver = average(model_v15, pl_module.backbone)\n",
    "pl_module = SwipeTransformerRecognizer(backbone=model_aver)  \n",
    "result = trainer.test(pl_module, val_dataloader)\n",
    "print(result)"
   ]
  },
  {
   "cell_type": "code",
   "execution_count": null,
   "id": "081a5e9f",
   "metadata": {},
   "outputs": [],
   "source": [
    "model = ConformerWithSinPos(feats_dim=37, num_tokens=500, num_decoder_layers=8, num_encoder_layers=8)\n",
    "model_v15 = SwipeTransformerRecognizer.load_from_checkpoint(v_15_ckpt,\n",
    "                                                            backbone=model, \n",
    "                                                            map_location='cpu').backbone\n",
    "pl_module = SwipeTransformerRecognizer.load_from_checkpoint(\n",
    "    \"exp/models/conformer_v1.7/lightning_logs/version_50464775/checkpoints/epoch=0-step=5000.ckpt\",\n",
    "                                                            backbone=model, \n",
    "                                                            map_location='cpu')\n",
    "model_aver = average(model_v15, pl_module.backbone)\n",
    "pl_module = SwipeTransformerRecognizer(backbone=model_aver)  \n",
    "result = trainer.test(pl_module, val_dataloader)\n",
    "print(result)"
   ]
  },
  {
   "cell_type": "code",
   "execution_count": null,
   "id": "b0d072f9",
   "metadata": {},
   "outputs": [],
   "source": [
    "model = ConformerWithSinPos(feats_dim=37, num_tokens=500, num_decoder_layers=8, num_encoder_layers=8)\n",
    "model_v15 = SwipeTransformerRecognizer.load_from_checkpoint(v_15_ckpt,\n",
    "                                                            backbone=model, \n",
    "                                                            map_location='cpu').backbone\n",
    "pl_module = SwipeTransformerRecognizer.load_from_checkpoint(\n",
    "    \"exp/models/conformer_v1.7/lightning_logs/version_50464775/checkpoints/last.ckpt\",\n",
    "                                                            backbone=model_v15, \n",
    "                                                            map_location='cpu')\n",
    "model_aver = average(model_v15, pl_module.backbone)\n",
    "#model_aver = average(model_aver, pl_module.backbone)\n",
    "pl_module = SwipeTransformerRecognizer(backbone=model_aver)  \n",
    "result = trainer.test(pl_module, val_dataloader)\n",
    "print(result)"
   ]
  },
  {
   "cell_type": "code",
   "execution_count": null,
   "id": "c27a2087",
   "metadata": {},
   "outputs": [],
   "source": [
    "def average_many(models, ws=None):\n",
    "    if ws is None:\n",
    "        ws = [1/len(models) for _ in models]\n",
    "    model_aver = deepcopy(models[0])\n",
    "    state_dicts = [m.state_dict() for m in models]\n",
    "    out_state_dict = {}\n",
    "    for full_param_name, param in model_aver.named_parameters():\n",
    "        out_state_dict[full_param_name] = sum(p[full_param_name]*w for w, p in zip(ws, state_dicts)) \n",
    "        param.data *= ws[0]\n",
    "        param.data += sum(p[full_param_name]*w for w, p in zip(ws[1:], state_dicts[1:])) \n",
    "    #print(f'{out_state_dict.keys()=}')\n",
    "    #model_aver.load_state_dict(out_state_dict)\n",
    "    return model_aver"
   ]
  },
  {
   "cell_type": "code",
   "execution_count": null,
   "id": "1886459e",
   "metadata": {},
   "outputs": [],
   "source": [
    "pl_module = SwipeTransformerRecognizer(backbone=average_many([\n",
    "    SwipeTransformerRecognizer.load_from_checkpoint(ckpt,\n",
    "                                                    backbone=model, \n",
    "                                                    map_location='cpu').backbone\n",
    "    for ckpt in [v_15_ckpt]\n",
    "    \n",
    "]))  \n",
    "result = trainer.test(pl_module, val_dataloader)\n",
    "print(result)"
   ]
  },
  {
   "cell_type": "code",
   "execution_count": null,
   "id": "e9d88541",
   "metadata": {},
   "outputs": [],
   "source": [
    "pl_module = SwipeTransformerRecognizer(backbone=average_many([\n",
    "    SwipeTransformerRecognizer.load_from_checkpoint(ckpt,\n",
    "                                                    backbone=model, \n",
    "                                                    map_location='cpu').backbone\n",
    "    for ckpt in [\"exp/models/conformer_v1.7/lightning_logs/version_50464775/checkpoints/last.ckpt.b\"]\n",
    "    \n",
    "]))  \n",
    "result = trainer.test(pl_module, val_dataloader)\n",
    "print(result)"
   ]
  },
  {
   "cell_type": "code",
   "execution_count": null,
   "id": "5158665a",
   "metadata": {},
   "outputs": [],
   "source": [
    "pl_module = SwipeTransformerRecognizer(backbone=average_many([\n",
    "    SwipeTransformerRecognizer.load_from_checkpoint(ckpt,\n",
    "                                                    backbone=model, \n",
    "                                                    map_location='cpu').backbone\n",
    "    for ckpt in [v_15_ckpt, \n",
    "                \"exp/models/conformer_v1.7/lightning_logs/version_50464775/checkpoints/last.ckpt.b\"]\n",
    "    \n",
    "]))  \n",
    "result = trainer.test(pl_module, val_dataloader)\n",
    "print(result)"
   ]
  },
  {
   "cell_type": "code",
   "execution_count": null,
   "id": "b32af903",
   "metadata": {},
   "outputs": [],
   "source": [
    "pl_module = SwipeTransformerRecognizer(backbone=average_many([\n",
    "    SwipeTransformerRecognizer.load_from_checkpoint(ckpt,\n",
    "                                                    backbone=model, \n",
    "                                                    map_location='cpu').backbone\n",
    "    for ckpt in [\"exp/models/conformer_v1.3/lightning_logs/version_50464755/checkpoints/epoch=0-step=1000.ckpt.b\", \n",
    "                \"exp/models/conformer_v1.7/lightning_logs/version_50464775/checkpoints/last.ckpt.b\"]\n",
    "    \n",
    "]))  \n",
    "result = trainer.test(pl_module, val_dataloader)\n",
    "print(result)"
   ]
  },
  {
   "cell_type": "code",
   "execution_count": null,
   "id": "6c0d74ba",
   "metadata": {},
   "outputs": [],
   "source": []
  },
  {
   "cell_type": "code",
   "execution_count": null,
   "id": "3f30e1b7",
   "metadata": {},
   "outputs": [],
   "source": []
  },
  {
   "cell_type": "code",
   "execution_count": null,
   "id": "248f761a",
   "metadata": {},
   "outputs": [],
   "source": []
  },
  {
   "cell_type": "code",
   "execution_count": null,
   "id": "324778fa",
   "metadata": {},
   "outputs": [],
   "source": []
  },
  {
   "cell_type": "code",
   "execution_count": null,
   "id": "7cabfd1f",
   "metadata": {},
   "outputs": [],
   "source": []
  },
  {
   "cell_type": "code",
   "execution_count": null,
   "id": "da6949c5",
   "metadata": {},
   "outputs": [],
   "source": []
  },
  {
   "cell_type": "code",
   "execution_count": null,
   "id": "2bb7f0b3",
   "metadata": {},
   "outputs": [],
   "source": [
    "pl_module = SwipeTransformerRecognizer(backbone=average_many([\n",
    "    SwipeTransformerRecognizer.load_from_checkpoint(ckpt,\n",
    "                                                    backbone=model, \n",
    "                                                    map_location='cpu').backbone\n",
    "    for ckpt in [\"exp/models/conformer_v1.6/lightning_logs/version_50464766/checkpoints/epoch=0-step=5000.ckpt\",\n",
    "                \"exp/models/conformer_v1.14/lightning_logs/version_1/checkpoints/epoch=0-step=593.ckpt\",\n",
    "                ]    \n",
    "]))  \n",
    "result = trainer.test(pl_module, val_dataloader)\n",
    "print(result)"
   ]
  },
  {
   "cell_type": "code",
   "execution_count": null,
   "id": "fe4688f7",
   "metadata": {},
   "outputs": [],
   "source": [
    "pl_module = SwipeTransformerRecognizer(backbone=average_many([\n",
    "    SwipeTransformerRecognizer.load_from_checkpoint(ckpt,\n",
    "                                                    backbone=model, \n",
    "                                                    map_location='cpu').backbone\n",
    "    for ckpt in [v_15_ckpt, \n",
    "                \"exp/models/conformer_v1.3/lightning_logs/version_50464755/checkpoints/epoch=0-step=14000.ckpt\",\n",
    "                \"exp/models/conformer_v1.7/lightning_logs/version_50464775/checkpoints/epoch=0-step=5000.ckpt\",\n",
    "                \"exp/models/conformer_v1.9/lightning_logs/version_50464786/checkpoints/epoch=0-step=5000.ckpt\",\n",
    "                \"exp/models/conformer_v1.4/lightning_logs/version_50464757/checkpoints/epoch=0-step=5000.ckpt\",\n",
    "                 \"exp/models/conformer_v1.2/lightning_logs/version_50463954/checkpoints/epoch=0-step=10000.ckpt.b\"\n",
    "                ]\n",
    "    \n",
    "])) \n",
    "trainer = pl.Trainer(callbacks=[pl.callbacks.TQDMProgressBar(refresh_rate=100)])\n",
    "result = trainer.test(pl_module, val_dataloader)\n",
    "print(result)"
   ]
  },
  {
   "cell_type": "code",
   "execution_count": null,
   "id": "bf5fa023",
   "metadata": {},
   "outputs": [],
   "source": [
    "model = pl_module.backbone\n",
    "model.load_state_dict(model.state_dict())"
   ]
  },
  {
   "cell_type": "code",
   "execution_count": null,
   "id": "58c0e26a",
   "metadata": {},
   "outputs": [],
   "source": [
    "def average_state_dicts(models, ws=None):\n",
    "    with torch.no_grad():\n",
    "        if ws is None:\n",
    "            ws = [1/len(models) for _ in models]\n",
    "        state_dicts = [m.state_dict() for m in models]\n",
    "        out_state_dict = {}\n",
    "        for full_param_name in state_dicts[0].keys():\n",
    "            out_state_dict[full_param_name] = sum(p[full_param_name]*w for w, p in zip(ws, state_dicts)) \n",
    "       \n",
    "        #print(f'{out_state_dict.keys()=}')\n",
    "        model_aver = ConformerWithSinPos(feats_dim=37, num_tokens=500, num_decoder_layers=8, num_encoder_layers=8)\n",
    "        model_aver.load_state_dict(out_state_dict)\n",
    "    return model_aver"
   ]
  },
  {
   "cell_type": "code",
   "execution_count": null,
   "id": "eb0e1955",
   "metadata": {},
   "outputs": [],
   "source": [
    "pl_module = SwipeTransformerRecognizer(backbone=average_state_dicts([\n",
    "    SwipeTransformerRecognizer.load_from_checkpoint(ckpt,\n",
    "                                                    backbone=model, \n",
    "                                                    map_location='cpu').eval().backbone\n",
    "    for ckpt in [v_15_ckpt, \n",
    "                \"exp/models/conformer_v1.7/lightning_logs/version_50464775/checkpoints/last.ckpt.b\"]\n",
    "]))\n",
    "result = trainer.test(pl_module, val_dataloader)\n",
    "print(result)"
   ]
  },
  {
   "cell_type": "code",
   "execution_count": null,
   "id": "14b262bc",
   "metadata": {},
   "outputs": [],
   "source": [
    "pl_module = SwipeTransformerRecognizer(backbone=model) \n",
    "\n",
    "pl_module.backbone = SwipeTransformerRecognizer.load_from_checkpoint('exp/models/conformer_v1/lightning_logs/version_50454211/checkpoints/last.ckpt',\n",
    "                                                    backbone=model, \n",
    "                                                    map_location='cpu')\n",
    "result = trainer.test(pl_module, val_dataloader)\n",
    "print(result)"
   ]
  },
  {
   "cell_type": "code",
   "execution_count": null,
   "id": "c2758064",
   "metadata": {},
   "outputs": [],
   "source": [
    "pl_module = SwipeTransformerRecognizer(backbone=model) \n",
    "\n",
    "pl_module.backbone = SwipeTransformerRecognizer.load_from_checkpoint('exp/models/conformer_v1/lightning_logs/version_50454211/checkpoints/last.ckpt',\n",
    "                                                    backbone=model, \n",
    "                                                    map_location='cpu')\n",
    "result = trainer.test(pl_module, val_dataloader)\n",
    "print(result)"
   ]
  },
  {
   "cell_type": "code",
   "execution_count": null,
   "id": "c3ed883a",
   "metadata": {},
   "outputs": [],
   "source": [
    "pl_modules = [SwipeTransformerRecognizer.load_from_checkpoint(ckpt,\n",
    "                                                    backbone=model, \n",
    "                                                    map_location='cpu')\n",
    "    for ckpt in [v_15_ckpt, \n",
    "                \"exp/models/conformer_v1.7/lightning_logs/version_50464775/checkpoints/last.ckpt.b\"]\n",
    "]\n",
    "\n",
    "for p in pl_modules:\n",
    "    result = trainer.test(p, val_dataloader)\n",
    "    print(result)\n",
    "\n",
    "model_aver = average(pl_modules[0].backbone, pl_modules[1].backbone)\n",
    "pl_module = SwipeTransformerRecognizer(backbone=model_aver) \n",
    "result = trainer.test(pl_module, val_dataloader)\n",
    "print(result)"
   ]
  },
  {
   "cell_type": "code",
   "execution_count": null,
   "id": "21bb1a00",
   "metadata": {},
   "outputs": [],
   "source": [
    "result = trainer.test(pl_module, val_dataloader)\n",
    "print(result)\n",
    "# [{'test_loss': 0.15845882892608643}]\n",
    "# 'test_loss': 0.14765197038650513 - model_v15\n",
    "# 'test_loss': 0.14764617383480072 - conformer_v1.3 - epoch=0-step=1000.ckpt.b\n",
    "# 'test_loss':  0.14889037609100342 - conformer_v1.7 - epoch=0-step=2000.ckpt # 0.14889037609100342\n",
    "# [{'test_loss': 0.13205789029598236}] - model_v15 + conformer_v1.7.2000 - submit_v16\n",
    "# {'test_loss': 0.1533224731683731} - train_conformer_v1.12.py\n",
    "# {'test_loss': 0.1533845216035843} - model_v15 + conformer_v1.3.4000\n",
    "# {'test_loss': 0.1480194628238678} - model_v15 + conformer_v1.4.5000\n",
    "# 'test_loss': 0.147256538271904 - model_v15 + conformer_v1.5.5000\n",
    "# {'test_loss': 0.1440354734659195} - model_v15 + conformer_v1.6.5000\n",
    "# 'test_loss': 0.14874745905399323 - model_v15 + conformer_v1.8.5000"
   ]
  },
  {
   "cell_type": "code",
   "execution_count": null,
   "id": "d2837909",
   "metadata": {},
   "outputs": [],
   "source": [
    "import sentencepiece as spm\n",
    "import math\n",
    "from collections import defaultdict\n",
    "tokenizer = spm.SentencePieceProcessor('exp/bpe500/model.model')\n"
   ]
  },
  {
   "cell_type": "code",
   "execution_count": null,
   "id": "890b1427",
   "metadata": {},
   "outputs": [],
   "source": [
    "topk=20"
   ]
  },
  {
   "cell_type": "code",
   "execution_count": null,
   "id": "167138b1",
   "metadata": {},
   "outputs": [],
   "source": [
    "utt2words, utt2logs = pl_module.cuda().predict_topk(val_dataloader, tokenizer=tokenizer, topk=topk, device='cuda')"
   ]
  },
  {
   "cell_type": "code",
   "execution_count": null,
   "id": "9103af7b",
   "metadata": {},
   "outputs": [],
   "source": [
    "def accuracy(ref_u2w, hyp_u2w):\n",
    "    corr = 0\n",
    "    err = 0\n",
    "    total = len(ref_u2w)\n",
    "    for u, ref in tqdm(ref_u2w.items()):\n",
    "        hyp = hyp_u2w[u].strip('-')\n",
    "        if ref != hyp:\n",
    "            print(ref, hyp)\n",
    "            err +=1\n",
    "        else:\n",
    "            corr +=1\n",
    "    a = corr/total\n",
    "    print(f\"{total=} {corr=} {err=}, accuracy: {a}\")\n",
    "    return a\n",
    "\n",
    "with open('data_feats/valid/text') as f:\n",
    "    valid_ref_u2w = {u:w for u, w in   map(str.split, f.readlines())}\n",
    "    "
   ]
  },
  {
   "cell_type": "code",
   "execution_count": null,
   "id": "e02a81bd",
   "metadata": {},
   "outputs": [],
   "source": [
    "with open('./data/voc.txt') as f:\n",
    "    vocab = frozenset(s for s in map(str.strip, f.readlines()))"
   ]
  },
  {
   "cell_type": "code",
   "execution_count": null,
   "id": "bcfd3a42",
   "metadata": {},
   "outputs": [],
   "source": [
    "def limit_vocab(u2w, vocab=vocab):\n",
    "    lv = {}\n",
    "    for k, v in u2w.items():\n",
    "        corr_w = []\n",
    "        for w in v:\n",
    "            if w in vocab:\n",
    "                corr_w.append(w)\n",
    "        if len(corr_w) == 0: \n",
    "            logging.warning(f\"{k=} doesn't have any vocab hyp. {v=}\")\n",
    "            corr_w = ['-']\n",
    "        lv[k] = corr_w\n",
    "    return lv\n",
    "#utt2words_lv = limit_vocab(utt2words)"
   ]
  },
  {
   "cell_type": "code",
   "execution_count": null,
   "id": "a6abccee",
   "metadata": {},
   "outputs": [],
   "source": [
    "print(accuracy(valid_ref_u2w, {k:v[0] for k,v in utt2words.items()}))\n"
   ]
  },
  {
   "cell_type": "code",
   "execution_count": null,
   "id": "e5ef9a62",
   "metadata": {},
   "outputs": [],
   "source": [
    "print(accuracy(valid_ref_u2w, {k:v[0] for k,v in utt2words_lv.items()}))\n",
    "# v15 - total=10000 corr=8887 err=1113, accuracy: 0.8887\n"
   ]
  },
  {
   "cell_type": "code",
   "execution_count": null,
   "id": "e7d450e8",
   "metadata": {},
   "outputs": [],
   "source": [
    "test_ds =  FeatsIterableDatasetV2([f\"ark:data_feats/test/feats.ark\"], shuffle=False, \n",
    "                                 bos_id=1, \n",
    "                                 eos_id=2, \n",
    "                                 batch_first=False)\n",
    "test_dataloader = torch.utils.data.DataLoader(test_ds, batch_size=1, collate_fn=test_ds.collate_pad)\n",
    "#test_u2w = predict(pl_module.backbone, test_dataloader)\n",
    "#test_u2w, test_u2l = pl_module.cuda().predict_topk(test_dataloader, tokenizer=tokenizer, topk=topk)"
   ]
  },
  {
   "cell_type": "code",
   "execution_count": null,
   "id": "de3d67bc",
   "metadata": {},
   "outputs": [],
   "source": [
    "test_lv = limit_vocab(test_u2w)"
   ]
  },
  {
   "cell_type": "code",
   "execution_count": null,
   "id": "7f7cdc48",
   "metadata": {},
   "outputs": [],
   "source": [
    "baseline_result = pd.read_csv('./keyboard_start/result/baseline.csv', sep=',', names=['main', 'second', 'third', 'trash'])\n",
    "#baseline_result = pd.read_csv('exp/models/ctc_trans/lightning_logs/version_50422251/test_submit.v1.csv', sep=',', names=['main', 'second', 'third', 'trash'])\n",
    "#baseline_result = \n",
    "baseline_result['uid'] = [f'test-{i}' for i in range(len(baseline_result))]\n",
    "baseline_result.head()\n",
    "\n",
    "baseline_result['predict'] = baseline_result.uid.apply(lambda x: test_lv[x])\n",
    "baseline_result.head()\n",
    "rows = []\n",
    "for i, row in baseline_result.iterrows():\n",
    "    ps = row['predict']\n",
    "    for p in [row['main'], row['second'], row['third'], row['trash']]:\n",
    "        if p not in ps and p != '-':\n",
    "            ps.append(p)\n",
    "    rows.append(ps[:4])\n",
    "        \n",
    "submission = pd.DataFrame(rows, columns=['main', 'second', 'third', 'trash'])\n",
    "submission.to_csv(\"exp/test_submit.v16.csv\", \n",
    "                  sep=',', header=False, index=False)\n",
    "submission.head()"
   ]
  },
  {
   "cell_type": "code",
   "execution_count": null,
   "id": "e400c7e0",
   "metadata": {},
   "outputs": [],
   "source": [
    "exp_dir='exp'\n",
    "v=\"v16\"\n",
    "s5_df = pd.read_csv(f'{exp_dir}/test_submit.{v}.csv', sep=',', names=['main', 'second', 'third', 'trash'])\n",
    "s5_df['uid'] = [f'test-{i}' for i in range(len(s5_df))]\n",
    "s5_df.head()\n",
    "\n",
    "weak_sup_test = {row['uid']: row['main'] if row['main']!= '-' else row['second'] for i, row in s5_df.iterrows()}\n",
    "\n",
    "with open(f'{exp_dir}/{v}.test.text', 'w') as f:\n",
    "    f.write(''.join(f\"{u} {t}\\n\" for u, t in weak_sup_test.items()))\n",
    "\n",
    "encoded = {u: tokenizer.encode(v, out_type=\"immutable_proto\") for u, v in weak_sup_test.items()}\n",
    "with open(f\"{exp_dir}/{v}.test.piece\", \"w\") as f:\n",
    "    f.write(''.join([f\"{u} \" + \" \".join(e.piece for e in line.pieces) + '\\n' for u, line in encoded.items()]))\n",
    "with open(f\"{exp_dir}/{v}.test.int\", \"w\") as f:\n",
    "    f.write(''.join([f\"{u} \" + \" \".join(str(e.id) for e in line.pieces) + '\\n' for u, line in encoded.items()]))\n"
   ]
  },
  {
   "cell_type": "code",
   "execution_count": null,
   "id": "3a598312",
   "metadata": {},
   "outputs": [],
   "source": [
    "# test adapted model\n",
    "\n",
    "adapted_model = SwipeTransformerRecognizer.load_from_checkpoint(\n",
    "    \"exp/models/conformer_v1.14/lightning_logs/version_1/checkpoints/epoch=0-step=593.ckpt\",\n",
    "                                                    backbone=model, \n",
    "                                                    map_location='cpu')\n",
    "\n",
    "test_u2w, test_u2l = adapted_model.cuda().predict_topk(test_dataloader, tokenizer=tokenizer, topk=topk)\n"
   ]
  },
  {
   "cell_type": "code",
   "execution_count": null,
   "id": "2f7105cf",
   "metadata": {},
   "outputs": [],
   "source": [
    "test_lv = limit_vocab(test_u2w)"
   ]
  },
  {
   "cell_type": "code",
   "execution_count": null,
   "id": "4bc90de5",
   "metadata": {},
   "outputs": [],
   "source": [
    "baseline_result = pd.read_csv(f'./exp/test_submit.v16.csv', sep=',', names=['main', 'second', 'third', 'trash'])\n",
    "#baseline_result = pd.read_csv('exp/models/ctc_trans/lightning_logs/version_50422251/test_submit.v1.csv', sep=',', names=['main', 'second', 'third', 'trash'])\n",
    "#baseline_result = \n",
    "baseline_result['uid'] = [f'test-{i}' for i in range(len(baseline_result))]\n",
    "baseline_result.head()\n",
    "\n",
    "baseline_result['predict'] = baseline_result.uid.apply(lambda x: test_lv[x])\n",
    "baseline_result.head()\n",
    "rows = []\n",
    "for i, row in baseline_result.iterrows():\n",
    "    ps = row['predict']\n",
    "    for p in [row['main'], row['second'], row['third'], row['trash']]:\n",
    "        if p not in ps and p != '-':\n",
    "            ps.append(p)\n",
    "    rows.append(ps[:4])\n",
    "        \n",
    "submission = pd.DataFrame(rows, columns=['main', 'second', 'third', 'trash'])\n",
    "submission.to_csv(\"exp/test_submit.v17.csv\", \n",
    "                  sep=',', header=False, index=False)"
   ]
  },
  {
   "cell_type": "code",
   "execution_count": null,
   "id": "6599a70b",
   "metadata": {},
   "outputs": [],
   "source": []
  }
 ],
 "metadata": {
  "kernelspec": {
   "display_name": "Python 3 (ipykernel)",
   "language": "python",
   "name": "python3"
  },
  "language_info": {
   "codemirror_mode": {
    "name": "ipython",
    "version": 3
   },
   "file_extension": ".py",
   "mimetype": "text/x-python",
   "name": "python",
   "nbconvert_exporter": "python",
   "pygments_lexer": "ipython3",
   "version": "3.9.16"
  }
 },
 "nbformat": 4,
 "nbformat_minor": 5
}
