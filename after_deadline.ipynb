{
 "cells": [
  {
   "cell_type": "code",
   "execution_count": null,
   "id": "940a9afe",
   "metadata": {},
   "outputs": [],
   "source": [
    "%load_ext autoreload\n",
    "%autoreload 2\n",
    "import torch\n",
    "import numpy as np\n",
    "import random\n",
    "import pandas as pd\n",
    "from torch import nn\n",
    "from glob import glob\n",
    "from tqdm.auto import tqdm\n",
    "from torchaudio import transforms as T\n",
    "import pytorch_lightning as pl \n",
    "from maatool.data.feats_itdataset_v2 import FeatsIterableDatasetV2\n",
    "from maatool.models.transformer import TransformerWithSinPos\n",
    "from maatool.models.conformer import ConformerWithSinPos\n",
    "from copy import deepcopy\n",
    "torch.cuda.is_available()"
   ]
  },
  {
   "cell_type": "code",
   "execution_count": null,
   "id": "55a47f36",
   "metadata": {},
   "outputs": [],
   "source": [
    "import logging\n",
    "import logging.config\n",
    "\n",
    "def configure_logging(log_level):\n",
    "    handlers =  {\n",
    "            \"maa\": {\n",
    "                \"class\": \"logging.StreamHandler\",\n",
    "                \"formatter\": \"maa_basic\",\n",
    "                \"stream\": \"ext://sys.stdout\",\n",
    "            }\n",
    "    }\n",
    "    CONFIG = {\n",
    "        \"version\": 1,\n",
    "        \"disable_existing_loggers\": False,\n",
    "        \"formatters\": {\"maa_basic\": {\"format\": '%(asctime)s %(name)s %(pathname)s:%(lineno)d - %(levelname)s - %(message)s'}},\n",
    "        \"handlers\": handlers,\n",
    "        \"loggers\": {\"maa\": {\"handlers\": handlers.keys(), \"level\": log_level}},\n",
    "        \"root\": {\"handlers\": handlers.keys(), \"level\": log_level}\n",
    "    }\n",
    "    logging.config.dictConfig(CONFIG)\n",
    "configure_logging(\"INFO\")"
   ]
  },
  {
   "cell_type": "code",
   "execution_count": null,
   "id": "adeb5859",
   "metadata": {},
   "outputs": [],
   "source": [
    "from collections import defaultdict"
   ]
  },
  {
   "cell_type": "code",
   "execution_count": null,
   "id": "0c09ffd6",
   "metadata": {},
   "outputs": [],
   "source": [
    "from maatool.lightning.swipe_recognizer import SwipeTransformerRecognizer"
   ]
  },
  {
   "cell_type": "code",
   "execution_count": null,
   "id": "6bc6122d",
   "metadata": {},
   "outputs": [],
   "source": [
    "val_ds = FeatsIterableDatasetV2([f\"ark:data_feats/valid/feats.ark\"], \n",
    "                             targets_rspecifier='ark:exp/bpe500/valid-text.int', \n",
    "                                shuffle=False,\n",
    "                               bos_id=1, \n",
    "                               eos_id=2,\n",
    "                               batch_first=False)\n",
    "val_dataloader = torch.utils.data.DataLoader(val_ds, batch_size=1, collate_fn=val_ds.collate_pad)\n"
   ]
  },
  {
   "cell_type": "code",
   "execution_count": null,
   "id": "b01c0a50",
   "metadata": {},
   "outputs": [],
   "source": [
    "trainer = pl.Trainer(callbacks=[pl.callbacks.TQDMProgressBar(refresh_rate=100)])"
   ]
  },
  {
   "cell_type": "code",
   "execution_count": null,
   "id": "33bfbe21",
   "metadata": {},
   "outputs": [],
   "source": [
    "model = ConformerWithSinPos(feats_dim=37, num_tokens=500, num_decoder_layers=8, num_encoder_layers=8)\n",
    "#v_13_ckpt = 'exp/models/conformer_v1/lightning_logs/version_50454211/checkpoints/epoch=0-step=60000.ckpt'\n",
    "v_15_ckpt = 'exp/models/conformer_v1/lightning_logs/version_50454211/checkpoints/last.ckpt'\n",
    "v_16_ckpt = 'exp/models/conformer_v1/lightning_logs/version_50454211/checkpoints/epoch=1-step=80000.ckpt'"
   ]
  },
  {
   "cell_type": "code",
   "execution_count": null,
   "id": "e59dede4",
   "metadata": {},
   "outputs": [],
   "source": [
    "pl_module = SwipeTransformerRecognizer.load_from_checkpoint(v_15_ckpt,\n",
    "                                                            backbone=model, \n",
    "                                                            map_location='cpu')"
   ]
  },
  {
   "cell_type": "code",
   "execution_count": null,
   "id": "192462e7",
   "metadata": {},
   "outputs": [],
   "source": [
    "result = trainer.test(pl_module, val_dataloader)\n",
    "print(result)"
   ]
  },
  {
   "cell_type": "code",
   "execution_count": null,
   "id": "e789d7a1",
   "metadata": {},
   "outputs": [],
   "source": [
    "pl_module = SwipeTransformerRecognizer.load_from_checkpoint(\n",
    "    #'exp/models/conformer_v1.after/lightning_logs/version_50539866/checkpoints/epoch=3-step=250000.ckpt',\n",
    "    'exp/models/conformer_v1.14/lightning_logs/version_1/checkpoints/epoch=0-step=593.ckpt',\n",
    "                                                            backbone=model, \n",
    "                                                            map_location='cpu')\n",
    "result = trainer.test(pl_module, val_dataloader)\n",
    "print(result)\n",
    "# [{'test_loss': 0.11725163459777832}]"
   ]
  },
  {
   "cell_type": "code",
   "execution_count": null,
   "id": "4f8bd140",
   "metadata": {},
   "outputs": [],
   "source": [
    "def average(model1, model2, w=[0.5, 0.5]):\n",
    "    model_aver = deepcopy(model1)\n",
    "    state_dict2 = model2.state_dict()\n",
    "    for full_param_name, param in model_aver.named_parameters():\n",
    "        param.data = param.data*w[0] + state_dict2[full_param_name] * w[1]\n",
    "    return model_aver\n",
    "#model_aver = average(model_v16, pl_module.backbone)"
   ]
  },
  {
   "cell_type": "code",
   "execution_count": null,
   "id": "c27a2087",
   "metadata": {},
   "outputs": [],
   "source": [
    "def average_many(models, ws=None):\n",
    "    if ws is None:\n",
    "        ws = [1/len(models) for _ in models]\n",
    "    model_aver = deepcopy(models[0])\n",
    "    state_dicts = [m.state_dict() for m in models]\n",
    "    out_state_dict = {}\n",
    "    for full_param_name, param in model_aver.named_parameters():\n",
    "        out_state_dict[full_param_name] = sum(p[full_param_name]*w for w, p in zip(ws, state_dicts)) \n",
    "        param.data *= ws[0]\n",
    "        param.data += sum(p[full_param_name]*w for w, p in zip(ws[1:], state_dicts[1:])) \n",
    "    #print(f'{out_state_dict.keys()=}')\n",
    "    #model_aver.load_state_dict(out_state_dict)\n",
    "    return model_aver"
   ]
  },
  {
   "cell_type": "code",
   "execution_count": null,
   "id": "2bb7f0b3",
   "metadata": {},
   "outputs": [],
   "source": [
    "pl_module = SwipeTransformerRecognizer(backbone=average_many([\n",
    "    SwipeTransformerRecognizer.load_from_checkpoint(ckpt,\n",
    "                                                    backbone=model, \n",
    "                                                    map_location='cpu').backbone\n",
    "    for ckpt in [\"exp/models/conformer_v1.6/lightning_logs/version_50464766/checkpoints/epoch=0-step=5000.ckpt\",\n",
    "                 \"exp/models/conformer_v1.14/lightning_logs/version_1/checkpoints/epoch=0-step=593.ckpt\",\n",
    "                ]    \n",
    "]))  \n",
    "result = trainer.test(pl_module, val_dataloader)\n",
    "print(result)"
   ]
  },
  {
   "cell_type": "code",
   "execution_count": null,
   "id": "fe4688f7",
   "metadata": {},
   "outputs": [],
   "source": [
    "pl_module = SwipeTransformerRecognizer(backbone=average_many([\n",
    "    SwipeTransformerRecognizer.load_from_checkpoint(ckpt,\n",
    "                                                    backbone=model, \n",
    "                                                    map_location='cpu').backbone\n",
    "    for ckpt in [v_15_ckpt, \n",
    "                \"exp/models/conformer_v1.3/lightning_logs/version_50464755/checkpoints/epoch=0-step=14000.ckpt\",\n",
    "                \"exp/models/conformer_v1.7/lightning_logs/version_50464775/checkpoints/epoch=0-step=5000.ckpt\",\n",
    "                \"exp/models/conformer_v1.9/lightning_logs/version_50464786/checkpoints/epoch=0-step=5000.ckpt\",\n",
    "                \"exp/models/conformer_v1.4/lightning_logs/version_50464757/checkpoints/epoch=0-step=5000.ckpt\",\n",
    "                \"exp/models/conformer_v1.2/lightning_logs/version_50463954/checkpoints/epoch=0-step=10000.ckpt.b\"\n",
    "                ]\n",
    "    \n",
    "])) \n",
    "trainer = pl.Trainer(callbacks=[pl.callbacks.TQDMProgressBar(refresh_rate=100)])\n",
    "result = trainer.test(pl_module, val_dataloader)\n",
    "print(result)"
   ]
  },
  {
   "cell_type": "code",
   "execution_count": null,
   "id": "58c0e26a",
   "metadata": {},
   "outputs": [],
   "source": [
    "def average_state_dicts(models, ws=None):\n",
    "    with torch.no_grad():\n",
    "        if ws is None:\n",
    "            ws = [1/len(models) for _ in models]\n",
    "        state_dicts = [m.state_dict() for m in models]\n",
    "        out_state_dict = {}\n",
    "        for full_param_name in state_dicts[0].keys():\n",
    "            out_state_dict[full_param_name] = sum(p[full_param_name]*w for w, p in zip(ws, state_dicts)) \n",
    "       \n",
    "        #print(f'{out_state_dict.keys()=}')\n",
    "        model_aver = ConformerWithSinPos(feats_dim=37, num_tokens=500, num_decoder_layers=8, num_encoder_layers=8)\n",
    "        model_aver.load_state_dict(out_state_dict)\n",
    "    return model_aver"
   ]
  },
  {
   "cell_type": "code",
   "execution_count": null,
   "id": "eb0e1955",
   "metadata": {},
   "outputs": [],
   "source": [
    "pl_module = SwipeTransformerRecognizer(backbone=average_state_dicts([\n",
    "    SwipeTransformerRecognizer.load_from_checkpoint(ckpt,\n",
    "                                                    backbone=model, \n",
    "                                                    map_location='cpu').eval().backbone\n",
    "    for ckpt in [v_15_ckpt, \n",
    "                \"exp/models/conformer_v1.7/lightning_logs/version_50464775/checkpoints/last.ckpt.b\"]\n",
    "]))\n",
    "result = trainer.test(pl_module, val_dataloader)\n",
    "print(result)"
   ]
  },
  {
   "cell_type": "code",
   "execution_count": null,
   "id": "21bb1a00",
   "metadata": {},
   "outputs": [],
   "source": [
    "result = trainer.test(pl_module, val_dataloader)\n",
    "print(result)\n",
    "# [{'test_loss': 0.15845882892608643}]\n",
    "# 'test_loss': 0.14765197038650513 - model_v15\n",
    "# 'test_loss': 0.14764617383480072 - conformer_v1.3 - epoch=0-step=1000.ckpt.b\n",
    "# 'test_loss':  0.14889037609100342 - conformer_v1.7 - epoch=0-step=2000.ckpt # 0.14889037609100342\n",
    "# [{'test_loss': 0.13205789029598236}] - model_v15 + conformer_v1.7.2000 - submit_v16\n",
    "# {'test_loss': 0.1533224731683731} - train_conformer_v1.12.py\n",
    "# {'test_loss': 0.1533845216035843} - model_v15 + conformer_v1.3.4000\n",
    "# {'test_loss': 0.1480194628238678} - model_v15 + conformer_v1.4.5000\n",
    "# 'test_loss': 0.147256538271904 - model_v15 + conformer_v1.5.5000\n",
    "# {'test_loss': 0.1440354734659195} - model_v15 + conformer_v1.6.5000\n",
    "# 'test_loss': 0.14874745905399323 - model_v15 + conformer_v1.8.5000\n",
    "# [{'test_loss': 0.13458091020584106}] model_v15_2epoch\n",
    "# [{'test_loss': 0.11725163459777832}] - epoch=3-step=250000.ckpt\n",
    "# "
   ]
  },
  {
   "cell_type": "code",
   "execution_count": null,
   "id": "d2837909",
   "metadata": {},
   "outputs": [],
   "source": [
    "import sentencepiece as spm\n",
    "import math\n",
    "from collections import defaultdict\n",
    "tokenizer = spm.SentencePieceProcessor('exp/bpe500/model.model')\n"
   ]
  },
  {
   "cell_type": "code",
   "execution_count": null,
   "id": "890b1427",
   "metadata": {},
   "outputs": [],
   "source": [
    "topk=20"
   ]
  },
  {
   "cell_type": "code",
   "execution_count": null,
   "id": "167138b1",
   "metadata": {},
   "outputs": [],
   "source": [
    "utt2words, utt2logs = pl_module.cuda().predict_topk(val_dataloader, tokenizer=tokenizer, topk=topk, device='cuda')"
   ]
  },
  {
   "cell_type": "code",
   "execution_count": null,
   "id": "9103af7b",
   "metadata": {},
   "outputs": [],
   "source": [
    "def accuracy(ref_u2w, hyp_u2w):\n",
    "    corr = 0\n",
    "    err = 0\n",
    "    total = len(ref_u2w)\n",
    "    for u, ref in tqdm(ref_u2w.items()):\n",
    "        hyp = hyp_u2w[u].strip('-')\n",
    "        if ref != hyp:\n",
    "            print(ref, hyp)\n",
    "            err +=1\n",
    "        else:\n",
    "            corr +=1\n",
    "    a = corr/total\n",
    "    print(f\"{total=} {corr=} {err=}, accuracy: {a}\")\n",
    "    return a\n",
    "\n",
    "with open('data_feats/valid/text') as f:\n",
    "    valid_ref_u2w = {u:w for u, w in   map(str.split, f.readlines())}\n",
    "    "
   ]
  },
  {
   "cell_type": "code",
   "execution_count": null,
   "id": "e02a81bd",
   "metadata": {},
   "outputs": [],
   "source": [
    "with open('./data/voc.txt') as f:\n",
    "    vocab = frozenset(s for s in map(str.strip, f.readlines()))"
   ]
  },
  {
   "cell_type": "code",
   "execution_count": null,
   "id": "bcfd3a42",
   "metadata": {},
   "outputs": [],
   "source": [
    "def limit_vocab(u2w, vocab=vocab):\n",
    "    lv = {}\n",
    "    for k, v in u2w.items():\n",
    "        corr_w = []\n",
    "        for w in v:\n",
    "            if w in vocab:\n",
    "                corr_w.append(w)\n",
    "        if len(corr_w) == 0: \n",
    "            logging.warning(f\"{k=} doesn't have any vocab hyp. {v=}\")\n",
    "            corr_w = ['-']\n",
    "        lv[k] = corr_w\n",
    "    return lv\n"
   ]
  },
  {
   "cell_type": "code",
   "execution_count": null,
   "id": "a6abccee",
   "metadata": {},
   "outputs": [],
   "source": [
    "print(accuracy(valid_ref_u2w, {k:v[0] for k,v in utt2words.items()}))\n"
   ]
  },
  {
   "cell_type": "code",
   "execution_count": null,
   "id": "e5ef9a62",
   "metadata": {},
   "outputs": [],
   "source": [
    "utt2words_lv = limit_vocab(utt2words)\n",
    "print(accuracy(valid_ref_u2w, {k:v[0] for k,v in utt2words_lv.items()}))\n",
    "# v15 - total=10000 corr=8887 err=1113, accuracy: 0.8887\n",
    "# epoch=3-step=250000.ckpt - total=10000 corr=9060 err=940, accuracy: 0.906"
   ]
  },
  {
   "cell_type": "code",
   "execution_count": null,
   "id": "1cee1262",
   "metadata": {},
   "outputs": [],
   "source": []
  }
 ],
 "metadata": {
  "kernelspec": {
   "display_name": "Python 3 (ipykernel)",
   "language": "python",
   "name": "python3"
  },
  "language_info": {
   "codemirror_mode": {
    "name": "ipython",
    "version": 3
   },
   "file_extension": ".py",
   "mimetype": "text/x-python",
   "name": "python",
   "nbconvert_exporter": "python",
   "pygments_lexer": "ipython3",
   "version": "3.9.16"
  }
 },
 "nbformat": 4,
 "nbformat_minor": 5
}
