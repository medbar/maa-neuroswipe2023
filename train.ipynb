{
 "cells": [
  {
   "cell_type": "code",
   "execution_count": null,
   "id": "bae784af",
   "metadata": {},
   "outputs": [],
   "source": [
    "%load_ext autoreload\n",
    "%autoreload 2"
   ]
  },
  {
   "cell_type": "code",
   "execution_count": null,
   "id": "95781d83",
   "metadata": {},
   "outputs": [],
   "source": [
    "import torch\n",
    "import numpy as np\n",
    "import random\n",
    "from torch import nn\n",
    "from glob import glob\n",
    "from tqdm.auto import tqdm\n",
    "torch.cuda.is_available()"
   ]
  },
  {
   "cell_type": "code",
   "execution_count": null,
   "id": "215a0877",
   "metadata": {},
   "outputs": [],
   "source": [
    "from maatool.data.feats_itdataset import FeatsIterableDataset\n",
    "from maatool.models.transformer_encoder import TransformerEncoderWithPosEncoding\n",
    "from maatool.models.cnn_transformer_encoder import CNNTransformerEncoderWithPosEncoding"
   ]
  },
  {
   "cell_type": "code",
   "execution_count": null,
   "id": "a6420220",
   "metadata": {},
   "outputs": [],
   "source": [
    "import pytorch_lightning as pl "
   ]
  },
  {
   "cell_type": "code",
   "execution_count": null,
   "id": "55476934",
   "metadata": {},
   "outputs": [],
   "source": [
    "import logging\n",
    "import logging.config\n",
    "\n",
    "def configure_logging(log_level):\n",
    "    handlers =  {\n",
    "            \"maa\": {\n",
    "                \"class\": \"logging.StreamHandler\",\n",
    "                \"formatter\": \"maa_basic\",\n",
    "                \"stream\": \"ext://sys.stdout\",\n",
    "            }\n",
    "    }\n",
    "    CONFIG = {\n",
    "        \"version\": 1,\n",
    "        \"disable_existing_loggers\": False,\n",
    "        \"formatters\": {\"maa_basic\": {\"format\": '%(asctime)s %(name)s %(pathname)s:%(lineno)d - %(levelname)s - %(message)s'}},\n",
    "        \"handlers\": handlers,\n",
    "        \"loggers\": {\"maa\": {\"handlers\": handlers.keys(), \"level\": log_level}},\n",
    "        \"root\": {\"handlers\": handlers.keys(), \"level\": log_level}\n",
    "    }\n",
    "    logging.config.dictConfig(CONFIG)\n",
    "configure_logging(\"INFO\")"
   ]
  },
  {
   "cell_type": "code",
   "execution_count": null,
   "id": "1d674be9",
   "metadata": {},
   "outputs": [],
   "source": [
    "torch.distributed.is_initialized()"
   ]
  },
  {
   "cell_type": "code",
   "execution_count": null,
   "id": "138a6445",
   "metadata": {},
   "outputs": [],
   "source": [
    "def set_random_seed(seed):\n",
    "    if seed < 0:\n",
    "        seed = seed_from_time()\n",
    "    random.seed(seed)\n",
    "    np.random.seed(seed)\n",
    "    torch.random.manual_seed(seed)\n",
    "set_random_seed(42)\n",
    "\n",
    "class SwipeRecognizer(pl.LightningModule):\n",
    "    def __init__(self, backbone, learning_rate=1e-4, speed=42):\n",
    "        super().__init__()\n",
    "        self.save_hyperparameters(ignore=['backbone'])\n",
    "        self.backbone = backbone\n",
    "        self.ctc_loss = nn.CTCLoss()\n",
    "        set_random_seed(speed)\n",
    "\n",
    "    def forward(self, x, **kwargs):\n",
    "        embedding = self.backbone(x, **kwargs)\n",
    "        return embedding\n",
    "    \n",
    "    def get_loss(self, batch):\n",
    "        logits = torch.nn.functional.log_softmax(self.backbone(**batch), dim=-1) # (Time, Batch, C)\n",
    "        T, N, C = logits.shape\n",
    "        #print(logits.shape)\n",
    "        targets = batch['targets'] # (SumTime, )\n",
    "        #if logits.device is torch.device('cuda'):\n",
    "        if False:\n",
    "            print('Cuda')\n",
    "            input_lens = torch.full(size=(N,), fill_value=T, dtype=torch.int32, device=logits.device)\n",
    "            targets_lens = batch['targets_len'].to(torch.int32)\n",
    "            targets = targets.to(torch.int32)\n",
    "        else:\n",
    "        #input_lens = torch.full((logits.shape[1],), logits.shape[0], dtype=torch.long, device=logits.device)\n",
    "        #input_lens = batch['feats_len']\n",
    "            input_lens = torch.full(size=(N,), fill_value=T, dtype=torch.long, device='cpu')\n",
    "            targets_lens = batch['targets_len'].cpu()\n",
    "            logits = logits.cpu()\n",
    "            targets = targets.cpu()\n",
    "        #print(logits, logits.dtype)\n",
    "        #print(targets, targets.dtype)\n",
    "        #print(input_lens, input_lens.dtype)\n",
    "        #print(targets_lens, targets_lens.dtype)\n",
    "        #return self.ctc_loss(logits.cpu(), targets.cpu(), input_lens.cpu(), targets_lens.cpu())\n",
    "        return self.ctc_loss(logits, targets, input_lens, targets_lens)\n",
    "\n",
    "        \n",
    "    def training_step(self, batch, batch_idx):\n",
    "        loss = self.get_loss(batch)\n",
    "        self.log('train_loss', loss, on_epoch=True, prog_bar=True,  batch_size=batch['feats'].shape[1])\n",
    "        return loss\n",
    "\n",
    "    def validation_step(self, batch, batch_idx):\n",
    "        loss = self.get_loss(batch)\n",
    "        self.log('valid_loss', loss, on_step=True,  batch_size=batch['feats'].shape[1])\n",
    "\n",
    "    def test_step(self, batch, batch_idx):\n",
    "        loss = self.get_loss(batch)\n",
    "        self.log('test_loss', loss,  batch_size=batch['feats'].shape[1])\n",
    "\n",
    "    def configure_optimizers(self):\n",
    "        # self.hparams available because we called self.save_hyperparameters()\n",
    "        return torch.optim.Adam(self.parameters(), lr=self.hparams.learning_rate)\n",
    "\n",
    "    @staticmethod\n",
    "    def add_model_specific_args(parent_parser):\n",
    "        parser = ArgumentParser(parents=[parent_parser], add_help=False)\n",
    "        parser.add_argument('--learning_rate', type=float, default=0.0001)\n",
    "        return parser\n"
   ]
  },
  {
   "cell_type": "code",
   "execution_count": null,
   "id": "aa615a99",
   "metadata": {},
   "outputs": [],
   "source": [
    "train_ds = FeatsIterableDataset([f\"ark:{f}\" for f in sorted(glob(\"data_feats/train/feats.*.ark\"))],\n",
    "                                targets_rspecifier='ark:exp/bpe500/train-text.int.ark', shuffle=True)\n",
    "\n",
    "# train_ds = val_ds\n",
    "#\n",
    "# 35799.91it/s - txt format\n",
    "# vs\n",
    "# 136753.6it/s - ark format"
   ]
  },
  {
   "cell_type": "code",
   "execution_count": null,
   "id": "8439ff4d",
   "metadata": {},
   "outputs": [],
   "source": [
    "val_ds = FeatsIterableDataset([f\"ark:data_feats/valid/feats.ark\"], \n",
    "                             targets_rspecifier='ark:exp/bpe500/valid-text.int', shuffle=False)"
   ]
  },
  {
   "cell_type": "code",
   "execution_count": null,
   "id": "f1611505",
   "metadata": {},
   "outputs": [],
   "source": [
    "train_dataloader = torch.utils.data.DataLoader(train_ds, batch_size=24, collate_fn=train_ds.collate, \n",
    "                                                num_workers=8)\n",
    "val_dataloader = torch.utils.data.DataLoader(val_ds, batch_size=1, collate_fn=val_ds.collate)"
   ]
  },
  {
   "cell_type": "code",
   "execution_count": null,
   "id": "57df4a8c",
   "metadata": {},
   "outputs": [],
   "source": [
    "%%time\n",
    "for b in tqdm(val_dataloader):\n",
    "    pass\n",
    "print(\"Done\")"
   ]
  },
  {
   "cell_type": "code",
   "execution_count": null,
   "id": "adea83f2",
   "metadata": {},
   "outputs": [],
   "source": [
    "val2 = torch.utils.data.DataLoader(FeatsIterableDataset([f\"ark:data_feats/valid/feats.ark\"], \n",
    "                             targets_rspecifier='ark:exp/bpe500/valid-text.int', shuffle=False), batch_size=1, collate_fn=val_ds.collate)"
   ]
  },
  {
   "cell_type": "code",
   "execution_count": null,
   "id": "482debd4",
   "metadata": {},
   "outputs": [],
   "source": [
    "%%time\n",
    "for b in tqdm(val2):\n",
    "    pass\n",
    "print(\"Done\")"
   ]
  },
  {
   "cell_type": "code",
   "execution_count": null,
   "id": "a9a2d250",
   "metadata": {},
   "outputs": [],
   "source": [
    "!rm -rf lightning_logs/version_50357073/\n",
    "\n",
    "trainer = pl.Trainer(max_epochs=4, log_every_n_steps=400, reload_dataloaders_every_n_epochs=1,\n",
    "                    default_root_dir='exp/models/ctc_trans',\n",
    "                    callbacks=[pl.callbacks.TQDMProgressBar(refresh_rate=100),\n",
    "                              pl.callbacks.ModelCheckpoint(every_n_train_steps=20000,\n",
    "                                                          save_last=True)],\n",
    "                    accumulate_grad_batches=4)\n",
    "\n",
    "\n",
    "\n"
   ]
  },
  {
   "cell_type": "code",
   "execution_count": null,
   "id": "1a6d3b4c",
   "metadata": {},
   "outputs": [],
   "source": [
    "model = TransformerEncoderWithPosEncoding(feats_dim=37, out_dim=500, num_layers=10, dim=512, ff_dim=1024)\n",
    "pl_module = SwipeRecognizer(backbone=model)\n",
    "\n"
   ]
  },
  {
   "cell_type": "code",
   "execution_count": null,
   "id": "be55b54c",
   "metadata": {},
   "outputs": [],
   "source": [
    "trainer.fit(pl_module, train_dataloader, val_dataloader, ckpt_path='exp/models/ctc_trans/lightning_logs/version_50393985/checkpoints/last.ckpt')"
   ]
  },
  {
   "cell_type": "code",
   "execution_count": null,
   "id": "8fba3dc4",
   "metadata": {},
   "outputs": [],
   "source": [
    "trainer"
   ]
  },
  {
   "cell_type": "code",
   "execution_count": null,
   "id": "a5efdd54",
   "metadata": {},
   "outputs": [],
   "source": [
    "result = trainer.test(pl_module, val_dataloader)\n",
    "print(result)"
   ]
  },
  {
   "cell_type": "code",
   "execution_count": null,
   "id": "a1e82d3f",
   "metadata": {},
   "outputs": [],
   "source": [
    "import sentencepiece as spm\n"
   ]
  },
  {
   "cell_type": "code",
   "execution_count": null,
   "id": "edac23cb",
   "metadata": {},
   "outputs": [],
   "source": [
    "tokenizer = spm.SentencePieceProcessor('exp/bpe500/model.model')"
   ]
  },
  {
   "cell_type": "code",
   "execution_count": null,
   "id": "b3728616",
   "metadata": {},
   "outputs": [],
   "source": [
    "tokenizer.decode([[10, 11, 12], [12, 13, 15]])"
   ]
  },
  {
   "cell_type": "code",
   "execution_count": null,
   "id": "af25f345",
   "metadata": {},
   "outputs": [],
   "source": [
    "def predict(dl):\n",
    "    utt2word={}\n",
    "    pbar = tqdm(dl)\n",
    "    for batch in pbar:\n",
    "        batched_idx = pl_module.backbone(**batch).argmax(dim=-1).T # (Batch, Time)\n",
    "        for uid, indices in zip(batch['uids'], batched_idx):\n",
    "            indices = torch.unique_consecutive(indices, dim=-1).tolist()\n",
    "            #print(indices)\n",
    "            indices = [i for i in indices if i != 0]\n",
    "            joined = tokenizer.decode(indices)\n",
    "            pbar.set_description(f\"{joined}\", refresh=False)\n",
    "            utt2word[uid] = joined\n",
    "    return utt2word"
   ]
  },
  {
   "cell_type": "code",
   "execution_count": null,
   "id": "dcd9413f",
   "metadata": {},
   "outputs": [],
   "source": [
    "utt2word = predict(val_dataloader)\n",
    "with open('data_feats/valid/text') as f:\n",
    "    ref_utt2w = {u:w for u, w in   map(str.split, f.readlines())}\n",
    "    "
   ]
  },
  {
   "cell_type": "code",
   "execution_count": null,
   "id": "a800f1ec",
   "metadata": {},
   "outputs": [],
   "source": [
    "corr = 0\n",
    "err = 0\n",
    "total = len(ref_utt2w)\n",
    "for u, ref in tqdm(ref_utt2w.items()):\n",
    "    hyp = utt2word[u].strip('-')\n",
    "    if ref != hyp:\n",
    "        print(ref, hyp)\n",
    "        err +=1\n",
    "    else:\n",
    "        corr +=1\n",
    "\n",
    "print(f\"{total=} {corr=} {err=}, accuracy: {corr/total}\")\n",
    "    "
   ]
  },
  {
   "cell_type": "code",
   "execution_count": null,
   "id": "edd03a6f",
   "metadata": {},
   "outputs": [],
   "source": [
    "7630/10000"
   ]
  },
  {
   "cell_type": "code",
   "execution_count": null,
   "id": "125bd263",
   "metadata": {},
   "outputs": [],
   "source": [
    "test_ds =  FeatsIterableDataset([f\"ark:data_feats/test/feats.ark\"], shuffle=False)\n",
    "test_dataloader = torch.utils.data.DataLoader(test_ds, batch_size=1, collate_fn=test_ds.collate)\n",
    "test_u2w = predict(test_dataloader)"
   ]
  },
  {
   "cell_type": "code",
   "execution_count": null,
   "id": "21b04742",
   "metadata": {},
   "outputs": [],
   "source": [
    "test_u2w"
   ]
  },
  {
   "cell_type": "code",
   "execution_count": null,
   "id": "247396a4",
   "metadata": {},
   "outputs": [],
   "source": [
    "import pandas as pd"
   ]
  },
  {
   "cell_type": "code",
   "execution_count": null,
   "id": "ec2a9011",
   "metadata": {},
   "outputs": [],
   "source": [
    "baseline_result = pd.read_csv('keyboard_start/result/baseline.csv', sep=',', names=['main', 'second', 'third', 'trash'])\n",
    "baseline_result['uid'] = [f'test-{i}' for i in range(len(baseline_result))]\n",
    "baseline_result.head()"
   ]
  },
  {
   "cell_type": "code",
   "execution_count": null,
   "id": "1d399dda",
   "metadata": {},
   "outputs": [],
   "source": [
    "baseline_result['ctc_predict'] = baseline_result.uid.apply(lambda x: test_u2w[x].strip('-'))\n",
    "baseline_result.head()"
   ]
  },
  {
   "cell_type": "code",
   "execution_count": null,
   "id": "3393112a",
   "metadata": {},
   "outputs": [],
   "source": [
    "rows = []\n",
    "\n",
    "for i, row in baseline_result.iterrows():\n",
    "    old_main = row['main']\n",
    "    new_main = row['ctc_predict']\n",
    "    if new_main != old_main:\n",
    "        new_s = old_main\n",
    "        new_th = row['second']\n",
    "        new_tr = row['third']\n",
    "    else:\n",
    "        new_s = row['second']\n",
    "        new_th = row['third']\n",
    "        new_tr = row['trash']\n",
    "    rows.append({\"main\": new_main,\n",
    "                \"second\": new_s,\n",
    "                \"third\": new_th,\n",
    "                \"trash\": new_tr})\n",
    "        \n",
    "submission = pd.DataFrame(rows)\n",
    "submission.head()\n"
   ]
  },
  {
   "cell_type": "code",
   "execution_count": null,
   "id": "e0cfb4b5",
   "metadata": {},
   "outputs": [],
   "source": [
    "submission.to_csv(\"exp/models/ctc_trans/lightning_logs/version_50422251/test_submit.v1.csv\", \n",
    "                  sep=',', header=False, index=False)"
   ]
  },
  {
   "cell_type": "code",
   "execution_count": null,
   "id": "21944df7",
   "metadata": {},
   "outputs": [],
   "source": [
    "[f\"scp:data_feats/valid/feats.scp\"]"
   ]
  },
  {
   "cell_type": "code",
   "execution_count": null,
   "id": "83daa8d2",
   "metadata": {},
   "outputs": [],
   "source": []
  }
 ],
 "metadata": {
  "kernelspec": {
   "display_name": "Python 3 (ipykernel)",
   "language": "python",
   "name": "python3"
  },
  "language_info": {
   "codemirror_mode": {
    "name": "ipython",
    "version": 3
   },
   "file_extension": ".py",
   "mimetype": "text/x-python",
   "name": "python",
   "nbconvert_exporter": "python",
   "pygments_lexer": "ipython3",
   "version": "3.9.16"
  }
 },
 "nbformat": 4,
 "nbformat_minor": 5
}
